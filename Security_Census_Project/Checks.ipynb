{
 "cells": [
  {
   "cell_type": "code",
   "execution_count": 1,
   "id": "cd663bbb",
   "metadata": {},
   "outputs": [
    {
     "name": "stdout",
     "output_type": "stream",
     "text": [
      "Setup complete.\n"
     ]
    }
   ],
   "source": [
    "from Score_Setup import *"
   ]
  },
  {
   "cell_type": "code",
   "execution_count": 2,
   "id": "c7982e41",
   "metadata": {},
   "outputs": [
    {
     "data": {
      "text/plain": [
       "Index(['Unnamed: 0', 'Grouping', 'name', 'score', 'binary-artifacts',\n",
       "       'branch-protection', 'ci-tests', 'cii-best-practices', 'code-review',\n",
       "       'contributors', 'dangerous-workflow', 'dependency-update-tool',\n",
       "       'fuzzing', 'license', 'maintained', 'packaging', 'pinned-dependencies',\n",
       "       'sast', 'security-policy', 'signed-releases', 'token-permissions',\n",
       "       'vulnerabilities'],\n",
       "      dtype='object')"
      ]
     },
     "execution_count": 2,
     "metadata": {},
     "output_type": "execute_result"
    }
   ],
   "source": [
    "alldf.columns"
   ]
  },
  {
   "cell_type": "code",
   "execution_count": 142,
   "id": "83d1c3f7",
   "metadata": {},
   "outputs": [],
   "source": [
    "bin_art = alldf['binary-artifacts']\n",
    "bran_pro = alldf['branch-protection']\n",
    "ci_test = alldf['ci-tests']\n",
    "cii_best = alldf['cii-best-practices']\n",
    "code_rev = alldf['code-review']\n",
    "contrib = alldf['contributors']\n",
    "dang_work = alldf['dangerous-workflow']\n",
    "dep_update = alldf['dependency-update-tool']\n",
    "fuzz = alldf['fuzzing']\n",
    "license = alldf['license']\n",
    "maintained = alldf['maintained']\n",
    "packaging = alldf['packaging']\n",
    "pinned_dep = alldf['pinned-dependencies']\n",
    "sast = alldf['sast']\n",
    "sec_pol = alldf['security-policy']\n",
    "signed_rel = alldf['signed-releases']\n",
    "token_perm = alldf['token-permissions']\n",
    "vuln = alldf['vulnerabilities']"
   ]
  },
  {
   "cell_type": "code",
   "execution_count": 126,
   "id": "2bb9d434",
   "metadata": {},
   "outputs": [],
   "source": [
    "checks = ['bin_art', 'bran_pro', 'ci_test', 'cii_best', 'code_rev', 'contrib', 'dang_work', 'dep_update', 'fuzz', 'license', 'maintained', 'packaging', 'pinned_dep', 'sast', 'sec_pol', 'signed_rel', 'token_perm', 'vulns']"
   ]
  },
  {
   "cell_type": "code",
   "execution_count": 143,
   "id": "acb47281",
   "metadata": {},
   "outputs": [],
   "source": [
    "pys_bin_art = pys['binary-artifacts']\n",
    "pys_bran_pro = pys['branch-protection']\n",
    "pys_ci_test = pys['ci-tests']\n",
    "pys_cii_best = pys['cii-best-practices']\n",
    "pys_code_rev = pys['code-review']\n",
    "pys_contrib = pys['contributors']\n",
    "pys_dang_work = pys['dangerous-workflow']\n",
    "pys_dep_update = pys['dependency-update-tool']\n",
    "pys_fuzz = pys['fuzzing']\n",
    "pys_license = pys['license']\n",
    "pys_maintained = pys['maintained']\n",
    "pys_packaging = pys['packaging']\n",
    "pys_pinned_dep = pys['pinned-dependencies']\n",
    "pys_sast = pys['sast']\n",
    "pys_sec_pol = pys['security-policy']\n",
    "pys_signed_rel = pys['signed-releases']\n",
    "pys_token_perm = pys['token-permissions']\n",
    "pys_vuln = pys['vulnerabilities']"
   ]
  },
  {
   "cell_type": "code",
   "execution_count": 144,
   "id": "d47a6382",
   "metadata": {},
   "outputs": [],
   "source": [
    "jss_bin_art = jss['binary-artifacts']\n",
    "jss_bran_pro = jss['branch-protection']\n",
    "jss_ci_test = jss['ci-tests']\n",
    "jss_cii_best = jss['cii-best-practices']\n",
    "jss_code_rev = jss['code-review']\n",
    "jss_contrib = jss['contributors']\n",
    "jss_dang_work = jss['dangerous-workflow']\n",
    "jss_dep_update = jss['dependency-update-tool']\n",
    "jss_fuzz = jss['fuzzing']\n",
    "jss_license = jss['license']\n",
    "jss_maintained = jss['maintained']\n",
    "jss_packaging = jss['packaging']\n",
    "jss_pinned_dep = jss['pinned-dependencies']\n",
    "jss_sast = jss['sast']\n",
    "jss_sec_pol = jss['security-policy']\n",
    "jss_signed_rel = jss['signed-releases']\n",
    "jss_token_perm = jss['token-permissions']\n",
    "jss_vuln = jss['vulnerabilities']"
   ]
  },
  {
   "cell_type": "code",
   "execution_count": 145,
   "id": "81cafbfc",
   "metadata": {},
   "outputs": [],
   "source": [
    "founds_bin_art = founds['binary-artifacts']\n",
    "founds_bran_pro = founds['branch-protection']\n",
    "founds_ci_test = founds['ci-tests']\n",
    "founds_cii_best = founds['cii-best-practices']\n",
    "founds_code_rev = founds['code-review']\n",
    "founds_contrib = founds['contributors']\n",
    "founds_dang_work = founds['dangerous-workflow']\n",
    "founds_dep_update = founds['dependency-update-tool']\n",
    "founds_fuzz = founds['fuzzing']\n",
    "founds_license = founds['license']\n",
    "founds_maintained = founds['maintained']\n",
    "founds_packaging = founds['packaging']\n",
    "founds_pinned_dep = founds['pinned-dependencies']\n",
    "founds_sast = founds['sast']\n",
    "founds_sec_pol = founds['security-policy']\n",
    "founds_signed_rel = founds['signed-releases']\n",
    "founds_token_perm = founds['token-permissions']\n",
    "founds_vuln = founds['vulnerabilities']"
   ]
  },
  {
   "cell_type": "code",
   "execution_count": 146,
   "id": "a441491b",
   "metadata": {},
   "outputs": [],
   "source": [
    "corps_bin_art = corps['binary-artifacts']\n",
    "corps_bran_pro = corps['branch-protection']\n",
    "corps_ci_test = corps['ci-tests']\n",
    "corps_cii_best = corps['cii-best-practices']\n",
    "corps_code_rev = corps['code-review']\n",
    "corps_contrib = corps['contributors']\n",
    "corps_dang_work = corps['dangerous-workflow']\n",
    "corps_dep_update = corps['dependency-update-tool']\n",
    "corps_fuzz = corps['fuzzing']\n",
    "corps_license = corps['license']\n",
    "corps_maintained = corps['maintained']\n",
    "corps_packaging = corps['packaging']\n",
    "corps_pinned_dep = corps['pinned-dependencies']\n",
    "corps_sast = corps['sast']\n",
    "corps_sec_pol = corps['security-policy']\n",
    "corps_signed_rel = corps['signed-releases']\n",
    "corps_token_perm = corps['token-permissions']\n",
    "corps_vuln = corps['vulnerabilities']"
   ]
  },
  {
   "cell_type": "code",
   "execution_count": 147,
   "id": "6db60675",
   "metadata": {},
   "outputs": [],
   "source": [
    "bin_art = alldf['binary-artifacts']\n",
    "bran_pro = alldf['branch-protection']\n",
    "ci_test = alldf['ci-tests']\n",
    "cii_best = alldf['cii-best-practices']\n",
    "code_rev = alldf['code-review']\n",
    "contrib = alldf['contributors']\n",
    "dang_work = alldf['dangerous-workflow']\n",
    "dep_update = alldf['dependency-update-tool']\n",
    "fuzz = alldf['fuzzing']\n",
    "license = alldf['license']\n",
    "maintained = alldf['maintained']\n",
    "packaging = alldf['packaging']\n",
    "pinned_dep = alldf['pinned-dependencies']\n",
    "sast = alldf['sast']\n",
    "sec_pol = alldf['security-policy']\n",
    "signed_rel = alldf['signed-releases']\n",
    "token_perm = alldf['token-permissions']\n",
    "vuln = alldf['vulnerabilities']"
   ]
  },
  {
   "cell_type": "code",
   "execution_count": 148,
   "id": "5d2e3ced",
   "metadata": {},
   "outputs": [],
   "source": [
    "microsoft_bin_art = alldf[alldf['Grouping']=='Microsoft']['binary-artifacts']\n",
    "microsoft_bran_pro = alldf[alldf['Grouping']=='Microsoft']['branch-protection']\n",
    "microsoft_ci_test = alldf[alldf['Grouping']=='Microsoft']['ci-tests']\n",
    "microsoft_cii_best = alldf[alldf['Grouping']=='Microsoft']['cii-best-practices']\n",
    "microsoft_code_rev = alldf[alldf['Grouping']=='Microsoft']['code-review']\n",
    "microsoft_contrib = alldf[alldf['Grouping']=='Microsoft']['contributors']\n",
    "microsoft_dang_work = alldf[alldf['Grouping']=='Microsoft']['dangerous-workflow']\n",
    "microsoft_dep_update = alldf[alldf['Grouping']=='Microsoft']['dependency-update-tool']\n",
    "microsoft_fuzz = alldf[alldf['Grouping']=='Microsoft']['fuzzing']\n",
    "microsoft_license = alldf[alldf['Grouping']=='Microsoft']['license']\n",
    "microsoft_maintained = alldf[alldf['Grouping']=='Microsoft']['maintained']\n",
    "microsoft_packaging = alldf[alldf['Grouping']=='Microsoft']['packaging']\n",
    "microsoft_pinned_dep = alldf[alldf['Grouping']=='Microsoft']['pinned-dependencies']\n",
    "microsoft_sast = alldf[alldf['Grouping']=='Microsoft']['sast']\n",
    "microsoft_sec_pol = alldf[alldf['Grouping']=='Microsoft']['security-policy']\n",
    "microsoft_signed_rel = alldf[alldf['Grouping']=='Microsoft']['signed-releases']\n",
    "microsoft_token_perm = alldf[alldf['Grouping']=='Microsoft']['token-permissions']\n",
    "microsoft_vuln = alldf[alldf['Grouping']=='Microsoft']['vulnerabilities']"
   ]
  },
  {
   "cell_type": "code",
   "execution_count": 149,
   "id": "d44296e8",
   "metadata": {},
   "outputs": [],
   "source": [
    "ibm_bin_art = alldf[alldf['Grouping']=='IBM']['binary-artifacts']\n",
    "ibm_bran_pro = alldf[alldf['Grouping']=='IBM']['branch-protection']\n",
    "ibm_ci_test = alldf[alldf['Grouping']=='IBM']['ci-tests']\n",
    "ibm_cii_best = alldf[alldf['Grouping']=='IBM']['cii-best-practices']\n",
    "ibm_code_rev = alldf[alldf['Grouping']=='IBM']['code-review']\n",
    "ibm_contrib = alldf[alldf['Grouping']=='IBM']['contributors']\n",
    "ibm_dang_work = alldf[alldf['Grouping']=='IBM']['dangerous-workflow']\n",
    "ibm_dep_update = alldf[alldf['Grouping']=='IBM']['dependency-update-tool']\n",
    "ibm_fuzz = alldf[alldf['Grouping']=='IBM']['fuzzing']\n",
    "ibm_license = alldf[alldf['Grouping']=='IBM']['license']\n",
    "ibm_maintained = alldf[alldf['Grouping']=='IBM']['maintained']\n",
    "ibm_packaging = alldf[alldf['Grouping']=='IBM']['packaging']\n",
    "ibm_pinned_dep = alldf[alldf['Grouping']=='IBM']['pinned-dependencies']\n",
    "ibm_sast = alldf[alldf['Grouping']=='IBM']['sast']\n",
    "ibm_sec_pol = alldf[alldf['Grouping']=='IBM']['security-policy']\n",
    "ibm_signed_rel = alldf[alldf['Grouping']=='IBM']['signed-releases']\n",
    "ibm_token_perm = alldf[alldf['Grouping']=='IBM']['token-permissions']\n",
    "ibm_vuln = alldf[alldf['Grouping']=='IBM']['vulnerabilities']"
   ]
  },
  {
   "cell_type": "code",
   "execution_count": 150,
   "id": "7a21a110",
   "metadata": {},
   "outputs": [],
   "source": [
    "samsung_bin_art = alldf[alldf['Grouping']=='Samsung']['binary-artifacts']\n",
    "samsung_bran_pro = alldf[alldf['Grouping']=='Samsung']['branch-protection']\n",
    "samsung_ci_test = alldf[alldf['Grouping']=='Samsung']['ci-tests']\n",
    "samsung_cii_best = alldf[alldf['Grouping']=='Samsung']['cii-best-practices']\n",
    "samsung_code_rev = alldf[alldf['Grouping']=='Samsung']['code-review']\n",
    "samsung_contrib = alldf[alldf['Grouping']=='Samsung']['contributors']\n",
    "samsung_dang_work = alldf[alldf['Grouping']=='Samsung']['dangerous-workflow']\n",
    "samsung_dep_update = alldf[alldf['Grouping']=='Samsung']['dependency-update-tool']\n",
    "samsung_fuzz = alldf[alldf['Grouping']=='Samsung']['fuzzing']\n",
    "samsung_license = alldf[alldf['Grouping']=='Samsung']['license']\n",
    "samsung_maintained = alldf[alldf['Grouping']=='Samsung']['maintained']\n",
    "samsung_packaging = alldf[alldf['Grouping']=='Samsung']['packaging']\n",
    "samsung_pinned_dep = alldf[alldf['Grouping']=='Samsung']['pinned-dependencies']\n",
    "samsung_sast = alldf[alldf['Grouping']=='Samsung']['sast']\n",
    "samsung_sec_pol = alldf[alldf['Grouping']=='Samsung']['security-policy']\n",
    "samsung_signed_rel = alldf[alldf['Grouping']=='Samsung']['signed-releases']\n",
    "samsung_token_perm = alldf[alldf['Grouping']=='Samsung']['token-permissions']\n",
    "samsung_vuln = alldf[alldf['Grouping']=='Samsung']['vulnerabilities']"
   ]
  },
  {
   "cell_type": "code",
   "execution_count": 151,
   "id": "6381f74b",
   "metadata": {},
   "outputs": [],
   "source": [
    "tencent_bin_art = alldf[alldf['Grouping']=='Tencent']['binary-artifacts']\n",
    "tencent_bran_pro = alldf[alldf['Grouping']=='Tencent']['branch-protection']\n",
    "tencent_ci_test = alldf[alldf['Grouping']=='Tencent']['ci-tests']\n",
    "tencent_cii_best = alldf[alldf['Grouping']=='Tencent']['cii-best-practices']\n",
    "tencent_code_rev = alldf[alldf['Grouping']=='Tencent']['code-review']\n",
    "tencent_contrib = alldf[alldf['Grouping']=='Tencent']['contributors']\n",
    "tencent_dang_work = alldf[alldf['Grouping']=='Tencent']['dangerous-workflow']\n",
    "tencent_dep_update = alldf[alldf['Grouping']=='Tencent']['dependency-update-tool']\n",
    "tencent_fuzz = alldf[alldf['Grouping']=='Tencent']['fuzzing']\n",
    "tencent_license = alldf[alldf['Grouping']=='Tencent']['license']\n",
    "tencent_maintained = alldf[alldf['Grouping']=='Tencent']['maintained']\n",
    "tencent_packaging = alldf[alldf['Grouping']=='Tencent']['packaging']\n",
    "tencent_pinned_dep = alldf[alldf['Grouping']=='Tencent']['pinned-dependencies']\n",
    "tencent_sast = alldf[alldf['Grouping']=='Tencent']['sast']\n",
    "tencent_sec_pol = alldf[alldf['Grouping']=='Tencent']['security-policy']\n",
    "tencent_signed_rel = alldf[alldf['Grouping']=='Tencent']['signed-releases']\n",
    "tencent_token_perm = alldf[alldf['Grouping']=='Tencent']['token-permissions']\n",
    "tencent_vuln = alldf[alldf['Grouping']=='Tencent']['vulnerabilities']"
   ]
  },
  {
   "cell_type": "code",
   "execution_count": 152,
   "id": "cd6fd293",
   "metadata": {},
   "outputs": [],
   "source": [
    "huawei_bin_art = alldf[alldf['Grouping']=='Huawei']['binary-artifacts']\n",
    "huawei_bran_pro = alldf[alldf['Grouping']=='Huawei']['branch-protection']\n",
    "huawei_ci_test = alldf[alldf['Grouping']=='Huawei']['ci-tests']\n",
    "huawei_cii_best = alldf[alldf['Grouping']=='Huawei']['cii-best-practices']\n",
    "huawei_code_rev = alldf[alldf['Grouping']=='Huawei']['code-review']\n",
    "huawei_contrib = alldf[alldf['Grouping']=='Huawei']['contributors']\n",
    "huawei_dang_work = alldf[alldf['Grouping']=='Huawei']['dangerous-workflow']\n",
    "huawei_dep_update = alldf[alldf['Grouping']=='Huawei']['dependency-update-tool']\n",
    "huawei_fuzz = alldf[alldf['Grouping']=='Huawei']['fuzzing']\n",
    "huawei_license = alldf[alldf['Grouping']=='Huawei']['license']\n",
    "huawei_maintained = alldf[alldf['Grouping']=='Huawei']['maintained']\n",
    "huawei_packaging = alldf[alldf['Grouping']=='Huawei']['packaging']\n",
    "huawei_pinned_dep = alldf[alldf['Grouping']=='Huawei']['pinned-dependencies']\n",
    "huawei_sast = alldf[alldf['Grouping']=='Huawei']['sast']\n",
    "huawei_sec_pol = alldf[alldf['Grouping']=='Huawei']['security-policy']\n",
    "huawei_signed_rel = alldf[alldf['Grouping']=='Huawei']['signed-releases']\n",
    "huawei_token_perm = alldf[alldf['Grouping']=='Huawei']['token-permissions']\n",
    "huawei_vuln = alldf[alldf['Grouping']=='Huawei']['vulnerabilities']"
   ]
  },
  {
   "cell_type": "code",
   "execution_count": 153,
   "id": "28efcc27",
   "metadata": {},
   "outputs": [],
   "source": [
    "google_bin_art = alldf[alldf['Grouping']=='Google']['binary-artifacts']\n",
    "google_bran_pro = alldf[alldf['Grouping']=='Google']['branch-protection']\n",
    "google_ci_test = alldf[alldf['Grouping']=='Google']['ci-tests']\n",
    "google_cii_best = alldf[alldf['Grouping']=='Google']['cii-best-practices']\n",
    "google_code_rev = alldf[alldf['Grouping']=='Google']['code-review']\n",
    "google_contrib = alldf[alldf['Grouping']=='Google']['contributors']\n",
    "google_dang_work = alldf[alldf['Grouping']=='Google']['dangerous-workflow']\n",
    "google_dep_update = alldf[alldf['Grouping']=='Google']['dependency-update-tool']\n",
    "google_fuzz = alldf[alldf['Grouping']=='Google']['fuzzing']\n",
    "google_license = alldf[alldf['Grouping']=='Google']['license']\n",
    "google_maintained = alldf[alldf['Grouping']=='Google']['maintained']\n",
    "google_packaging = alldf[alldf['Grouping']=='Google']['packaging']\n",
    "google_pinned_dep = alldf[alldf['Grouping']=='Google']['pinned-dependencies']\n",
    "google_sast = alldf[alldf['Grouping']=='Google']['sast']\n",
    "google_sec_pol = alldf[alldf['Grouping']=='Google']['security-policy']\n",
    "google_signed_rel = alldf[alldf['Grouping']=='Google']['signed-releases']\n",
    "google_token_perm = alldf[alldf['Grouping']=='Google']['token-permissions']\n",
    "google_vuln = alldf[alldf['Grouping']=='Google']['vulnerabilities']"
   ]
  },
  {
   "cell_type": "code",
   "execution_count": 154,
   "id": "720e75b1",
   "metadata": {},
   "outputs": [],
   "source": [
    "apache_bin_art = alldf[alldf['Grouping']=='Apache']['binary-artifacts']\n",
    "apache_bran_pro = alldf[alldf['Grouping']=='Apache']['branch-protection']\n",
    "apache_ci_test = alldf[alldf['Grouping']=='Apache']['ci-tests']\n",
    "apache_cii_best = alldf[alldf['Grouping']=='Apache']['cii-best-practices']\n",
    "apache_code_rev = alldf[alldf['Grouping']=='Apache']['code-review']\n",
    "apache_contrib = alldf[alldf['Grouping']=='Apache']['contributors']\n",
    "apache_dang_work = alldf[alldf['Grouping']=='Apache']['dangerous-workflow']\n",
    "apache_dep_update = alldf[alldf['Grouping']=='Apache']['dependency-update-tool']\n",
    "apache_fuzz = alldf[alldf['Grouping']=='Apache']['fuzzing']\n",
    "apache_license = alldf[alldf['Grouping']=='Apache']['license']\n",
    "apache_maintained = alldf[alldf['Grouping']=='Apache']['maintained']\n",
    "apache_packaging = alldf[alldf['Grouping']=='Apache']['packaging']\n",
    "apache_pinned_dep = alldf[alldf['Grouping']=='Apache']['pinned-dependencies']\n",
    "apache_sast = alldf[alldf['Grouping']=='Apache']['sast']\n",
    "apache_sec_pol = alldf[alldf['Grouping']=='Apache']['security-policy']\n",
    "apache_signed_rel = alldf[alldf['Grouping']=='Apache']['signed-releases']\n",
    "apache_token_perm = alldf[alldf['Grouping']=='Apache']['token-permissions']\n",
    "apache_vuln = alldf[alldf['Grouping']=='Apache']['vulnerabilities']"
   ]
  },
  {
   "cell_type": "code",
   "execution_count": 155,
   "id": "4c4981c9",
   "metadata": {},
   "outputs": [],
   "source": [
    "cncf_bin_art = alldf[alldf['Grouping']=='CNCF']['binary-artifacts']\n",
    "cncf_bran_pro = alldf[alldf['Grouping']=='CNCF']['branch-protection']\n",
    "cncf_ci_test = alldf[alldf['Grouping']=='CNCF']['ci-tests']\n",
    "cncf_cii_best = alldf[alldf['Grouping']=='CNCF']['cii-best-practices']\n",
    "cncf_code_rev = alldf[alldf['Grouping']=='CNCF']['code-review']\n",
    "cncf_contrib = alldf[alldf['Grouping']=='CNCF']['contributors']\n",
    "cncf_dang_work = alldf[alldf['Grouping']=='CNCF']['dangerous-workflow']\n",
    "cncf_dep_update = alldf[alldf['Grouping']=='CNCF']['dependency-update-tool']\n",
    "cncf_fuzz = alldf[alldf['Grouping']=='CNCF']['fuzzing']\n",
    "cncf_license = alldf[alldf['Grouping']=='CNCF']['license']\n",
    "cncf_maintained = alldf[alldf['Grouping']=='CNCF']['maintained']\n",
    "cncf_packaging = alldf[alldf['Grouping']=='CNCF']['packaging']\n",
    "cncf_pinned_dep = alldf[alldf['Grouping']=='CNCF']['pinned-dependencies']\n",
    "cncf_sast = alldf[alldf['Grouping']=='CNCF']['sast']\n",
    "cncf_sec_pol = alldf[alldf['Grouping']=='CNCF']['security-policy']\n",
    "cncf_signed_rel = alldf[alldf['Grouping']=='CNCF']['signed-releases']\n",
    "cncf_token_perm = alldf[alldf['Grouping']=='CNCF']['token-permissions']\n",
    "cncf_vuln = alldf[alldf['Grouping']=='CNCF']['vulnerabilities']"
   ]
  },
  {
   "cell_type": "code",
   "execution_count": 156,
   "id": "f5d7edf1",
   "metadata": {},
   "outputs": [],
   "source": [
    "eclipse_bin_art = alldf[alldf['Grouping']=='Eclipse']['binary-artifacts']\n",
    "eclipse_bran_pro = alldf[alldf['Grouping']=='Eclipse']['branch-protection']\n",
    "eclipse_ci_test = alldf[alldf['Grouping']=='Eclipse']['ci-tests']\n",
    "eclipse_cii_best = alldf[alldf['Grouping']=='Eclipse']['cii-best-practices']\n",
    "eclipse_code_rev = alldf[alldf['Grouping']=='Eclipse']['code-review']\n",
    "eclipse_contrib = alldf[alldf['Grouping']=='Eclipse']['contributors']\n",
    "eclipse_dang_work = alldf[alldf['Grouping']=='Eclipse']['dangerous-workflow']\n",
    "eclipse_dep_update = alldf[alldf['Grouping']=='Eclipse']['dependency-update-tool']\n",
    "eclipse_fuzz = alldf[alldf['Grouping']=='Eclipse']['fuzzing']\n",
    "eclipse_license = alldf[alldf['Grouping']=='Eclipse']['license']\n",
    "eclipse_maintained = alldf[alldf['Grouping']=='Eclipse']['maintained']\n",
    "eclipse_packaging = alldf[alldf['Grouping']=='Eclipse']['packaging']\n",
    "eclipse_pinned_dep = alldf[alldf['Grouping']=='Eclipse']['pinned-dependencies']\n",
    "eclipse_sast = alldf[alldf['Grouping']=='Eclipse']['sast']\n",
    "eclipse_sec_pol = alldf[alldf['Grouping']=='Eclipse']['security-policy']\n",
    "eclipse_signed_rel = alldf[alldf['Grouping']=='Eclipse']['signed-releases']\n",
    "eclipse_token_perm = alldf[alldf['Grouping']=='Eclipse']['token-permissions']\n",
    "eclipse_vuln = alldf[alldf['Grouping']=='Eclipse']['vulnerabilities']"
   ]
  },
  {
   "cell_type": "code",
   "execution_count": null,
   "id": "6c4d231a",
   "metadata": {},
   "outputs": [],
   "source": []
  },
  {
   "cell_type": "code",
   "execution_count": 245,
   "id": "60828c5c",
   "metadata": {},
   "outputs": [
    {
     "name": "stdout",
     "output_type": "stream",
     "text": [
      "[8.536057692307692, 9.954545454545455, 8.666666666666666, 9.67357512953368, 8.14, 9.642290012536565, 9.411681582666038, 8.549668874172186, 8.00625, 10.0, 9.670212765957446]\n"
     ]
    }
   ],
   "source": [
    "bin_arts = [apache_bin_art,\n",
    "            cncf_bin_art,\n",
    "            eclipse_bin_art,\n",
    "            google_bin_art,\n",
    "            huawei_bin_art,\n",
    "            ibm_bin_art,\n",
    "            microsoft_bin_art,\n",
    "            samsung_bin_art,\n",
    "            tencent_bin_art,\n",
    "            jss_bin_art,\n",
    "            pys_bin_art]\n",
    "\n",
    "str_bin_arts = ['apache_bin_art',\n",
    "                'cncf_bin_art',\n",
    "                'eclipse_bin_art',\n",
    "                'google_bin_art',\n",
    "                'huawei_bin_art',\n",
    "                'ibm_bin_art',\n",
    "                'microsoft_bin_art',\n",
    "                'samsung_bin_art',\n",
    "                'tencent_bin_art',\n",
    "                'jss_bin_art',\n",
    "                'pys_bin_art']\n",
    "\n",
    "bin_arts_mean = []\n",
    "for item in bin_arts:\n",
    "    bin_arts_mean.append(item.mean())\n",
    "\n",
    "print(bin_arts_mean)"
   ]
  },
  {
   "cell_type": "code",
   "execution_count": 218,
   "id": "01d6bd3e",
   "metadata": {},
   "outputs": [
    {
     "name": "stdout",
     "output_type": "stream",
     "text": [
      "[8.666666666666666, 9.954545454545455, 8.536057692307692, 8.00625, 8.549668874172186, 9.411681582666038, 9.642290012536565, 9.67357512953368, 8.14, 9.670212765957446, 10.0]\n"
     ]
    }
   ],
   "source": [
    "bin_arts_mean = []\n",
    "for item in bin_arts:\n",
    "    bin_arts_mean.append(item.mean())\n",
    "\n",
    "print(bin_arts_mean)"
   ]
  },
  {
   "cell_type": "code",
   "execution_count": 195,
   "id": "44679a6a",
   "metadata": {},
   "outputs": [],
   "source": [
    "str_checks = ['Binary Artifacts', 'Branch Protection', 'CI Tests', 'Code Review',\n",
    "              'Contributors', 'Dangerous Work', 'Dependency Updates', 'Fuzzing', \n",
    "              'License', 'Maintained', 'Packaging', 'Pinned Dependencies', 'SAST',\n",
    "              'Security Policy', 'Signed Releases', 'Token Permissions', 'Vulnerabilities']"
   ]
  },
  {
   "cell_type": "code",
   "execution_count": 209,
   "id": "359fc4d9",
   "metadata": {},
   "outputs": [],
   "source": [
    "str_groups = ['Apache', 'CNCF', 'Eclipse', 'Google', 'Huawei', 'IBM', 'Microsoft',\n",
    "             'Samsung', 'Tencent', 'JavaScript', 'Python']"
   ]
  },
  {
   "cell_type": "code",
   "execution_count": 211,
   "id": "e4da4e6c",
   "metadata": {},
   "outputs": [
    {
     "name": "stdout",
     "output_type": "stream",
     "text": [
      "['eclipse_bin_art', 'cncf_bin_art', 'apache_bin_art', 'tencent_bin_art', 'samsung_bin_art', 'microsoft_bin_art', 'ibm_bin_art', 'google_bin_art', 'huawei_bin_art', 'ibm_bin_art', 'pys_bin_art', 'jss_bin_art']\n"
     ]
    }
   ],
   "source": [
    "print(str_bin_arts)"
   ]
  },
  {
   "cell_type": "code",
   "execution_count": 221,
   "id": "a6ce1cb0",
   "metadata": {},
   "outputs": [
    {
     "name": "stdout",
     "output_type": "stream",
     "text": [
      "17\n",
      "11\n",
      "11\n",
      "11\n"
     ]
    }
   ],
   "source": [
    "print(len(str_checks))\n",
    "print(len(str_bin_arts))\n",
    "print(len(str_groups))\n",
    "print(len(bin_arts_mean))"
   ]
  },
  {
   "cell_type": "code",
   "execution_count": 247,
   "id": "dccfc9aa",
   "metadata": {},
   "outputs": [
    {
     "data": {
      "image/png": "[encoded data removed]",
      "text/plain": [
       "<Figure size 432x288 with 1 Axes>"
      ]
     },
     "metadata": {
      "needs_background": "light"
     },
     "output_type": "display_data"
    }
   ],
   "source": [
    "plt.title(\"Binary Artifacts Mean Scores\")\n",
    "plt.bar(str_groups, bin_arts_mean, align='edge', width=0.3)\n",
    "plt.xticks(range(len(str_bin_arts)), rotation='vertical')\n",
    "plt.xlabel(\"Group\")\n",
    "plt.ylabel(\"Mean Score\")\n",
    "plt.tight_layout\n",
    "plt.show()"
   ]
  },
  {
   "cell_type": "code",
   "execution_count": 62,
   "id": "2e0ef0ff",
   "metadata": {},
   "outputs": [
    {
     "data": {
      "text/plain": [
       "Index(['Unnamed: 0', 'Grouping', 'name', 'score', 'binary-artifacts',\n",
       "       'branch-protection', 'ci-tests', 'cii-best-practices', 'code-review',\n",
       "       'contributors', 'dangerous-workflow', 'dependency-update-tool',\n",
       "       'fuzzing', 'license', 'maintained', 'packaging', 'pinned-dependencies',\n",
       "       'sast', 'security-policy', 'signed-releases', 'token-permissions',\n",
       "       'vulnerabilities'],\n",
       "      dtype='object')"
      ]
     },
     "execution_count": 62,
     "metadata": {},
     "output_type": "execute_result"
    }
   ],
   "source": [
    "alldf.columns"
   ]
  },
  {
   "cell_type": "code",
   "execution_count": 250,
   "id": "77649336",
   "metadata": {},
   "outputs": [
    {
     "name": "stdout",
     "output_type": "stream",
     "text": [
      "[0.6826923076923077, 0.7454545454545455, 0.6666666666666666, 1.0196891191709845, 0.0, 1.194316757208525, 2.091144606688648, 1.3973509933774835, 1.4125, 0.6701030927835051, 2.7127659574468086]\n"
     ]
    },
    {
     "data": {
      "image/png": "[encoded data removed]",
      "text/plain": [
       "<Figure size 432x288 with 1 Axes>"
      ]
     },
     "metadata": {
      "needs_background": "light"
     },
     "output_type": "display_data"
    }
   ],
   "source": [
    "bran_pros = [apache_bran_pro,\n",
    "            cncf_bran_pro,\n",
    "            eclipse_bran_pro,\n",
    "            google_bran_pro,\n",
    "            huawei_bran_pro,\n",
    "            ibm_bran_pro,\n",
    "            microsoft_bran_pro,\n",
    "            samsung_bran_pro,\n",
    "            tencent_bran_pro,\n",
    "            jss_bran_pro,\n",
    "            pys_bran_pro,]\n",
    "\n",
    "str_bran_pros = ['apache_bran_pro',\n",
    "                'cncf_bran_pro',\n",
    "                'eclipse_bran_pro',\n",
    "                'google_bran_pro',\n",
    "                'huawei_bran_pro',\n",
    "                'ibm_bran_pro',\n",
    "                'microsoft_bran_pro',\n",
    "                'samsung_bran_pro',\n",
    "                'tencent_bran_pro',\n",
    "                'jss_bran_pro',\n",
    "                'pys_bran_pro']\n",
    "\n",
    "bran_pros_mean = []\n",
    "for item in bran_pros:\n",
    "    bran_pros_mean.append(item.mean())\n",
    "\n",
    "print(bran_pros_mean)\n",
    "\n",
    "plt.title(\"Branch Protection Mean Scores\")\n",
    "plt.bar(str_groups, bran_pros_mean, align='edge', width=0.3)\n",
    "plt.xticks(range(len(str_bran_pros)), rotation='vertical')\n",
    "plt.xlabel(\"Group\")\n",
    "plt.ylabel(\"Mean Score\")\n",
    "plt.tight_layout\n",
    "plt.show()"
   ]
  },
  {
   "cell_type": "code",
   "execution_count": 31,
   "id": "f2e3373f",
   "metadata": {},
   "outputs": [],
   "source": [
    "list = ['eclipse', 'cncf', 'apache', 'tencent', 'samsung', 'microsoft', 'ibm', 'huawei', 'google', 'pys', 'jss']"
   ]
  },
  {
   "cell_type": "code",
   "execution_count": 83,
   "id": "d296e81e",
   "metadata": {},
   "outputs": [
    {
     "name": "stdout",
     "output_type": "stream",
     "text": [
      "['eclipse_bran_pro', 'cncf_bran_pro', 'apache_bran_pro', 'tencent_bran_pro', 'samsung_bran_pro', 'microsoft_bran_pro', 'ibm_bran_pro', 'huawei_bran_pro', 'google_bran_pro', 'pys_bran_pro', 'jss_bran_pro']\n"
     ]
    }
   ],
   "source": [
    "# bran_pros = []\n",
    "\n",
    "# for item in list:\n",
    "#     bran_pros.append(item + \"_bran_pro\")\n",
    "    \n",
    "# for bran in bran_pros:\n",
    "    \n",
    "    \n",
    "# print(bran_pros)"
   ]
  },
  {
   "cell_type": "code",
   "execution_count": 81,
   "id": "66a265da",
   "metadata": {},
   "outputs": [
    {
     "data": {
      "text/plain": [
       "['bin_art',\n",
       " 'bran_pro',\n",
       " 'ci_tests',\n",
       " 'cii_best',\n",
       " 'code_rev',\n",
       " 'contrib',\n",
       " 'dang_work',\n",
       " 'dep_update',\n",
       " 'fuzz',\n",
       " 'license',\n",
       " 'maintained',\n",
       " 'packaging',\n",
       " 'pinned_dep',\n",
       " 'sast',\n",
       " 'sec_pol',\n",
       " 'signed_rel',\n",
       " 'token_perms',\n",
       " 'vulns']"
      ]
     },
     "execution_count": 81,
     "metadata": {},
     "output_type": "execute_result"
    }
   ],
   "source": [
    "checks"
   ]
  },
  {
   "cell_type": "code",
   "execution_count": 251,
   "id": "3615d15c",
   "metadata": {},
   "outputs": [
    {
     "name": "stdout",
     "output_type": "stream",
     "text": [
      "[2.7451923076923075, 0.35454545454545455, 3.2853881278538815, 1.7901554404145077, -0.74, 1.6264103635603844, 1.5162505887894488, 0.695364238410596, 2.83125, 6.954545454545455, 8.355555555555556]\n"
     ]
    },
    {
     "data": {
      "image/png": "[encoded data removed]",
      "text/plain": [
       "<Figure size 432x288 with 1 Axes>"
      ]
     },
     "metadata": {
      "needs_background": "light"
     },
     "output_type": "display_data"
    }
   ],
   "source": [
    "ci_tests = [apache_ci_test,\n",
    "            cncf_ci_test,\n",
    "            eclipse_ci_test,\n",
    "            google_ci_test,\n",
    "            huawei_ci_test,\n",
    "            ibm_ci_test,\n",
    "            microsoft_ci_test,\n",
    "            samsung_ci_test,\n",
    "            tencent_ci_test,\n",
    "            jss_ci_test,\n",
    "            pys_ci_test,]\n",
    "\n",
    "str_ci_tests = ['apache_ci_test',\n",
    "                'cncf_ci_test',\n",
    "                'eclipse_ci_test',\n",
    "                'google_ci_test',\n",
    "                'huawei_ci_test',\n",
    "                'ibm_ci_test',\n",
    "                'microsoft_ci_test',\n",
    "                'samsung_ci_test',\n",
    "                'tencent_ci_test',\n",
    "                'jss_ci_test',\n",
    "                'pys_ci_test']\n",
    "\n",
    "ci_tests_mean = []\n",
    "for item in ci_tests:\n",
    "    ci_tests_mean.append(item.mean())\n",
    "\n",
    "print(ci_tests_mean)\n",
    "\n",
    "plt.title(\"CI Tests Mean Scores\")\n",
    "plt.bar(str_groups, ci_tests_mean, align='edge', width=0.3)\n",
    "plt.xticks(range(len(str_ci_tests)), rotation='vertical')\n",
    "plt.ylabel(\"Mean Score\")\n",
    "plt.xlabel(\"Group\")\n",
    "plt.tight_layout\n",
    "plt.show()"
   ]
  },
  {
   "cell_type": "code",
   "execution_count": 252,
   "id": "f6dd4026",
   "metadata": {},
   "outputs": [
    {
     "name": "stdout",
     "output_type": "stream",
     "text": [
      "[0.009615384615384616, 0.18181818181818182, 0.02511415525114155, 0.0062176165803108805, 0.0, 0.1124111993313832, 0.005652378709373528, 0.0728476821192053, 0.0125, 0.041237113402061855, 0.07446808510638298]\n"
     ]
    },
    {
     "data": {
      "image/png": "[encoded data removed]",
      "text/plain": [
       "<Figure size 432x288 with 1 Axes>"
      ]
     },
     "metadata": {
      "needs_background": "light"
     },
     "output_type": "display_data"
    }
   ],
   "source": [
    "cii_bests = [apache_cii_best,\n",
    "                cncf_cii_best,\n",
    "                eclipse_cii_best,\n",
    "                google_cii_best,\n",
    "                huawei_cii_best,\n",
    "                ibm_cii_best,\n",
    "                microsoft_cii_best,\n",
    "                samsung_cii_best,\n",
    "                tencent_cii_best,\n",
    "                jss_cii_best,\n",
    "                pys_cii_best]\n",
    "\n",
    "str_cii_bests = ['apache_cii_best',\n",
    "                'cncf_cii_best',\n",
    "                'eclipse_cii_best',\n",
    "                'google_cii_best',\n",
    "                'huawei_cii_best',\n",
    "                'ibm_cii_best',\n",
    "                'microsoft_cii_best',\n",
    "                'samsung_cii_best',\n",
    "                'tencent_cii_best',\n",
    "                'jss_cii_best',\n",
    "                'pys_cii_best']\n",
    "\n",
    "cii_bests_mean = []\n",
    "for item in cii_bests:\n",
    "    cii_bests_mean.append(item.mean())\n",
    "\n",
    "print(cii_bests_mean)\n",
    "\n",
    "plt.title(\"CII Best Practices Mean Scores\")\n",
    "plt.bar(str_groups, cii_bests_mean, align='edge', width=0.3)\n",
    "plt.xticks(range(len(str_cii_bests)), rotation='vertical')\n",
    "plt.xlabel(\"Group\")\n",
    "plt.ylabel(\"Mean Score\")\n",
    "plt.tight_layout\n",
    "plt.show()"
   ]
  },
  {
   "cell_type": "code",
   "execution_count": 253,
   "id": "cbae67c8",
   "metadata": {},
   "outputs": [
    {
     "name": "stdout",
     "output_type": "stream",
     "text": [
      "[2.264423076923077, 3.690909090909091, 3.454337899543379, 3.5694300518134714, 0.69, 2.90513999164229, 3.389307583608102, 2.8211920529801326, 3.15625, 2.350515463917526, 6.638297872340425]\n"
     ]
    },
    {
     "data": {
      "image/png": "[encoded data removed]",
      "text/plain": [
       "<Figure size 432x288 with 1 Axes>"
      ]
     },
     "metadata": {
      "needs_background": "light"
     },
     "output_type": "display_data"
    }
   ],
   "source": [
    "code_revs = [apache_code_rev,\n",
    "                cncf_code_rev,\n",
    "                eclipse_code_rev,\n",
    "                google_code_rev,\n",
    "                huawei_code_rev,\n",
    "                ibm_code_rev,\n",
    "                microsoft_code_rev,\n",
    "                samsung_code_rev,\n",
    "                tencent_code_rev,\n",
    "                jss_code_rev,\n",
    "                pys_code_rev]\n",
    "\n",
    "str_code_revs = ['apache_code_rev',\n",
    "                'cncf_code_rev',\n",
    "                'eclipse_code_rev',\n",
    "                'google_code_rev',\n",
    "                'huawei_code_rev',\n",
    "                'ibm_code_rev',\n",
    "                'microsoft_code_rev',\n",
    "                'samsung_code_rev',\n",
    "                'tencent_code_rev',\n",
    "                'jss_code_rev',\n",
    "                'pys_code_rev']\n",
    "\n",
    "code_revs_mean = []\n",
    "for item in code_revs:\n",
    "    code_revs_mean.append(item.mean())\n",
    "\n",
    "print(code_revs_mean)\n",
    "\n",
    "plt.title(\"Code Review Mean Scores\")\n",
    "plt.bar(str_groups, code_revs_mean, align='edge', width=0.3)\n",
    "plt.xticks(range(len(str_code_revs)), rotation='vertical')\n",
    "plt.xlabel(\"Group\")\n",
    "plt.ylabel(\"Mean Score\")\n",
    "plt.tight_layout\n",
    "plt.show()"
   ]
  },
  {
   "cell_type": "code",
   "execution_count": 254,
   "id": "67dc283c",
   "metadata": {
    "scrolled": true
   },
   "outputs": [
    {
     "name": "stdout",
     "output_type": "stream",
     "text": [
      "[8.805288461538462, 6.927272727272728, 6.2534246575342465, 4.481347150259067, 0.71, 4.3351441704972835, 4.944182760244936, 4.483443708609271, 5.31875, 9.515463917525773, 9.627659574468085]\n"
     ]
    },
    {
     "data": {
      "image/png": "[encoded data removed]",
      "text/plain": [
       "<Figure size 432x288 with 1 Axes>"
      ]
     },
     "metadata": {
      "needs_background": "light"
     },
     "output_type": "display_data"
    }
   ],
   "source": [
    "contribs = [apache_contrib,\n",
    "                cncf_contrib,\n",
    "                eclipse_contrib,\n",
    "                google_contrib,\n",
    "                huawei_contrib,\n",
    "                ibm_contrib,\n",
    "                microsoft_contrib,\n",
    "                samsung_contrib,\n",
    "                tencent_contrib,\n",
    "                jss_contrib,\n",
    "                pys_contrib]\n",
    "\n",
    "str_contribs = ['apache_contrib',\n",
    "                'cncf_contrib',\n",
    "                'eclipse_contrib',\n",
    "                'google_contrib',\n",
    "                'huawei_contrib',\n",
    "                'ibm_contrib',\n",
    "                'microsoft_contrib',\n",
    "                'samsung_contrib',\n",
    "                'tencent_contrib',\n",
    "                'jss_contrib',\n",
    "                'pys_contrib']\n",
    "\n",
    "contribs_mean = []\n",
    "for item in contribs:\n",
    "    contribs_mean.append(item.mean())\n",
    "\n",
    "print(contribs_mean)\n",
    "\n",
    "plt.title(\"Contributors Mean Scores\")\n",
    "plt.bar(str_groups, contribs_mean, align='edge', width=0.3)\n",
    "plt.xticks(range(len(str_contribs)), rotation='vertical')\n",
    "plt.xlabel(\"Group\")\n",
    "plt.ylabel(\"Mean Score\")\n",
    "plt.tight_layout\n",
    "plt.show()"
   ]
  },
  {
   "cell_type": "markdown",
   "id": "433af24a",
   "metadata": {},
   "source": [
    "# vibrant community"
   ]
  },
  {
   "cell_type": "code",
   "execution_count": 255,
   "id": "a38f9657",
   "metadata": {
    "scrolled": true
   },
   "outputs": [
    {
     "name": "stdout",
     "output_type": "stream",
     "text": [
      "[9.929223744292237, 10.0, 9.951923076923077, 9.55625, 10.0, 9.951012717852096, 9.991224404513163, 9.972538860103628, 9.89, 10.0, 10.0]\n"
     ]
    },
    {
     "data": {
      "image/png": "[encoded data removed]",
      "text/plain": [
       "<Figure size 432x288 with 1 Axes>"
      ]
     },
     "metadata": {
      "needs_background": "light"
     },
     "output_type": "display_data"
    }
   ],
   "source": [
    "dang_works = [eclipse_dang_work,\n",
    "            cncf_dang_work,\n",
    "            apache_dang_work,\n",
    "            tencent_dang_work,\n",
    "            samsung_dang_work,\n",
    "            microsoft_dang_work,\n",
    "            ibm_dang_work,\n",
    "            google_dang_work,\n",
    "            huawei_dang_work,\n",
    "            pys_dang_work,\n",
    "            jss_dang_work,]\n",
    "\n",
    "str_dang_works = ['apache_dang_work',\n",
    "                'cncf_dang_work',\n",
    "                'eclipse_dang_work',\n",
    "                'google_dang_work',\n",
    "                'huawei_dang_work',\n",
    "                'ibm_dang_work',\n",
    "                'microsoft_dang_work',\n",
    "                'samsung_dang_work',\n",
    "                'tencent_dang_work',\n",
    "                'jss_dang_work',\n",
    "                'pys_dang_work']\n",
    "\n",
    "dang_works_mean = []\n",
    "for item in dang_works:\n",
    "    dang_works_mean.append(item.mean())\n",
    "\n",
    "print(dang_works_mean)\n",
    "\n",
    "plt.title(\"Dangerous Work Mean Scores\")\n",
    "plt.bar(str_groups, dang_works_mean, align='edge', width=0.3)\n",
    "plt.xticks(range(len(str_dang_works)), rotation='vertical')\n",
    "plt.xlabel(\"Group\")\n",
    "plt.ylabel(\"Mean Score\")\n",
    "plt.tight_layout\n",
    "plt.show()"
   ]
  },
  {
   "cell_type": "markdown",
   "id": "5f476d2e",
   "metadata": {},
   "source": [
    "# grab one or two for subanalysis if particularly interesting"
   ]
  },
  {
   "cell_type": "code",
   "execution_count": 263,
   "id": "0d7a9fb0",
   "metadata": {},
   "outputs": [
    {
     "name": "stdout",
     "output_type": "stream",
     "text": [
      "[0.5, 0.36363636363636365, 1.5144230769230769, 0.80625, 0.13245033112582782, 0.31629769194536034, 0.17927287923109067, 0.30466321243523314, -0.01, 0.8247422680412371, 3.9361702127659575]\n"
     ]
    },
    {
     "data": {
      "image/png": "[encoded data removed]",
      "text/plain": [
       "<Figure size 432x288 with 1 Axes>"
      ]
     },
     "metadata": {
      "needs_background": "light"
     },
     "output_type": "display_data"
    }
   ],
   "source": [
    "dep_updates = [eclipse_dep_update,\n",
    "            cncf_dep_update,\n",
    "            apache_dep_update,\n",
    "            tencent_dep_update,\n",
    "            samsung_dep_update,\n",
    "            microsoft_dep_update,\n",
    "            ibm_dep_update,\n",
    "            google_dep_update,\n",
    "            huawei_dep_update,\n",
    "            jss_dep_update,\n",
    "            pys_dep_update,]\n",
    "\n",
    "str_dep_updates = ['apache_dep_update',\n",
    "                'cncf_dep_update',\n",
    "                'eclipse_dep_update',\n",
    "                'google_dep_update',\n",
    "                'huawei_dep_update',\n",
    "                'ibm_dep_update',\n",
    "                'microsoft_dep_update',\n",
    "                'samsung_dep_update',\n",
    "                'tencent_dep_update',\n",
    "                'jss_dep_update',\n",
    "                'pys_dep_update']\n",
    "\n",
    "dep_updates_mean = []\n",
    "for item in dep_updates:\n",
    "    dep_updates_mean.append(item.mean())\n",
    "\n",
    "print(dep_updates_mean)\n",
    "\n",
    "plt.title(\"Dependency Update Mean Scores\")\n",
    "plt.bar(str_groups, dep_updates_mean, align='edge', width=0.3)\n",
    "plt.xticks(range(len(str_dep_updates)), rotation='vertical')\n",
    "plt.xlabel(\"Group\")\n",
    "plt.ylabel(\"Mean Score\")\n",
    "plt.tight_layout\n",
    "plt.show()"
   ]
  },
  {
   "cell_type": "code",
   "execution_count": null,
   "id": "b5773713",
   "metadata": {},
   "outputs": [],
   "source": [
    "list = ['Apache', 'CNCF', 'Eclipse']\n",
    "\n",
    "def function:\n",
    "    ''' use each element in the list to define a variable that contains the name \n",
    "    '''\n",
    "    \n",
    "    \n",
    "inputs:['Apache', 'CNCF', 'Eclipse']\n",
    "expected: \n",
    "    'Apache_binary_artifacts' = 4\n",
    "    'CNCF_X_ci_tests' = 5\n",
    "    \n",
    "# Two level nested dictionary: very outer key is Apache, its value is a dict where one key is a check\n",
    "# and the value is a number."
   ]
  },
  {
   "cell_type": "code",
   "execution_count": 281,
   "id": "7ca10608",
   "metadata": {},
   "outputs": [
    {
     "data": {
      "text/plain": [
       "0      0\n",
       "1      0\n",
       "2      0\n",
       "3      0\n",
       "4      0\n",
       "      ..\n",
       "411    0\n",
       "412    0\n",
       "413    0\n",
       "414    0\n",
       "415    0\n",
       "Name: fuzzing, Length: 416, dtype: int64"
      ]
     },
     "execution_count": 281,
     "metadata": {},
     "output_type": "execute_result"
    }
   ],
   "source": [
    "apache_fuzz"
   ]
  },
  {
   "cell_type": "code",
   "execution_count": 280,
   "id": "c4b14437",
   "metadata": {},
   "outputs": [
    {
     "ename": "TypeError",
     "evalue": "'list' object is not callable",
     "output_type": "error",
     "traceback": [
      "\u001b[0;31m---------------------------------------------------------------------------\u001b[0m",
      "\u001b[0;31mTypeError\u001b[0m                                 Traceback (most recent call last)",
      "Input \u001b[0;32mIn [280]\u001b[0m, in \u001b[0;36m<cell line: 13>\u001b[0;34m()\u001b[0m\n\u001b[1;32m      1\u001b[0m fuzzs \u001b[38;5;241m=\u001b[39m [apache_fuzz,\n\u001b[1;32m      2\u001b[0m                 cncf_fuzz,\n\u001b[1;32m      3\u001b[0m                 eclipse_fuzz,\n\u001b[0;32m   (...)\u001b[0m\n\u001b[1;32m     10\u001b[0m                 jss_fuzz,\n\u001b[1;32m     11\u001b[0m                 pys_fuzz]\n\u001b[0;32m---> 13\u001b[0m \u001b[38;5;28;43mlist\u001b[39;49m\u001b[43m(\u001b[49m\u001b[43mfuzzs\u001b[49m\u001b[43m)\u001b[49m\n\u001b[1;32m     14\u001b[0m str_fuzzs \u001b[38;5;241m=\u001b[39m [x\u001b[38;5;241m.\u001b[39mname \u001b[38;5;28;01mfor\u001b[39;00m x \u001b[38;5;129;01min\u001b[39;00m fuzzs]\n",
      "\u001b[0;31mTypeError\u001b[0m: 'list' object is not callable"
     ]
    }
   ],
   "source": [
    "fuzzs = [apache_fuzz,\n",
    "                cncf_fuzz,\n",
    "                eclipse_fuzz,\n",
    "                google_fuzz,\n",
    "                huawei_fuzz,\n",
    "                ibm_fuzz,\n",
    "                microsoft_fuzz,\n",
    "                samsung_fuzz,\n",
    "                tencent_fuzz,\n",
    "                jss_fuzz,\n",
    "                pys_fuzz]\n",
    "\n",
    "print(list(fuzzs[0]))\n",
    "str_fuzzs = [x.name for x in fuzzs]\n",
    "# print(str_fuzzs)\n",
    "\n",
    "{}\n",
    "\n",
    "# there was probably a way to generate the second list from the first"
   ]
  },
  {
   "cell_type": "code",
   "execution_count": 259,
   "id": "21159fc2",
   "metadata": {},
   "outputs": [
    {
     "name": "stdout",
     "output_type": "stream",
     "text": [
      "[0.18509615384615385, 0.2636363636363636, -0.0365296803652968, 0.23575129533678757, -0.01, -0.012954450480568324, 0.002826189354686764, 0.0, 0.18125, 0.0, 1.4893617021276595]\n"
     ]
    },
    {
     "data": {
      "image/png": "[encoded data removed]",
      "text/plain": [
       "<Figure size 432x288 with 1 Axes>"
      ]
     },
     "metadata": {
      "needs_background": "light"
     },
     "output_type": "display_data"
    }
   ],
   "source": [
    "fuzzs = [apache_fuzz,\n",
    "                cncf_fuzz,\n",
    "                eclipse_fuzz,\n",
    "                google_fuzz,\n",
    "                huawei_fuzz,\n",
    "                ibm_fuzz,\n",
    "                microsoft_fuzz,\n",
    "                samsung_fuzz,\n",
    "                tencent_fuzz,\n",
    "                jss_fuzz,\n",
    "                pys_fuzz]\n",
    "\n",
    "str_fuzzs = ['apache_fuzz',\n",
    "                'cncf_fuzz',\n",
    "                'eclipse_fuzz',\n",
    "                'google_fuzz',\n",
    "                'huawei_fuzz',\n",
    "                'ibm_fuzz',\n",
    "                'microsoft_fuzz',\n",
    "                'samsung_fuzz',\n",
    "                'tencent_fuzz',\n",
    "                'jss_fuzz',\n",
    "                'pys_fuzz']\n",
    "\n",
    "fuzzs_mean = []\n",
    "for item in fuzzs:\n",
    "    fuzzs_mean.append(item.mean())\n",
    "\n",
    "print(fuzzs_mean)\n",
    "\n",
    "plt.title(\"Fuzzing Mean Scores\")\n",
    "plt.bar(str_groups, fuzzs_mean, align='edge', width=0.3)\n",
    "plt.xticks(range(len(str_fuzzs)), rotation='vertical')\n",
    "plt.xlabel(\"Group\")\n",
    "plt.ylabel(\"Mean Score\")\n",
    "plt.tight_layout\n",
    "plt.show()"
   ]
  },
  {
   "cell_type": "code",
   "execution_count": 260,
   "id": "3d9a2081",
   "metadata": {},
   "outputs": [
    {
     "name": "stdout",
     "output_type": "stream",
     "text": [
      "[8.846153846153847, 9.0, 9.10730593607306, 9.812435233160622, 7.19, 9.418721270371918, 9.602684879886953, 8.874172185430464, 9.49375, 10.0, 10.0]\n"
     ]
    },
    {
     "data": {
      "image/png": "[encoded data removed]",
      "text/plain": [
       "<Figure size 432x288 with 1 Axes>"
      ]
     },
     "metadata": {
      "needs_background": "light"
     },
     "output_type": "display_data"
    }
   ],
   "source": [
    "licenses = [apache_license,\n",
    "                cncf_license,\n",
    "                eclipse_license,\n",
    "                google_license,\n",
    "                huawei_license,\n",
    "                ibm_license,\n",
    "                microsoft_license,\n",
    "                samsung_license,\n",
    "                tencent_license,\n",
    "                jss_license,\n",
    "                pys_license]\n",
    "\n",
    "str_licenses = ['apache_license',\n",
    "                'cncf_license',\n",
    "                'eclipse_license',\n",
    "                'google_license',\n",
    "                'huawei_license',\n",
    "                'ibm_license',\n",
    "                'microsoft_license',\n",
    "                'samsung_license',\n",
    "                'tencent_license',\n",
    "                'jss_license',\n",
    "                'pys_license']\n",
    "\n",
    "licenses_mean = []\n",
    "for item in licenses:\n",
    "    licenses_mean.append(item.mean())\n",
    "\n",
    "print(licenses_mean)\n",
    "\n",
    "plt.title(\"License Mean Scores\")\n",
    "plt.bar(str_groups, licenses_mean, align='edge', width=0.3)\n",
    "plt.xticks(range(len(str_licenses)), rotation='vertical')\n",
    "plt.xlabel(\"Group\")\n",
    "plt.ylabel(\"Mean Score\")\n",
    "plt.tight_layout\n",
    "plt.show()"
   ]
  },
  {
   "cell_type": "code",
   "execution_count": 261,
   "id": "b84c6be1",
   "metadata": {},
   "outputs": [
    {
     "name": "stdout",
     "output_type": "stream",
     "text": [
      "[3.6514423076923075, 3.727272727272727, 2.824200913242009, 1.9642487046632124, 0.28, 1.3088173840367738, 2.3151201130475743, 1.596026490066225, 3.9125, 2.0103092783505154, 7.851063829787234]\n"
     ]
    },
    {
     "data": {
      "image/png": "[encoded data removed]",
      "text/plain": [
       "<Figure size 432x288 with 1 Axes>"
      ]
     },
     "metadata": {
      "needs_background": "light"
     },
     "output_type": "display_data"
    }
   ],
   "source": [
    "maintaineds = [apache_maintained,\n",
    "                cncf_maintained,\n",
    "                eclipse_maintained,\n",
    "                google_maintained,\n",
    "                huawei_maintained,\n",
    "                ibm_maintained,\n",
    "                microsoft_maintained,\n",
    "                samsung_maintained,\n",
    "                tencent_maintained,\n",
    "                jss_maintained,\n",
    "                pys_maintained]\n",
    "\n",
    "str_maintaineds = ['apache_maintained',\n",
    "                'cncf_maintained',\n",
    "                'eclipse_maintained',\n",
    "                'google_maintained',\n",
    "                'huawei_maintained',\n",
    "                'ibm_maintained',\n",
    "                'microsoft_maintained',\n",
    "                'samsung_maintained',\n",
    "                'tencent_maintained',\n",
    "                'jss_maintained',\n",
    "                'pys_maintained']\n",
    "\n",
    "maintaineds_mean = []\n",
    "for item in maintaineds:\n",
    "    maintaineds_mean.append(item.mean())\n",
    "\n",
    "print(maintaineds_mean)\n",
    "\n",
    "plt.title(\"Maintained Mean Scores\")\n",
    "plt.bar(str_groups, maintaineds_mean, align='edge', width=0.3)\n",
    "plt.xticks(range(len(str_maintaineds)), rotation='vertical')\n",
    "plt.xlabel(\"Group\")\n",
    "plt.ylabel(\"Mean Score\")\n",
    "plt.tight_layout\n",
    "plt.show()"
   ]
  },
  {
   "cell_type": "code",
   "execution_count": 262,
   "id": "c209a157",
   "metadata": {},
   "outputs": [
    {
     "name": "stdout",
     "output_type": "stream",
     "text": [
      "[-0.8942307692307693, -0.8, -0.7488584474885844, -0.794818652849741, -1.0, -0.8575010447137484, -0.7461139896373057, -0.7086092715231788, -0.5875, nan, 10.0]\n"
     ]
    },
    {
     "data": {
      "image/png": "[encoded data removed]",
      "text/plain": [
       "<Figure size 432x288 with 1 Axes>"
      ]
     },
     "metadata": {
      "needs_background": "light"
     },
     "output_type": "display_data"
    }
   ],
   "source": [
    "packagings = [apache_packaging,\n",
    "                cncf_packaging,\n",
    "                eclipse_packaging,\n",
    "                google_packaging,\n",
    "                huawei_packaging,\n",
    "                ibm_packaging,\n",
    "                microsoft_packaging,\n",
    "                samsung_packaging,\n",
    "                tencent_packaging,\n",
    "                jss_packaging,\n",
    "                pys_packaging]\n",
    "\n",
    "str_packagings = ['apache_packaging',\n",
    "                'cncf_packaging',\n",
    "                'eclipse_packaging',\n",
    "                'google_packaging',\n",
    "                'huawei_packaging',\n",
    "                'ibm_packaging',\n",
    "                'microsoft_packaging',\n",
    "                'samsung_packaging',\n",
    "                'tencent_packaging',\n",
    "                'jss_packaging',\n",
    "                'pys_packaging']\n",
    "\n",
    "packagings_mean = []\n",
    "for item in packagings:\n",
    "    packagings_mean.append(item.mean())\n",
    "\n",
    "print(packagings_mean)\n",
    "\n",
    "plt.title(\"Packaging Mean Scores\")\n",
    "plt.bar(str_groups, packagings_mean, align='edge', width=0.3)\n",
    "plt.xticks(range(len(str_packagings)), rotation='vertical')\n",
    "plt.xlabel(\"Group\")\n",
    "plt.ylabel(\"Mean Score\")\n",
    "plt.tight_layout\n",
    "plt.show()"
   ]
  },
  {
   "cell_type": "markdown",
   "id": "f29ac7b2",
   "metadata": {},
   "source": [
    "# Stopping point"
   ]
  },
  {
   "cell_type": "code",
   "execution_count": 282,
   "id": "db2b06bb",
   "metadata": {},
   "outputs": [
    {
     "name": "stdout",
     "output_type": "stream",
     "text": [
      "[8.932692307692308, 9.145454545454545, 8.860730593607306, 9.07461139896373, 9.8, 8.918930213121605, 8.983513895430994, 9.099337748344372, 8.4375, 8.907216494845361, 7.096774193548387]\n"
     ]
    },
    {
     "data": {
      "image/png": "[encoded data removed]",
      "text/plain": [
       "<Figure size 432x288 with 1 Axes>"
      ]
     },
     "metadata": {
      "needs_background": "light"
     },
     "output_type": "display_data"
    }
   ],
   "source": [
    "pinned_deps = [apache_pinned_dep,\n",
    "            cncf_pinned_dep,\n",
    "            eclipse_pinned_dep,\n",
    "            google_pinned_dep,\n",
    "                huawei_pinned_dep,\n",
    "                ibm_pinned_dep,\n",
    "                microsoft_pinned_dep,\n",
    "                samsung_pinned_dep,\n",
    "                tencent_pinned_dep,\n",
    "                jss_pinned_dep,\n",
    "                pys_pinned_dep]\n",
    "\n",
    "str_pinned_deps = ['apache_pinned_dep',\n",
    "                'cncf_pinned_dep',\n",
    "                'eclipse_pinned_dep',\n",
    "                'google_pinned_dep',\n",
    "                'huawei_pinned_dep',\n",
    "                'ibm_pinned_dep',\n",
    "                'microsoft_pinned_dep',\n",
    "                'samsung_pinned_dep',\n",
    "                'tencent_pinned_dep',\n",
    "                'jss_pinned_dep',\n",
    "                'pys_pinned_dep']\n",
    "\n",
    "pinned_deps_mean = []\n",
    "for item in pinned_deps:\n",
    "    pinned_deps_mean.append(item.mean())\n",
    "\n",
    "print(pinned_deps_mean)\n",
    "\n",
    "plt.title(\"Pinned Dependencies Mean Scores\")\n",
    "plt.bar(str_groups, pinned_deps_mean, align='edge', width=0.3)\n",
    "plt.xticks(range(len(str_pinned_deps)), rotation='vertical')\n",
    "plt.xlabel(\"Group\")\n",
    "plt.ylabel(\"Mean Score\")\n",
    "plt.tight_layout\n",
    "plt.show()"
   ]
  },
  {
   "cell_type": "code",
   "execution_count": 284,
   "id": "a5eebb12",
   "metadata": {},
   "outputs": [
    {
     "name": "stdout",
     "output_type": "stream",
     "text": [
      "[0.8990384615384616, -0.00909090909090909, 0.4269406392694064, 0.14404145077720207, 0.0, 0.13288758880066862, 0.6316533207724918, 0.033112582781456956, 0.20625, 0.08591065292096219, 1.2173913043478262]\n"
     ]
    },
    {
     "data": {
      "image/png": "[encoded data removed]",
      "text/plain": [
       "<Figure size 432x288 with 1 Axes>"
      ]
     },
     "metadata": {
      "needs_background": "light"
     },
     "output_type": "display_data"
    }
   ],
   "source": [
    "sasts = [apache_sast,\n",
    "                cncf_sast,\n",
    "                eclipse_sast,\n",
    "                google_sast,\n",
    "                huawei_sast,\n",
    "                ibm_sast,\n",
    "                microsoft_sast,\n",
    "                samsung_sast,\n",
    "                tencent_sast,\n",
    "                jss_sast,\n",
    "                pys_sast]\n",
    "\n",
    "str_sasts = ['apache_sast',\n",
    "                'cncf_sast',\n",
    "                'elcipse_sast',\n",
    "                'google_sast',\n",
    "                'huawei_sast',\n",
    "                'ibm_sast',\n",
    "                'microsoft_sast',\n",
    "                'samsung_sast',\n",
    "                'tencent_sast',\n",
    "                'jss_sast',\n",
    "                'pys_sast']\n",
    "\n",
    "sasts_mean = []\n",
    "for item in sasts:\n",
    "    sasts_mean.append(item.mean())\n",
    "\n",
    "print(sasts_mean)\n",
    "\n",
    "plt.title(\"SAST Mean Scores\")\n",
    "plt.bar(str_groups, sasts_mean, align='edge', width=0.3)\n",
    "plt.xticks(range(len(str_sasts)), rotation='vertical')\n",
    "plt.xlabel(\"Group\")\n",
    "plt.ylabel(\"Mean Score\")\n",
    "plt.tight_layout\n",
    "plt.show()"
   ]
  },
  {
   "cell_type": "code",
   "execution_count": 285,
   "id": "d9d3b7ca",
   "metadata": {},
   "outputs": [
    {
     "name": "stdout",
     "output_type": "stream",
     "text": [
      "[10.0, 0.18181818181818182, 1.0022831050228311, 9.98341968911917, -0.01, 0.09987463435018805, 9.979510127178521, 0.1986754966887417, 0.11875, 4.123711340206185, 4.25531914893617]\n"
     ]
    },
    {
     "data": {
      "image/png": "[encoded data removed]",
      "text/plain": [
       "<Figure size 432x288 with 1 Axes>"
      ]
     },
     "metadata": {
      "needs_background": "light"
     },
     "output_type": "display_data"
    }
   ],
   "source": [
    "sec_pols = [apache_sec_pol,\n",
    "                cncf_sec_pol,\n",
    "                eclipse_sec_pol,\n",
    "                google_sec_pol,\n",
    "                huawei_sec_pol,\n",
    "                ibm_sec_pol,\n",
    "                microsoft_sec_pol,\n",
    "                samsung_sec_pol,\n",
    "                tencent_sec_pol,\n",
    "                jss_sec_pol,\n",
    "                pys_sec_pol]\n",
    "\n",
    "str_sec_pols = ['apache_sec_pol',\n",
    "                'cncf_sec_pol',\n",
    "                'eclipse_sec_pol',\n",
    "                'google_sec_pol',\n",
    "                'huawei_sec_pol',\n",
    "                'ibm_sec_pol',\n",
    "                'microsoft_sec_pol',\n",
    "                'samsung_sec_pol',\n",
    "                'tencent_sec_pol',\n",
    "                'jss_sec_pol',\n",
    "                'pys_sec_pol']\n",
    "\n",
    "sec_pols_mean = []\n",
    "for item in sec_pols:\n",
    "    sec_pols_mean.append(item.mean())\n",
    "\n",
    "print(sec_pols_mean)\n",
    "\n",
    "plt.title(\"Security Policy Mean Scores\")\n",
    "plt.bar(str_groups, sec_pols_mean, align='edge', width=0.3)\n",
    "plt.xticks(range(len(str_sec_pols)), rotation='vertical')\n",
    "plt.xlabel(\"Group\")\n",
    "plt.ylabel(\"Mean Score\")\n",
    "plt.tight_layout\n",
    "plt.show()"
   ]
  },
  {
   "cell_type": "code",
   "execution_count": 286,
   "id": "50c0fe11",
   "metadata": {},
   "outputs": [
    {
     "name": "stdout",
     "output_type": "stream",
     "text": [
      "[-0.9615384615384616, -0.9727272727272728, -0.9041095890410958, -0.8880829015544042, -0.97, -0.9218554116172168, -0.8433820065944418, -0.8013245033112583, -0.7875, nan, 2.1739130434782594]\n"
     ]
    },
    {
     "data": {
      "image/png": "[encoded data removed]",
      "text/plain": [
       "<Figure size 432x288 with 1 Axes>"
      ]
     },
     "metadata": {
      "needs_background": "light"
     },
     "output_type": "display_data"
    }
   ],
   "source": [
    "signed_rels = [apache_signed_rel,\n",
    "                cncf_signed_rel,\n",
    "                eclipse_signed_rel,\n",
    "                google_signed_rel,\n",
    "                huawei_signed_rel,\n",
    "                ibm_signed_rel,\n",
    "                microsoft_signed_rel,\n",
    "                samsung_signed_rel,\n",
    "                tencent_signed_rel,\n",
    "                jss_signed_rel,\n",
    "                pys_signed_rel]\n",
    "\n",
    "str_signed_rels = ['apache_signed_rel',\n",
    "                'cncf_signed_rel',\n",
    "                'eclipse_signed_rel',\n",
    "                'google_signed_rel',\n",
    "                'huawei_signed_rel',\n",
    "                'ibm_signed_rel',\n",
    "                'microsoft_signed_rel',\n",
    "                'samsung_signed_rel',\n",
    "                'tencent_signed_rel',\n",
    "                'jss_signed_rel',\n",
    "                'pys_signed_rel']\n",
    "\n",
    "signed_rels_mean = []\n",
    "for item in signed_rels:\n",
    "    signed_rels_mean.append(item.mean())\n",
    "\n",
    "print(signed_rels_mean)\n",
    "\n",
    "plt.title(\"Signed Release Mean Scores\")\n",
    "plt.bar(str_groups, signed_rels_mean, align='edge', width=0.3)\n",
    "plt.xticks(range(len(str_signed_rels)), rotation='vertical')\n",
    "plt.xlabel(\"Group\")\n",
    "plt.ylabel(\"Mean Score\")\n",
    "plt.tight_layout\n",
    "plt.show()"
   ]
  },
  {
   "cell_type": "code",
   "execution_count": 287,
   "id": "abb45813",
   "metadata": {},
   "outputs": [
    {
     "name": "stdout",
     "output_type": "stream",
     "text": [
      "[7.115384615384615, 8.436363636363636, 7.707762557077626, 7.670466321243524, 9.89, 8.950689511073966, 7.717145548751766, 8.741721854304636, 6.74375, 3.711340206185567, 1.9148936170212767]\n"
     ]
    },
    {
     "data": {
      "image/png": "[encoded data removed]",
      "text/plain": [
       "<Figure size 432x288 with 1 Axes>"
      ]
     },
     "metadata": {
      "needs_background": "light"
     },
     "output_type": "display_data"
    }
   ],
   "source": [
    "token_perms = [apache_token_perm,\n",
    "                cncf_token_perm,\n",
    "                eclipse_token_perm,\n",
    "                google_token_perm,\n",
    "                huawei_token_perm,\n",
    "                ibm_token_perm,\n",
    "                microsoft_token_perm,\n",
    "                samsung_token_perm,\n",
    "                tencent_token_perm,\n",
    "                jss_token_perm,\n",
    "                pys_token_perm]\n",
    "\n",
    "str_token_perms = ['apache_token_perm',\n",
    "                'cncf_token_perm',\n",
    "                'eclipse_token_perm',\n",
    "                'google_token_perm',\n",
    "                'huawei_token_perm',\n",
    "                'ibm_token_perm',\n",
    "                'microsoft_token_perm',\n",
    "                'samsung_token_perm',\n",
    "                'tencent_token_perm',\n",
    "                'jss_token_perm',\n",
    "                'pys_token_perm']\n",
    "\n",
    "token_perms_mean = []\n",
    "for item in token_perms:\n",
    "    token_perms_mean.append(item.mean())\n",
    "\n",
    "print(token_perms_mean)\n",
    "\n",
    "plt.title(\"Token Permissions Mean Scores\")\n",
    "plt.bar(str_groups, token_perms_mean, align='edge', width=0.3)\n",
    "plt.xticks(range(len(str_token_perms)), rotation='vertical')\n",
    "plt.xlabel(\"Group\")\n",
    "plt.ylabel(\"Mean Score\")\n",
    "plt.tight_layout\n",
    "plt.show()"
   ]
  },
  {
   "cell_type": "code",
   "execution_count": 288,
   "id": "520d8406",
   "metadata": {},
   "outputs": [
    {
     "name": "stdout",
     "output_type": "stream",
     "text": [
      "[10.0, 10.0, 10.0, 9.996891191709844, 10.0, 10.0, 10.0, 10.0, 10.0, 10.0, 10.0]\n"
     ]
    },
    {
     "data": {
      "image/png": "[encoded data removed]",
      "text/plain": [
       "<Figure size 432x288 with 1 Axes>"
      ]
     },
     "metadata": {
      "needs_background": "light"
     },
     "output_type": "display_data"
    }
   ],
   "source": [
    "vulns = [apache_vuln,\n",
    "                cncf_vuln,\n",
    "                eclipse_vuln,\n",
    "                google_vuln,\n",
    "                huawei_vuln,\n",
    "                ibm_vuln,\n",
    "                microsoft_vuln,\n",
    "                samsung_vuln,\n",
    "                tencent_vuln,\n",
    "                jss_vuln,\n",
    "                pys_vuln]\n",
    "\n",
    "str_vulns = ['apache_vuln',\n",
    "                'cncf_vuln',\n",
    "                'eclipse_vuln',\n",
    "                'google_vuln',\n",
    "                'huawei_vuln',\n",
    "                'ibm_vuln',\n",
    "                'microsoft_vuln',\n",
    "                'samsung_vuln',\n",
    "                'tencent_vuln',\n",
    "                'jss_vuln',\n",
    "                'pys_vuln']\n",
    "\n",
    "vulns_mean = []\n",
    "for item in vulns:\n",
    "    vulns_mean.append(item.mean())\n",
    "\n",
    "print(vulns_mean)\n",
    "\n",
    "plt.title(\"Vulnerabilities Mean Scores\")\n",
    "plt.bar(str_groups, vulns_mean, align='edge', width=0.3)\n",
    "plt.xticks(range(len(str_vulns)), rotation='vertical')\n",
    "plt.xlabel(\"Group\")\n",
    "plt.ylabel(\"Mean Score\")\n",
    "plt.tight_layout\n",
    "plt.show()"
   ]
  },
  {
   "cell_type": "code",
   "execution_count": 295,
   "id": "27bd7e07",
   "metadata": {},
   "outputs": [
    {
     "data": {
      "text/plain": [
       "['bin_art',\n",
       " 'bran_pro',\n",
       " 'ci_test',\n",
       " 'cii_best',\n",
       " 'code_rev',\n",
       " 'contrib',\n",
       " 'dang_work',\n",
       " 'dep_update',\n",
       " 'fuzz',\n",
       " 'license',\n",
       " 'maintained',\n",
       " 'packaging',\n",
       " 'pinned_dep',\n",
       " 'sast',\n",
       " 'sec_pol',\n",
       " 'signed_rel',\n",
       " 'token_perm',\n",
       " 'vulns']"
      ]
     },
     "execution_count": 295,
     "metadata": {},
     "output_type": "execute_result"
    }
   ],
   "source": [
    "checks"
   ]
  },
  {
   "cell_type": "code",
   "execution_count": 330,
   "id": "416b5665",
   "metadata": {
    "scrolled": true
   },
   "outputs": [
    {
     "data": {
      "image/png": "[encoded data removed]",
      "text/plain": [
       "<Figure size 1296x1152 with 18 Axes>"
      ]
     },
     "metadata": {
      "needs_background": "light"
     },
     "output_type": "display_data"
    }
   ],
   "source": [
    "fig, ((ax0, ax1), (ax2, ax3), (ax4, ax5), (ax6, ax7), (ax8,\n",
    "      ax9), (ax10, ax11), (ax12, ax13), (ax14, ax15), \n",
    "      (ax16, ax17)) = plt.subplots(nrows=9, ncols=2, figsize=(18,16))\n",
    "\n",
    "plt.rc('font', size=12)\n",
    "\n",
    "ax0.bar(str_groups,\n",
    "        bin_arts_mean,\n",
    "        align='center',\n",
    "        width=0.3       \n",
    ")\n",
    "ax0.set_ylabel(\"Score\", size=14)\n",
    "ax0.set_title(\"Binary Artifacts\")\n",
    "\n",
    "ax1.bar(str_groups,\n",
    "        bran_pros_mean,\n",
    "        align='center',\n",
    "        width=0.3       \n",
    ")\n",
    "ax1.set_ylabel(\"Score\", size=14)\n",
    "ax1.set_title(\"Branch Protection\")\n",
    "\n",
    "ax2.bar(str_groups,\n",
    "        ci_tests_mean,\n",
    "        align='center',\n",
    "        width=0.3       \n",
    ")\n",
    "ax2.set_ylabel(\"Score\", size=14)\n",
    "ax2.set_title(\"CI Tests\")\n",
    "\n",
    "ax3.bar(str_groups,\n",
    "        cii_bests_mean,\n",
    "        align='center',\n",
    "        width=0.3       \n",
    ")\n",
    "ax3.set_ylabel(\"Score\", size=14)\n",
    "ax3.set_title(\"CII Best Practices\")\n",
    "\n",
    "ax4.bar(str_groups,\n",
    "        code_revs_mean,\n",
    "        align='center',\n",
    "        width=0.3       \n",
    ")\n",
    "ax4.set_ylabel(\"Score\", size=14)\n",
    "ax4.set_title(\"Code Reviews\")\n",
    "\n",
    "ax5.bar(str_groups,\n",
    "        contribs_mean,\n",
    "        align='center',\n",
    "        width=0.3       \n",
    ")\n",
    "ax5.set_ylabel(\"Score\", size=14)\n",
    "ax5.set_title(\"Contributors\")\n",
    "\n",
    "ax6.bar(str_groups,\n",
    "        dang_works_mean,\n",
    "        align='center',\n",
    "        width=0.3       \n",
    ")\n",
    "ax6.set_ylabel(\"Score\", size=14)\n",
    "ax6.set_title(\"Dangerous Workflow\")\n",
    "\n",
    "ax7.bar(str_groups,\n",
    "        dep_updates_mean,\n",
    "        align='center',\n",
    "        width=0.3       \n",
    ")\n",
    "ax7.set_ylabel(\"Score\", size=14)\n",
    "ax7.set_title(\"Dependency Updates\")\n",
    "\n",
    "ax8.bar(str_groups,\n",
    "        fuzzs_mean,\n",
    "        align='center',\n",
    "        width=0.3       \n",
    ")\n",
    "ax8.set_ylabel(\"Score\", size=14)\n",
    "ax8.set_title(\"Fuzzing\")\n",
    "\n",
    "ax9.bar(str_groups,\n",
    "        licenses_mean,\n",
    "        align='center',\n",
    "        width=0.3       \n",
    ")\n",
    "ax9.set_ylabel(\"Score\", size=14)\n",
    "ax9.set_title(\"Licenses\")\n",
    "\n",
    "ax10.bar(str_groups,\n",
    "        maintaineds_mean,\n",
    "        align='center',\n",
    "        width=0.3       \n",
    ")\n",
    "ax10.set_ylabel(\"Score\", size=14)\n",
    "ax10.set_title(\"Maintained\")\n",
    "\n",
    "ax11.bar(str_groups,\n",
    "        packagings_mean,\n",
    "        align='center',\n",
    "        width=0.3       \n",
    ")\n",
    "ax11.set_ylabel(\"Score\", size=14)\n",
    "ax11.set_title(\"Packaging\")\n",
    "\n",
    "ax12.bar(str_groups,\n",
    "        pinned_deps_mean,\n",
    "        align='center',\n",
    "        width=0.3       \n",
    ")\n",
    "ax12.set_ylabel(\"Score\", size=14)\n",
    "ax12.set_title(\"Pinned Dependencies\")\n",
    "\n",
    "ax13.bar(str_groups,\n",
    "        sasts_mean,\n",
    "        align='center',\n",
    "        width=0.3       \n",
    ")\n",
    "ax13.set_ylabel(\"Score\", size=14)\n",
    "ax13.set_title(\"SAST\")\n",
    "\n",
    "ax14.bar(str_groups,\n",
    "        sec_pols_mean,\n",
    "        align='center',\n",
    "        width=0.3       \n",
    ")\n",
    "ax14.set_ylabel(\"Score\", size=14)\n",
    "ax14.set_title(\"Security Policy\")\n",
    "\n",
    "ax15.bar(str_groups,\n",
    "        signed_rels_mean,\n",
    "        align='center',\n",
    "        width=0.3       \n",
    ")\n",
    "ax15.set_ylabel(\"Score\", size=14)\n",
    "ax15.set_title(\"Packaging\")\n",
    "\n",
    "ax16.bar(str_groups,\n",
    "        token_perms_mean,\n",
    "        align='center',\n",
    "        width=0.3       \n",
    ")\n",
    "ax16.set_ylabel(\"Score\", size=14)\n",
    "ax16.set_xlabel(\"Groups\", size=14)\n",
    "ax16.set_title(\"Token Permissions\")\n",
    "\n",
    "ax17.bar(str_groups,\n",
    "        vulns_mean,\n",
    "        align='center',\n",
    "        width=0.3       \n",
    ")\n",
    "ax17.set_ylabel(\"Score\", size=14)\n",
    "ax17.set_xlabel(\"Groups\", size=14)\n",
    "ax17.set_title(\"Vulnerabilities\")\n",
    "\n",
    "plt.tight_layout()\n",
    "plt.show()"
   ]
  },
  {
   "cell_type": "code",
   "execution_count": null,
   "id": "01bfd1e5",
   "metadata": {},
   "outputs": [],
   "source": [
    "fig, axes = plt.subplots(n_rows, n_cols)\n",
    "for row_num in range(n_rows):\n",
    "    for col_num in range(n_cols):\n",
    "        ax = axes[row_num][col_num]\n",
    "        ax.plot(np.random.rand(20))\n",
    "        ax.set_title(f'Plot ({row_num+1}, {col_num+1})')\n",
    "        \n",
    "        \n",
    "fig, ((ax0, ax1, ax2), (ax3, ax4, ax5), (ax6, ax7, ax8),\n",
    "      (ax9, ax10, ax11), (ax12, ax13, ax14), (ax15, ax16, ax17)) = plt.subplots(nrows=6, ncols=3, figsize=(16,8))\n",
    "\n",
    "ax0.bar(str_groups,\n",
    "        bin_arts_mean,\n",
    "        align='edge',\n",
    "        width=0.3       \n",
    ")\n",
    "\n"
   ]
  }
 ],
 "metadata": {
  "kernelspec": {
   "display_name": "Python 3 (ipykernel)",
   "language": "python",
   "name": "python3"
  },
  "language_info": {
   "codemirror_mode": {
    "name": "ipython",
    "version": 3
   },
   "file_extension": ".py",
   "mimetype": "text/x-python",
   "name": "python",
   "nbconvert_exporter": "python",
   "pygments_lexer": "ipython3",
   "version": "3.9.13"
  }
 },
 "nbformat": 4,
 "nbformat_minor": 5
}
