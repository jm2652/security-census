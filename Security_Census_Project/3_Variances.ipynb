{
 "cells": [
  {
   "cell_type": "code",
   "execution_count": 1,
   "id": "b01d19e0",
   "metadata": {},
   "outputs": [
    {
     "name": "stdout",
     "output_type": "stream",
     "text": [
      "Setup complete.\n",
      "Yes\n"
     ]
    }
   ],
   "source": [
    "from Score_Setup import *"
   ]
  },
  {
   "cell_type": "code",
   "execution_count": null,
   "id": "468df4b0",
   "metadata": {},
   "outputs": [],
   "source": [
    "bin_art = alldf"
   ]
  },
  {
   "cell_type": "code",
   "execution_count": null,
   "id": "d6bb6457",
   "metadata": {},
   "outputs": [],
   "source": []
  },
  {
   "cell_type": "code",
   "execution_count": 2,
   "id": "99c3e5e5",
   "metadata": {},
   "outputs": [
    {
     "ename": "NameError",
     "evalue": "name 'score' is not defined",
     "output_type": "error",
     "traceback": [
      "\u001b[0;31m---------------------------------------------------------------------------\u001b[0m",
      "\u001b[0;31mNameError\u001b[0m                                 Traceback (most recent call last)",
      "Input \u001b[0;32mIn [2]\u001b[0m, in \u001b[0;36m<cell line: 1>\u001b[0;34m()\u001b[0m\n\u001b[0;32m----> 1\u001b[0m score_var \u001b[38;5;241m=\u001b[39m \u001b[43mscore\u001b[49m\u001b[38;5;241m.\u001b[39mvar()\n\u001b[1;32m      2\u001b[0m bin_art_var \u001b[38;5;241m=\u001b[39m bin_art\u001b[38;5;241m.\u001b[39mvar()\n\u001b[1;32m      3\u001b[0m branch_pro_var \u001b[38;5;241m=\u001b[39m branch_pro\u001b[38;5;241m.\u001b[39mvar()\n",
      "\u001b[0;31mNameError\u001b[0m: name 'score' is not defined"
     ]
    }
   ],
   "source": [
    "score_var = score.var()\n",
    "bin_art_var = bin_art.var()\n",
    "branch_pro_var = branch_pro.var()\n",
    "ci_tests_var = ci_tests.var()\n",
    "cii_best_var = cii_best.var()\n",
    "code_rev_var = code_rev.var()\n",
    "contrib_var = contrib.var()\n",
    "dang_work_var = dang_work.var()\n",
    "dep_update_var = dep_update.var()\n",
    "fuzzing_var = fuzzing.var()\n",
    "license_var = license.var()\n",
    "maintain_var = maintain.var()\n",
    "packaging_var = packaging.var()\n",
    "pinned_dep_var = pinned_dep.var()\n",
    "sast_var = sast.var()\n",
    "sec_pol_var = sec_pol.var()\n",
    "signed_rel_var = signed_rel.var()\n",
    "token_perm_var = token_perm.var()\n",
    "vulns_var = vulns.var()\n",
    "webhooks_var = webhooks.var()"
   ]
  },
  {
   "cell_type": "code",
   "execution_count": null,
   "id": "92b5741b",
   "metadata": {},
   "outputs": [],
   "source": []
  },
  {
   "cell_type": "code",
   "execution_count": null,
   "id": "1ce8b27d",
   "metadata": {},
   "outputs": [],
   "source": []
  },
  {
   "cell_type": "markdown",
   "id": "47b7d2c8",
   "metadata": {},
   "source": [
    "# Bar graph of variances"
   ]
  },
  {
   "cell_type": "code",
   "execution_count": null,
   "id": "288a810d",
   "metadata": {},
   "outputs": [],
   "source": []
  },
  {
   "cell_type": "code",
   "execution_count": null,
   "id": "b491fa17",
   "metadata": {},
   "outputs": [],
   "source": []
  },
  {
   "cell_type": "code",
   "execution_count": null,
   "id": "f4ba1a1f",
   "metadata": {},
   "outputs": [],
   "source": []
  },
  {
   "cell_type": "code",
   "execution_count": null,
   "id": "73cfc118",
   "metadata": {},
   "outputs": [],
   "source": []
  },
  {
   "cell_type": "code",
   "execution_count": null,
   "id": "293c2a39",
   "metadata": {},
   "outputs": [],
   "source": []
  },
  {
   "cell_type": "code",
   "execution_count": null,
   "id": "c6a50d87",
   "metadata": {},
   "outputs": [],
   "source": []
  },
  {
   "cell_type": "code",
   "execution_count": null,
   "id": "41c5f5da",
   "metadata": {},
   "outputs": [],
   "source": []
  },
  {
   "cell_type": "code",
   "execution_count": null,
   "id": "3524428a",
   "metadata": {},
   "outputs": [],
   "source": []
  },
  {
   "cell_type": "code",
   "execution_count": null,
   "id": "8b50434d",
   "metadata": {},
   "outputs": [],
   "source": []
  }
 ],
 "metadata": {
  "kernelspec": {
   "display_name": "Python 3 (ipykernel)",
   "language": "python",
   "name": "python3"
  },
  "language_info": {
   "codemirror_mode": {
    "name": "ipython",
    "version": 3
   },
   "file_extension": ".py",
   "mimetype": "text/x-python",
   "name": "python",
   "nbconvert_exporter": "python",
   "pygments_lexer": "ipython3",
   "version": "3.9.13"
  }
 },
 "nbformat": 4,
 "nbformat_minor": 5
}
