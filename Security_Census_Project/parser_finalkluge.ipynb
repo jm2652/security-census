{
 "cells": [
  {
   "cell_type": "code",
   "execution_count": null,
   "id": "799baa54",
   "metadata": {},
   "outputs": [],
   "source": [
    "'''This code is very kludgey. Couldn't figure out how to make it work without duplicating rows and/or\n",
    "    headers. So here are the instructions:\n",
    "1. Paste the relevant name into Cells 3,4,7,8,9\n",
    "2. Get relevant list by changing Cells 3 & 4 manually. Copy whole list.\n",
    "3. Paste list into cell 5. Immediately remove all but the first item in the list manually. This is to\n",
    "    set up Round 1.\n",
    "4. Make sure Cell 7 has the writeheader() method enabled.\n",
    "5. Make sure Cell 8 opens in 'w' mode.\n",
    "6. Now comment out writeheader() method in Cell 7, and change Cell 8 to 'a' mode. Hit Command Z in \n",
    "    Cell 5 and now delete the first item and leave all the others in.\n",
    "7. Make sure that no weird files like '.DS_Store' are in there by manually checking cat results.\n",
    "8. Profit!\n"
   ]
  },
  {
   "cell_type": "code",
   "execution_count": 1,
   "id": "60f8a332",
   "metadata": {},
   "outputs": [],
   "source": [
    "import json\n",
    "import csv\n",
    "import os"
   ]
  },
  {
   "cell_type": "code",
   "execution_count": 2,
   "id": "7acd022f",
   "metadata": {},
   "outputs": [],
   "source": [
    "# Make sure you're in the right folder,and that way you don't \n",
    "# have to specify filepath and can just use Cell 4 results\n",
    "os.chdir('/Users/jaco/Desktop/Coding/new_repos/New_CNCF/real_cncf')"
   ]
  },
  {
   "cell_type": "code",
   "execution_count": 3,
   "id": "0d60c0cd",
   "metadata": {},
   "outputs": [
    {
     "name": "stdout",
     "output_type": "stream",
     "text": [
      "['github.com-in-toto-in-toto.json', 'github.com-kedacore-keda.json', 'github.com-jaegertracing-jaeger.json', 'github.com-fluent-fluentd.json', 'https:--github.com-cilium-cilium.json', 'github.com-kubeedge-kubeedge.json', 'https:--github.com-argoproj-argo-workflows.json', 'github.com-nats-io-nats-server.json', 'github.com-thanos-io-thanos.json', 'https:--github.com-buildpacks-pack.json', 'github.com-kyverno-kyverno.json', '.DS_Store', 'https:--github.com-cri-o-cri-o.json', 'github.com-falcosecurity-falco.json', 'https:--github.com-backstage-backstage.json', 'github.com-fluxcd-flux2.json', 'github.com-operator-framework-operator-sdk.json', 'github.com-tikv-tikv.json', 'github.com-open-telemetry-community.json', 'github.com-longhorn-longhorn.json', 'github.com-notaryproject-notary.json', 'github.com-projectcontour-contour.json', 'https:--github.com-dragonflyoss-Dragonfly2.json', 'github.com-keptn-keptn.json', 'github.com-etcd-io-etcd.json', 'github.com-kubernetes-kubernetes.json', 'github.com-coredns-coredns.json', 'github.com-knative-serving.json', 'github.com-open-policy-agent-opa.json', 'github.com-rook-rook.json', 'github.com-prometheus-prometheus.json', 'https:--github.com-dapr-dapr.json', 'https:--github.com-cubeFS-cubefs.json', 'github.com-cloudevents-spec.json', 'github.com-containernetworking-cni.json', 'github.com-volcano-sh-volcano.json', 'github.com-vitessio-vitess.json', 'github.com-envoyproxy-envoy.json', 'github.com-cilium-tetragon.json', 'github.com-fluxcd-flagger.json', 'github.com-containerd-containerd.json', 'github.com-spiffe-spiffe.json', 'github.com-theupdateframework-python-tuf.json', 'https:--github.com-emissary-ingress-emissary.json', 'github.com-spiffe-spire.json', 'github.com-linkerd-linkerd2.json', 'github.com-kubevirt-kubevirt.json', 'github.com-cortexproject-cortex.json', 'github.com-OpenObservability-OpenMetrics.json', 'https:--github.com-chaos-mesh-chaos-mesh.json', 'github.com-goharbor-harbor.json', 'github.com-grpc-grpc.json', 'github.com-helm-helm.json', 'github.com-crossplane-crossplane.json', 'github.com-cilium-hubble.json', 'github.com-litmuschaos-litmus.json']\n"
     ]
    }
   ],
   "source": [
    "datalist = os.listdir('/Users/jaco/Desktop/Coding/new_repos/New_CNCF/real_cncf')\n",
    "print(datalist)"
   ]
  },
  {
   "cell_type": "code",
   "execution_count": 11,
   "id": "e1ec16e6",
   "metadata": {},
   "outputs": [],
   "source": [
    "files = ['https:--github.com-cri-o-cri-o.json', 'github.com-falcosecurity-falco.json', 'https:--github.com-backstage-backstage.json', 'github.com-fluxcd-flux2.json', 'github.com-operator-framework-operator-sdk.json', 'github.com-tikv-tikv.json', 'github.com-open-telemetry-community.json', 'github.com-longhorn-longhorn.json', 'github.com-notaryproject-notary.json', 'github.com-projectcontour-contour.json', 'https:--github.com-dragonflyoss-Dragonfly2.json', 'github.com-keptn-keptn.json', 'github.com-etcd-io-etcd.json', 'github.com-kubernetes-kubernetes.json', 'github.com-coredns-coredns.json', 'github.com-knative-serving.json', 'github.com-open-policy-agent-opa.json', 'github.com-rook-rook.json', 'github.com-prometheus-prometheus.json', 'https:--github.com-dapr-dapr.json', 'https:--github.com-cubeFS-cubefs.json', 'github.com-cloudevents-spec.json', 'github.com-containernetworking-cni.json', 'github.com-volcano-sh-volcano.json', 'github.com-vitessio-vitess.json', 'github.com-envoyproxy-envoy.json', 'github.com-cilium-tetragon.json', 'github.com-fluxcd-flagger.json', 'github.com-containerd-containerd.json', 'github.com-spiffe-spiffe.json', 'github.com-theupdateframework-python-tuf.json', 'https:--github.com-emissary-ingress-emissary.json', 'github.com-spiffe-spire.json', 'github.com-linkerd-linkerd2.json', 'github.com-kubevirt-kubevirt.json', 'github.com-cortexproject-cortex.json', 'github.com-OpenObservability-OpenMetrics.json', 'https:--github.com-chaos-mesh-chaos-mesh.json', 'github.com-goharbor-harbor.json', 'github.com-grpc-grpc.json', 'github.com-helm-helm.json', 'github.com-crossplane-crossplane.json', 'github.com-cilium-hubble.json', 'github.com-litmuschaos-litmus.json']"
   ]
  },
  {
   "cell_type": "code",
   "execution_count": 5,
   "id": "94162dda",
   "metadata": {},
   "outputs": [],
   "source": [
    "def repo_parse(repo):\n",
    "\trepo_dict = {\"name\": repo[\"repo\"][\"name\"],\n",
    "                \"score\": repo[\"score\"]}  \n",
    "\tfor check in repo[\"checks\"]:\n",
    "\t\trepo_dict[check[\"name\"]] = check[\"score\"]\n",
    "\treturn repo_dict"
   ]
  },
  {
   "cell_type": "code",
   "execution_count": 9,
   "id": "4c51a500",
   "metadata": {},
   "outputs": [],
   "source": [
    "def to_csv(input_data, output_file):\n",
    "#     with open(output_file, \"a\", encoding=\"utf-8\", newline='') as t:\n",
    "    fieldnames = ['Grouping', 'name', 'score', 'binary-artifacts', 'branch-protection', 'ci-tests', 'cii-best-practices', 'code-review', 'contributors', 'dangerous-workflow', 'dependency-update-tool', 'fuzzing', 'license', 'maintained', 'packaging', 'pinned-dependencies', 'sast', 'security-policy', 'signed-releases', 'token-permissions', 'vulnerabilities']\n",
    "    writer = csv.DictWriter(t, fieldnames=fieldnames)\n",
    "#     writer.writeheader()\n",
    "#     for row in :\n",
    "    writer.writerow(\n",
    "    {\n",
    "        'Grouping': 'CNCF',\n",
    "        'name': input_data['name'],\n",
    "        'score': input_data['score'],\n",
    "        'binary-artifacts': input_data['Binary-Artifacts'],\n",
    "        'branch-protection': input_data['Branch-Protection'],\n",
    "       'ci-tests': input_data['CI-Tests'],\n",
    "        'cii-best-practices': input_data['CII-Best-Practices'],\n",
    "        'code-review':input_data['Code-Review'],\n",
    "        'contributors': input_data['Contributors'],\n",
    "        'dangerous-workflow': input_data['Dangerous-Workflow'],\n",
    "        'dependency-update-tool': input_data['Dependency-Update-Tool'],\n",
    "       'fuzzing': input_data['Fuzzing'],\n",
    "       'license': input_data['License'],\n",
    "       'maintained': input_data['Maintained'],\n",
    "       'packaging': input_data['Packaging'],\n",
    "       'pinned-dependencies': input_data['Pinned-Dependencies'],\n",
    "       'sast': input_data['SAST'],\n",
    "       'security-policy': input_data['Security-Policy'],\n",
    "        'signed-releases': input_data['Signed-Releases'],\n",
    "        'token-permissions': input_data['Token-Permissions'],\n",
    "        'vulnerabilities': input_data['Vulnerabilities'],\n",
    "    }\n",
    "        )"
   ]
  },
  {
   "cell_type": "code",
   "execution_count": 12,
   "id": "b3093d78",
   "metadata": {},
   "outputs": [
    {
     "name": "stdout",
     "output_type": "stream",
     "text": [
      "{'name': 'github.com/cri-o/cri-o', 'score': 7.5, 'Binary-Artifacts': 10, 'Branch-Protection': 3, 'CI-Tests': 10, 'CII-Best-Practices': 5, 'Code-Review': 9, 'Contributors': 10, 'Dangerous-Workflow': 10, 'Dependency-Update-Tool': 10, 'Fuzzing': 10, 'License': 10, 'Maintained': 10, 'Packaging': -1, 'Pinned-Dependencies': 5, 'SAST': 9, 'Security-Policy': 10, 'Signed-Releases': 0, 'Token-Permissions': 0, 'Vulnerabilities': 10, 'Webhooks': -1}\n",
      "https:--github.com-cri-o-cri-o.json\n",
      "{'name': 'github.com/falcosecurity/falco', 'score': 6.6, 'Binary-Artifacts': 10, 'Branch-Protection': 2, 'CI-Tests': 10, 'CII-Best-Practices': 5, 'Code-Review': 10, 'Contributors': 10, 'Dangerous-Workflow': 10, 'Dependency-Update-Tool': 0, 'Fuzzing': 0, 'License': 10, 'Maintained': 10, 'Packaging': -1, 'Pinned-Dependencies': 5, 'SAST': 7, 'Security-Policy': 10, 'Signed-Releases': -1, 'Token-Permissions': 0, 'Vulnerabilities': 10, 'Webhooks': -1}\n",
      "github.com-falcosecurity-falco.json\n",
      "{'name': 'github.com/backstage/backstage', 'score': 6.6, 'Binary-Artifacts': 10, 'Branch-Protection': 6, 'CI-Tests': 10, 'CII-Best-Practices': 0, 'Code-Review': 10, 'Contributors': 10, 'Dangerous-Workflow': 0, 'Dependency-Update-Tool': 10, 'Fuzzing': 0, 'License': 10, 'Maintained': 10, 'Packaging': 10, 'Pinned-Dependencies': 0, 'SAST': 9, 'Security-Policy': 10, 'Signed-Releases': -1, 'Token-Permissions': 0, 'Vulnerabilities': 10, 'Webhooks': -1}\n",
      "https:--github.com-backstage-backstage.json\n",
      "{'name': 'github.com/fluxcd/flux2', 'score': 7.8, 'Binary-Artifacts': 10, 'Branch-Protection': 8, 'CI-Tests': 10, 'CII-Best-Practices': 5, 'Code-Review': 10, 'Contributors': 10, 'Dangerous-Workflow': 10, 'Dependency-Update-Tool': 0, 'Fuzzing': 10, 'License': 10, 'Maintained': 10, 'Packaging': 10, 'Pinned-Dependencies': 0, 'SAST': 9, 'Security-Policy': 10, 'Signed-Releases': 10, 'Token-Permissions': 0, 'Vulnerabilities': 10, 'Webhooks': -1}\n",
      "github.com-fluxcd-flux2.json\n",
      "{'name': 'github.com/operator-framework/operator-sdk', 'score': 7.7, 'Binary-Artifacts': 10, 'Branch-Protection': 8, 'CI-Tests': 10, 'CII-Best-Practices': 0, 'Code-Review': 10, 'Contributors': 10, 'Dangerous-Workflow': 10, 'Dependency-Update-Tool': 10, 'Fuzzing': 0, 'License': 10, 'Maintained': 10, 'Packaging': 10, 'Pinned-Dependencies': 5, 'SAST': 0, 'Security-Policy': 10, 'Signed-Releases': 10, 'Token-Permissions': 0, 'Vulnerabilities': 10, 'Webhooks': -1}\n",
      "github.com-operator-framework-operator-sdk.json\n",
      "{'name': 'github.com/tikv/tikv', 'score': 6.8, 'Binary-Artifacts': 10, 'Branch-Protection': 8, 'CI-Tests': 10, 'CII-Best-Practices': 5, 'Code-Review': 10, 'Contributors': 10, 'Dangerous-Workflow': 10, 'Dependency-Update-Tool': 0, 'Fuzzing': 0, 'License': 10, 'Maintained': 10, 'Packaging': -1, 'Pinned-Dependencies': 2, 'SAST': 0, 'Security-Policy': 0, 'Signed-Releases': -1, 'Token-Permissions': 10, 'Vulnerabilities': 10, 'Webhooks': -1}\n",
      "github.com-tikv-tikv.json\n",
      "{'name': 'github.com/open-telemetry/community', 'score': 7.6, 'Binary-Artifacts': 10, 'Branch-Protection': 8, 'CI-Tests': -1, 'CII-Best-Practices': 0, 'Code-Review': 10, 'Contributors': 10, 'Dangerous-Workflow': 10, 'Dependency-Update-Tool': 0, 'Fuzzing': 0, 'License': 10, 'Maintained': 10, 'Packaging': -1, 'Pinned-Dependencies': 10, 'SAST': 0, 'Security-Policy': 10, 'Signed-Releases': -1, 'Token-Permissions': 10, 'Vulnerabilities': 10, 'Webhooks': -1}\n",
      "github.com-open-telemetry-community.json\n",
      "{'name': 'github.com/longhorn/longhorn', 'score': 5.6, 'Binary-Artifacts': 10, 'Branch-Protection': 8, 'CI-Tests': 0, 'CII-Best-Practices': 0, 'Code-Review': 7, 'Contributors': 10, 'Dangerous-Workflow': 10, 'Dependency-Update-Tool': 0, 'Fuzzing': 0, 'License': 10, 'Maintained': 10, 'Packaging': -1, 'Pinned-Dependencies': 7, 'SAST': 0, 'Security-Policy': 0, 'Signed-Releases': -1, 'Token-Permissions': 0, 'Vulnerabilities': 10, 'Webhooks': -1}\n",
      "github.com-longhorn-longhorn.json\n",
      "{'name': 'github.com/notaryproject/notary', 'score': 5.5, 'Binary-Artifacts': 10, 'Branch-Protection': 2, 'CI-Tests': 9, 'CII-Best-Practices': 0, 'Code-Review': 9, 'Contributors': 10, 'Dangerous-Workflow': 10, 'Dependency-Update-Tool': 0, 'Fuzzing': 0, 'License': 10, 'Maintained': 4, 'Packaging': -1, 'Pinned-Dependencies': 7, 'SAST': 0, 'Security-Policy': 0, 'Signed-Releases': 0, 'Token-Permissions': 10, 'Vulnerabilities': 10, 'Webhooks': -1}\n",
      "github.com-notaryproject-notary.json\n",
      "{'name': 'github.com/projectcontour/contour', 'score': 7.0, 'Binary-Artifacts': 10, 'Branch-Protection': 8, 'CI-Tests': 10, 'CII-Best-Practices': 5, 'Code-Review': 10, 'Contributors': 10, 'Dangerous-Workflow': 10, 'Dependency-Update-Tool': 0, 'Fuzzing': 0, 'License': 10, 'Maintained': 10, 'Packaging': -1, 'Pinned-Dependencies': 0, 'SAST': 10, 'Security-Policy': 10, 'Signed-Releases': -1, 'Token-Permissions': 0, 'Vulnerabilities': 10, 'Webhooks': -1}\n",
      "github.com-projectcontour-contour.json\n",
      "{'name': 'github.com/dragonflyoss/Dragonfly2', 'score': 7.1, 'Binary-Artifacts': 10, 'Branch-Protection': 6, 'CI-Tests': 10, 'CII-Best-Practices': 0, 'Code-Review': 10, 'Contributors': 10, 'Dangerous-Workflow': 10, 'Dependency-Update-Tool': 10, 'Fuzzing': 0, 'License': 10, 'Maintained': 10, 'Packaging': 10, 'Pinned-Dependencies': 0, 'SAST': 10, 'Security-Policy': 10, 'Signed-Releases': 0, 'Token-Permissions': 0, 'Vulnerabilities': 10, 'Webhooks': -1}\n",
      "https:--github.com-dragonflyoss-Dragonfly2.json\n",
      "{'name': 'github.com/keptn/keptn', 'score': 7.3, 'Binary-Artifacts': 10, 'Branch-Protection': 8, 'CI-Tests': 10, 'CII-Best-Practices': 2, 'Code-Review': 10, 'Contributors': 10, 'Dangerous-Workflow': 10, 'Dependency-Update-Tool': 10, 'Fuzzing': 0, 'License': 10, 'Maintained': 10, 'Packaging': 10, 'Pinned-Dependencies': 0, 'SAST': 10, 'Security-Policy': 10, 'Signed-Releases': 0, 'Token-Permissions': 0, 'Vulnerabilities': 10, 'Webhooks': -1}\n",
      "github.com-keptn-keptn.json\n",
      "{'name': 'github.com/etcd-io/etcd', 'score': 6.4, 'Binary-Artifacts': 10, 'Branch-Protection': 3, 'CI-Tests': 10, 'CII-Best-Practices': 5, 'Code-Review': 10, 'Contributors': 10, 'Dangerous-Workflow': 10, 'Dependency-Update-Tool': 0, 'Fuzzing': 0, 'License': 10, 'Maintained': 10, 'Packaging': 10, 'Pinned-Dependencies': 2, 'SAST': 10, 'Security-Policy': 10, 'Signed-Releases': 0, 'Token-Permissions': 0, 'Vulnerabilities': 10, 'Webhooks': -1}\n",
      "github.com-etcd-io-etcd.json\n",
      "{'name': 'github.com/kubernetes/kubernetes', 'score': 6.8, 'Binary-Artifacts': 10, 'Branch-Protection': 3, 'CI-Tests': 10, 'CII-Best-Practices': 5, 'Code-Review': 8, 'Contributors': 10, 'Dangerous-Workflow': 10, 'Dependency-Update-Tool': 0, 'Fuzzing': 10, 'License': 10, 'Maintained': 10, 'Packaging': -1, 'Pinned-Dependencies': 2, 'SAST': 0, 'Security-Policy': 10, 'Signed-Releases': 0, 'Token-Permissions': 10, 'Vulnerabilities': 10, 'Webhooks': -1}\n",
      "github.com-kubernetes-kubernetes.json\n",
      "{'name': 'github.com/coredns/coredns', 'score': 7.2, 'Binary-Artifacts': 10, 'Branch-Protection': 3, 'CI-Tests': 10, 'CII-Best-Practices': 5, 'Code-Review': 9, 'Contributors': 10, 'Dangerous-Workflow': 10, 'Dependency-Update-Tool': 10, 'Fuzzing': 0, 'License': 10, 'Maintained': 10, 'Packaging': 10, 'Pinned-Dependencies': 5, 'SAST': 10, 'Security-Policy': 10, 'Signed-Releases': 0, 'Token-Permissions': 0, 'Vulnerabilities': 10, 'Webhooks': -1}\n",
      "github.com-coredns-coredns.json\n",
      "{'name': 'github.com/knative/serving', 'score': 5.4, 'Binary-Artifacts': 10, 'Branch-Protection': 3, 'CI-Tests': 10, 'CII-Best-Practices': 2, 'Code-Review': 10, 'Contributors': 10, 'Dangerous-Workflow': 10, 'Dependency-Update-Tool': 0, 'Fuzzing': 0, 'License': 10, 'Maintained': 10, 'Packaging': -1, 'Pinned-Dependencies': 0, 'SAST': 8, 'Security-Policy': 0, 'Signed-Releases': 0, 'Token-Permissions': 0, 'Vulnerabilities': 10, 'Webhooks': -1}\n",
      "github.com-knative-serving.json\n",
      "{'name': 'github.com/open-policy-agent/opa', 'score': 7.3, 'Binary-Artifacts': 10, 'Branch-Protection': 8, 'CI-Tests': 10, 'CII-Best-Practices': 5, 'Code-Review': 8, 'Contributors': 10, 'Dangerous-Workflow': 10, 'Dependency-Update-Tool': 10, 'Fuzzing': 10, 'License': 10, 'Maintained': 10, 'Packaging': -1, 'Pinned-Dependencies': 5, 'SAST': 0, 'Security-Policy': 10, 'Signed-Releases': 0, 'Token-Permissions': 0, 'Vulnerabilities': 10, 'Webhooks': -1}\n",
      "github.com-open-policy-agent-opa.json\n",
      "{'name': 'github.com/rook/rook', 'score': 6.7, 'Binary-Artifacts': 10, 'Branch-Protection': 8, 'CI-Tests': 10, 'CII-Best-Practices': 5, 'Code-Review': 10, 'Contributors': 10, 'Dangerous-Workflow': 10, 'Dependency-Update-Tool': 0, 'Fuzzing': 0, 'License': 10, 'Maintained': 10, 'Packaging': -1, 'Pinned-Dependencies': 5, 'SAST': 0, 'Security-Policy': 10, 'Signed-Releases': -1, 'Token-Permissions': 0, 'Vulnerabilities': 10, 'Webhooks': -1}\n",
      "github.com-rook-rook.json\n",
      "{'name': 'github.com/prometheus/prometheus', 'score': 7.5, 'Binary-Artifacts': 10, 'Branch-Protection': 3, 'CI-Tests': 10, 'CII-Best-Practices': 5, 'Code-Review': 9, 'Contributors': 10, 'Dangerous-Workflow': 10, 'Dependency-Update-Tool': 10, 'Fuzzing': 10, 'License': 10, 'Maintained': 10, 'Packaging': -1, 'Pinned-Dependencies': 5, 'SAST': 9, 'Security-Policy': 10, 'Signed-Releases': 0, 'Token-Permissions': 0, 'Vulnerabilities': 10, 'Webhooks': -1}\n",
      "github.com-prometheus-prometheus.json\n",
      "{'name': 'github.com/dapr/dapr', 'score': 6.8, 'Binary-Artifacts': 10, 'Branch-Protection': 8, 'CI-Tests': 10, 'CII-Best-Practices': 2, 'Code-Review': 10, 'Contributors': 10, 'Dangerous-Workflow': 10, 'Dependency-Update-Tool': 10, 'Fuzzing': 0, 'License': 10, 'Maintained': 10, 'Packaging': 10, 'Pinned-Dependencies': 0, 'SAST': 0, 'Security-Policy': 10, 'Signed-Releases': 0, 'Token-Permissions': 0, 'Vulnerabilities': 10, 'Webhooks': -1}\n",
      "https:--github.com-dapr-dapr.json\n",
      "{'name': 'github.com/cubeFS/cubefs', 'score': 5.5, 'Binary-Artifacts': 10, 'Branch-Protection': 8, 'CI-Tests': -1, 'CII-Best-Practices': 0, 'Code-Review': 10, 'Contributors': 6, 'Dangerous-Workflow': 10, 'Dependency-Update-Tool': 0, 'Fuzzing': 0, 'License': 10, 'Maintained': 10, 'Packaging': -1, 'Pinned-Dependencies': 2, 'SAST': -1, 'Security-Policy': 0, 'Signed-Releases': 0, 'Token-Permissions': 0, 'Vulnerabilities': 10, 'Webhooks': -1}\n",
      "https:--github.com-cubeFS-cubefs.json\n",
      "{'name': 'github.com/cloudevents/spec', 'score': 5.3, 'Binary-Artifacts': 10, 'Branch-Protection': 0, 'CI-Tests': 10, 'CII-Best-Practices': 0, 'Code-Review': 6, 'Contributors': 10, 'Dangerous-Workflow': 10, 'Dependency-Update-Tool': 0, 'Fuzzing': 0, 'License': 10, 'Maintained': 10, 'Packaging': -1, 'Pinned-Dependencies': 9, 'SAST': 0, 'Security-Policy': 0, 'Signed-Releases': -1, 'Token-Permissions': 0, 'Vulnerabilities': 10, 'Webhooks': -1}\n",
      "github.com-cloudevents-spec.json\n",
      "{'name': 'github.com/containernetworking/cni', 'score': 4.8, 'Binary-Artifacts': 10, 'Branch-Protection': 3, 'CI-Tests': 10, 'CII-Best-Practices': 2, 'Code-Review': 7, 'Contributors': 10, 'Dangerous-Workflow': 10, 'Dependency-Update-Tool': 0, 'Fuzzing': 0, 'License': 10, 'Maintained': 6, 'Packaging': -1, 'Pinned-Dependencies': 7, 'SAST': 0, 'Security-Policy': 0, 'Signed-Releases': 0, 'Token-Permissions': 0, 'Vulnerabilities': 10, 'Webhooks': -1}\n",
      "github.com-containernetworking-cni.json\n",
      "{'name': 'github.com/volcano-sh/volcano', 'score': 6.0, 'Binary-Artifacts': 10, 'Branch-Protection': 1, 'CI-Tests': 10, 'CII-Best-Practices': 5, 'Code-Review': 10, 'Contributors': 10, 'Dangerous-Workflow': 10, 'Dependency-Update-Tool': 0, 'Fuzzing': 0, 'License': 10, 'Maintained': 10, 'Packaging': -1, 'Pinned-Dependencies': 0, 'SAST': 10, 'Security-Policy': 10, 'Signed-Releases': 0, 'Token-Permissions': 0, 'Vulnerabilities': 10, 'Webhooks': -1}\n",
      "github.com-volcano-sh-volcano.json\n",
      "{'name': 'github.com/vitessio/vitess', 'score': 6.3, 'Binary-Artifacts': 8, 'Branch-Protection': 2, 'CI-Tests': 10, 'CII-Best-Practices': 5, 'Code-Review': 10, 'Contributors': 10, 'Dangerous-Workflow': -1, 'Dependency-Update-Tool': 0, 'Fuzzing': 10, 'License': 10, 'Maintained': 10, 'Packaging': -1, 'Pinned-Dependencies': -1, 'SAST': 0, 'Security-Policy': 10, 'Signed-Releases': 0, 'Token-Permissions': -1, 'Vulnerabilities': 10, 'Webhooks': -1}\n",
      "github.com-vitessio-vitess.json\n",
      "{'name': 'github.com/envoyproxy/envoy', 'score': 7.7, 'Binary-Artifacts': 9, 'Branch-Protection': 8, 'CI-Tests': 10, 'CII-Best-Practices': 5, 'Code-Review': 10, 'Contributors': 10, 'Dangerous-Workflow': 10, 'Dependency-Update-Tool': 10, 'Fuzzing': 0, 'License': 10, 'Maintained': 10, 'Packaging': -1, 'Pinned-Dependencies': 7, 'SAST': 2, 'Security-Policy': 10, 'Signed-Releases': -1, 'Token-Permissions': 0, 'Vulnerabilities': 10, 'Webhooks': -1}\n",
      "github.com-envoyproxy-envoy.json\n",
      "{'name': 'github.com/cilium/tetragon', 'score': 7.1, 'Binary-Artifacts': 9, 'Branch-Protection': 6, 'CI-Tests': 10, 'CII-Best-Practices': 0, 'Code-Review': 10, 'Contributors': 10, 'Dangerous-Workflow': 10, 'Dependency-Update-Tool': 10, 'Fuzzing': 0, 'License': 10, 'Maintained': 10, 'Packaging': 10, 'Pinned-Dependencies': 5, 'SAST': 6, 'Security-Policy': 10, 'Signed-Releases': 0, 'Token-Permissions': 0, 'Vulnerabilities': 10, 'Webhooks': -1}\n",
      "github.com-cilium-tetragon.json\n",
      "{'name': 'github.com/fluxcd/flagger', 'score': 6.5, 'Binary-Artifacts': 10, 'Branch-Protection': 6, 'CI-Tests': 9, 'CII-Best-Practices': 5, 'Code-Review': 10, 'Contributors': 10, 'Dangerous-Workflow': 10, 'Dependency-Update-Tool': 0, 'Fuzzing': 0, 'License': 10, 'Maintained': 10, 'Packaging': 10, 'Pinned-Dependencies': 0, 'SAST': 10, 'Security-Policy': 10, 'Signed-Releases': 0, 'Token-Permissions': 0, 'Vulnerabilities': 10, 'Webhooks': -1}\n",
      "github.com-fluxcd-flagger.json\n",
      "{'name': 'github.com/containerd/containerd', 'score': 6.8, 'Binary-Artifacts': 10, 'Branch-Protection': 3, 'CI-Tests': 10, 'CII-Best-Practices': 5, 'Code-Review': 10, 'Contributors': 10, 'Dangerous-Workflow': 10, 'Dependency-Update-Tool': 0, 'Fuzzing': 10, 'License': 10, 'Maintained': 10, 'Packaging': -1, 'Pinned-Dependencies': -1, 'SAST': 7, 'Security-Policy': 10, 'Signed-Releases': 0, 'Token-Permissions': 0, 'Vulnerabilities': 10, 'Webhooks': -1}\n",
      "github.com-containerd-containerd.json\n",
      "{'name': 'github.com/spiffe/spiffe', 'score': 6.1, 'Binary-Artifacts': 10, 'Branch-Protection': 8, 'CI-Tests': 0, 'CII-Best-Practices': 0, 'Code-Review': 10, 'Contributors': 10, 'Dangerous-Workflow': 10, 'Dependency-Update-Tool': 0, 'Fuzzing': 0, 'License': 10, 'Maintained': 1, 'Packaging': -1, 'Pinned-Dependencies': 10, 'SAST': 0, 'Security-Policy': 0, 'Signed-Releases': -1, 'Token-Permissions': 10, 'Vulnerabilities': 10, 'Webhooks': -1}\n",
      "github.com-spiffe-spiffe.json\n",
      "{'name': 'github.com/theupdateframework/python-tuf', 'score': 8.1, 'Binary-Artifacts': 10, 'Branch-Protection': 8, 'CI-Tests': 10, 'CII-Best-Practices': 10, 'Code-Review': 10, 'Contributors': 10, 'Dangerous-Workflow': 10, 'Dependency-Update-Tool': 10, 'Fuzzing': 0, 'License': 10, 'Maintained': 10, 'Packaging': -1, 'Pinned-Dependencies': 10, 'SAST': 10, 'Security-Policy': 0, 'Signed-Releases': 10, 'Token-Permissions': 0, 'Vulnerabilities': 10, 'Webhooks': -1}\n",
      "github.com-theupdateframework-python-tuf.json\n",
      "{'name': 'github.com/emissary-ingress/emissary', 'score': 7.4, 'Binary-Artifacts': 10, 'Branch-Protection': 8, 'CI-Tests': 10, 'CII-Best-Practices': 2, 'Code-Review': 10, 'Contributors': 10, 'Dangerous-Workflow': 10, 'Dependency-Update-Tool': 10, 'Fuzzing': 0, 'License': 10, 'Maintained': 10, 'Packaging': -1, 'Pinned-Dependencies': 5, 'SAST': 9, 'Security-Policy': 0, 'Signed-Releases': -1, 'Token-Permissions': 0, 'Vulnerabilities': 10, 'Webhooks': -1}\n",
      "https:--github.com-emissary-ingress-emissary.json\n",
      "{'name': 'github.com/spiffe/spire', 'score': 7.7, 'Binary-Artifacts': 10, 'Branch-Protection': 8, 'CI-Tests': -1, 'CII-Best-Practices': 5, 'Code-Review': 10, 'Contributors': 10, 'Dangerous-Workflow': 10, 'Dependency-Update-Tool': 10, 'Fuzzing': -1, 'License': 10, 'Maintained': 10, 'Packaging': -1, 'Pinned-Dependencies': 5, 'SAST': -1, 'Security-Policy': 10, 'Signed-Releases': 0, 'Token-Permissions': 0, 'Vulnerabilities': 10, 'Webhooks': -1}\n",
      "github.com-spiffe-spire.json\n",
      "{'name': 'github.com/linkerd/linkerd2', 'score': 8.0, 'Binary-Artifacts': 10, 'Branch-Protection': 10, 'CI-Tests': 10, 'CII-Best-Practices': 5, 'Code-Review': 10, 'Contributors': 10, 'Dangerous-Workflow': 10, 'Dependency-Update-Tool': 10, 'Fuzzing': 10, 'License': 10, 'Maintained': 10, 'Packaging': -1, 'Pinned-Dependencies': 5, 'SAST': 7, 'Security-Policy': 10, 'Signed-Releases': 0, 'Token-Permissions': 0, 'Vulnerabilities': 10, 'Webhooks': -1}\n",
      "github.com-linkerd-linkerd2.json\n",
      "{'name': 'github.com/kubevirt/kubevirt', 'score': 6.3, 'Binary-Artifacts': 10, 'Branch-Protection': 3, 'CI-Tests': 9, 'CII-Best-Practices': 5, 'Code-Review': 8, 'Contributors': 10, 'Dangerous-Workflow': 10, 'Dependency-Update-Tool': 0, 'Fuzzing': 0, 'License': 10, 'Maintained': 10, 'Packaging': -1, 'Pinned-Dependencies': 2, 'SAST': 0, 'Security-Policy': 10, 'Signed-Releases': 0, 'Token-Permissions': 10, 'Vulnerabilities': 10, 'Webhooks': -1}\n",
      "github.com-kubevirt-kubevirt.json\n",
      "{'name': 'github.com/cortexproject/cortex', 'score': 5.4, 'Binary-Artifacts': 10, 'Branch-Protection': 1, 'CI-Tests': 10, 'CII-Best-Practices': 0, 'Code-Review': 10, 'Contributors': 10, 'Dangerous-Workflow': 10, 'Dependency-Update-Tool': 0, 'Fuzzing': 0, 'License': 10, 'Maintained': 10, 'Packaging': -1, 'Pinned-Dependencies': 2, 'SAST': 0, 'Security-Policy': 10, 'Signed-Releases': 0, 'Token-Permissions': 0, 'Vulnerabilities': 10, 'Webhooks': -1}\n",
      "github.com-cortexproject-cortex.json\n",
      "{'name': 'github.com/OpenObservability/OpenMetrics', 'score': 6.1, 'Binary-Artifacts': 10, 'Branch-Protection': 0, 'CI-Tests': 10, 'CII-Best-Practices': 0, 'Code-Review': 9, 'Contributors': 10, 'Dangerous-Workflow': 10, 'Dependency-Update-Tool': 0, 'Fuzzing': 0, 'License': 10, 'Maintained': 8, 'Packaging': -1, 'Pinned-Dependencies': 7, 'SAST': 0, 'Security-Policy': 0, 'Signed-Releases': -1, 'Token-Permissions': 10, 'Vulnerabilities': 10, 'Webhooks': -1}\n",
      "github.com-OpenObservability-OpenMetrics.json\n",
      "{'name': 'github.com/chaos-mesh/chaos-mesh', 'score': 6.2, 'Binary-Artifacts': 10, 'Branch-Protection': 3, 'CI-Tests': 10, 'CII-Best-Practices': 2, 'Code-Review': 10, 'Contributors': 10, 'Dangerous-Workflow': 10, 'Dependency-Update-Tool': 0, 'Fuzzing': 0, 'License': 10, 'Maintained': 10, 'Packaging': 10, 'Pinned-Dependencies': 0, 'SAST': 0, 'Security-Policy': 10, 'Signed-Releases': -1, 'Token-Permissions': 0, 'Vulnerabilities': 10, 'Webhooks': -1}\n",
      "https:--github.com-chaos-mesh-chaos-mesh.json\n",
      "{'name': 'github.com/goharbor/harbor', 'score': 7.4, 'Binary-Artifacts': 10, 'Branch-Protection': 10, 'CI-Tests': 10, 'CII-Best-Practices': 7, 'Code-Review': 10, 'Contributors': 10, 'Dangerous-Workflow': 10, 'Dependency-Update-Tool': 0, 'Fuzzing': 0, 'License': 10, 'Maintained': 10, 'Packaging': -1, 'Pinned-Dependencies': 0, 'SAST': 10, 'Security-Policy': 10, 'Signed-Releases': 10, 'Token-Permissions': 0, 'Vulnerabilities': 10, 'Webhooks': -1}\n",
      "github.com-goharbor-harbor.json\n",
      "{'name': 'github.com/grpc/grpc', 'score': 6.3, 'Binary-Artifacts': 8, 'Branch-Protection': 3, 'CI-Tests': 10, 'CII-Best-Practices': 5, 'Code-Review': 10, 'Contributors': 10, 'Dangerous-Workflow': 10, 'Dependency-Update-Tool': 0, 'Fuzzing': 10, 'License': 10, 'Maintained': 10, 'Packaging': -1, 'Pinned-Dependencies': -1, 'SAST': 0, 'Security-Policy': 10, 'Signed-Releases': 0, 'Token-Permissions': 0, 'Vulnerabilities': 10, 'Webhooks': -1}\n",
      "github.com-grpc-grpc.json\n",
      "{'name': 'github.com/helm/helm', 'score': 8.2, 'Binary-Artifacts': 10, 'Branch-Protection': 0, 'CI-Tests': 10, 'CII-Best-Practices': 5, 'Code-Review': 9, 'Contributors': 10, 'Dangerous-Workflow': 10, 'Dependency-Update-Tool': 10, 'Fuzzing': 10, 'License': 10, 'Maintained': 10, 'Packaging': -1, 'Pinned-Dependencies': 9, 'SAST': 9, 'Security-Policy': 10, 'Signed-Releases': 10, 'Token-Permissions': 0, 'Vulnerabilities': 10, 'Webhooks': -1}\n",
      "github.com-helm-helm.json\n",
      "{'name': 'github.com/crossplane/crossplane', 'score': 7.1, 'Binary-Artifacts': 10, 'Branch-Protection': 8, 'CI-Tests': 10, 'CII-Best-Practices': 0, 'Code-Review': 10, 'Contributors': 10, 'Dangerous-Workflow': 10, 'Dependency-Update-Tool': 0, 'Fuzzing': 10, 'License': 10, 'Maintained': 10, 'Packaging': -1, 'Pinned-Dependencies': 7, 'SAST': 7, 'Security-Policy': 0, 'Signed-Releases': -1, 'Token-Permissions': 0, 'Vulnerabilities': 10, 'Webhooks': -1}\n",
      "github.com-crossplane-crossplane.json\n",
      "{'name': 'github.com/cilium/hubble', 'score': 7.0, 'Binary-Artifacts': 10, 'Branch-Protection': 6, 'CI-Tests': 10, 'CII-Best-Practices': 0, 'Code-Review': 10, 'Contributors': 10, 'Dangerous-Workflow': 10, 'Dependency-Update-Tool': 10, 'Fuzzing': 0, 'License': 10, 'Maintained': 10, 'Packaging': 10, 'Pinned-Dependencies': 7, 'SAST': 10, 'Security-Policy': 0, 'Signed-Releases': 0, 'Token-Permissions': 0, 'Vulnerabilities': 10, 'Webhooks': -1}\n",
      "github.com-cilium-hubble.json\n",
      "{'name': 'github.com/litmuschaos/litmus', 'score': 6.9, 'Binary-Artifacts': 10, 'Branch-Protection': 5, 'CI-Tests': 10, 'CII-Best-Practices': 2, 'Code-Review': 10, 'Contributors': 10, 'Dangerous-Workflow': 10, 'Dependency-Update-Tool': 0, 'Fuzzing': 0, 'License': 10, 'Maintained': 10, 'Packaging': -1, 'Pinned-Dependencies': 5, 'SAST': 9, 'Security-Policy': 10, 'Signed-Releases': -1, 'Token-Permissions': 0, 'Vulnerabilities': 10, 'Webhooks': -1}\n",
      "github.com-litmuschaos-litmus.json\n"
     ]
    }
   ],
   "source": [
    "for file in files:    \n",
    "    with open(file, 'r') as f: \n",
    "        for line in f.readlines():\n",
    "            repo = json.loads(line)\n",
    "            parse_output = repo_parse(repo)\n",
    "    repo_parse(repo)\n",
    "    print(parse_output)\n",
    "    print(file)\n",
    "    with open('real_cncf_results.csv', \"a\", encoding=\"utf-8\", newline='') as t:\n",
    "        to_csv(parse_output, 'real_cncf_results.csv')"
   ]
  },
  {
   "cell_type": "code",
   "execution_count": 85,
   "id": "329f11e8",
   "metadata": {},
   "outputs": [
    {
     "name": "stdout",
     "output_type": "stream",
     "text": [
      "Eclipse,github.com/Samsung/cuda4py,4.5,10,0,-1,0,0,3,10,0,0,10,0,-1,10,0,0,-1,10,10\r",
      "\r\n"
     ]
    }
   ],
   "source": [
    "! cat new_eclipse_results.csv"
   ]
  },
  {
   "cell_type": "code",
   "execution_count": null,
   "id": "873afc26",
   "metadata": {},
   "outputs": [],
   "source": [
    "# No longer necessary\n",
    "pathlist = []\n",
    "filepath = 'Desktop/Coding/Python/jsons/cncf_data/'\n",
    "for item in datalist:\n",
    "    newitem = filepath + item\n",
    "    pathlist.append(newitem)"
   ]
  },
  {
   "cell_type": "code",
   "execution_count": null,
   "id": "d436224f",
   "metadata": {},
   "outputs": [],
   "source": [
    "pathlist"
   ]
  },
  {
   "cell_type": "code",
   "execution_count": null,
   "id": "1e997fc6",
   "metadata": {},
   "outputs": [],
   "source": [
    "! pwd"
   ]
  },
  {
   "cell_type": "code",
   "execution_count": null,
   "id": "584afedf",
   "metadata": {},
   "outputs": [],
   "source": [
    "! cat 'github.com-apache-opennlp-sandbox.json'"
   ]
  },
  {
   "cell_type": "code",
   "execution_count": null,
   "id": "295081ce",
   "metadata": {},
   "outputs": [],
   "source": [
    "! cat apacheresults.csv"
   ]
  },
  {
   "cell_type": "code",
   "execution_count": null,
   "id": "d61ebeab",
   "metadata": {},
   "outputs": [],
   "source": []
  },
  {
   "cell_type": "code",
   "execution_count": null,
   "id": "638abe48",
   "metadata": {},
   "outputs": [],
   "source": []
  },
  {
   "cell_type": "code",
   "execution_count": null,
   "id": "2cda1e23",
   "metadata": {},
   "outputs": [],
   "source": [
    "'''Partial results:\n",
    "   -apache '.DS_Store'\n",
    "   -\n",
    "   \n",
    "   '''"
   ]
  }
 ],
 "metadata": {
  "kernelspec": {
   "display_name": "Python 3 (ipykernel)",
   "language": "python",
   "name": "python3"
  },
  "language_info": {
   "codemirror_mode": {
    "name": "ipython",
    "version": 3
   },
   "file_extension": ".py",
   "mimetype": "text/x-python",
   "name": "python",
   "nbconvert_exporter": "python",
   "pygments_lexer": "ipython3",
   "version": "3.9.13"
  }
 },
 "nbformat": 4,
 "nbformat_minor": 5
}
