{
 "cells": [
  {
   "cell_type": "code",
   "execution_count": null,
   "id": "ec299b61",
   "metadata": {},
   "outputs": [],
   "source": [
    "'''TO DO:\n",
    "REMOVE '.0' FROM PERCENTAGES\n",
    "Stack histograms vertically for easier comparison\n",
    "Change y axis for founds/corps histogram (it's the sum)\n",
    "\n",
    "\n",
    "Chinese_companies\n",
    "US_companies\n",
    "\n",
    "Python vs all others mushed together\n",
    "\n",
    "Create score graph of 1-100 most depended-upon Python & JS, and their scores. \n",
    "    Examine distribution. "
   ]
  },
  {
   "cell_type": "code",
   "execution_count": null,
   "id": "a547f75e",
   "metadata": {},
   "outputs": [],
   "source": [
    "import os"
   ]
  },
  {
   "cell_type": "code",
   "execution_count": 32,
   "id": "3e35e50b",
   "metadata": {},
   "outputs": [],
   "source": [
    "import matplotlib.ticker as mtick\n",
    "from matplotlib.ticker import FuncFormatter"
   ]
  },
  {
   "cell_type": "code",
   "execution_count": null,
   "id": "3a61e633",
   "metadata": {},
   "outputs": [],
   "source": [
    "os.getcwd()"
   ]
  },
  {
   "cell_type": "code",
   "execution_count": 31,
   "id": "ad107c3b",
   "metadata": {},
   "outputs": [],
   "source": [
    "from Score_Setup import *"
   ]
  },
  {
   "cell_type": "code",
   "execution_count": null,
   "id": "9e4e9812",
   "metadata": {},
   "outputs": [],
   "source": [
    "CNCF.describe()"
   ]
  },
  {
   "cell_type": "code",
   "execution_count": null,
   "id": "e8ccf7d7",
   "metadata": {},
   "outputs": [],
   "source": [
    "alldf.score.describe().plot(kind='bar',\n",
    "                              rot=15,\n",
    "                              xlabel=\"Scores\",\n",
    "                              ylabel=\"Mean\")"
   ]
  },
  {
   "cell_type": "markdown",
   "id": "429c5f7f",
   "metadata": {},
   "source": [
    "# Scores for corporations"
   ]
  },
  {
   "cell_type": "code",
   "execution_count": null,
   "id": "616dc928",
   "metadata": {
    "scrolled": true
   },
   "outputs": [],
   "source": [
    "corps.score.value_counts()"
   ]
  },
  {
   "cell_type": "code",
   "execution_count": 87,
   "id": "c474a717",
   "metadata": {},
   "outputs": [
    {
     "name": "stderr",
     "output_type": "stream",
     "text": [
      "No artists with labels found to put in legend.  Note that artists whose label start with an underscore are ignored when legend() is called with no argument.\n"
     ]
    },
    {
     "data": {
      "image/png": "[encoded data removed]",
      "text/plain": [
       "<Figure size 432x288 with 1 Axes>"
      ]
     },
     "metadata": {
      "needs_background": "light"
     },
     "output_type": "display_data"
    }
   ],
   "source": [
    "plt.rcParams['font.family'] = 'sans-serif'\n",
    "\n",
    "fig, ax = plt.subplots() # 1\n",
    "\n",
    "x = np.array(corps.score) # 2\n",
    "\n",
    "plt.rc('font', size=14)\n",
    "\n",
    "ax.hist(corps.score,\n",
    "         density=False,\n",
    "         color='red',\n",
    "         bins=[i/10 for i in range(0, 100)],\n",
    "         alpha=.7,\n",
    "#          label='corporations',\n",
    "         weights=np.ones_like(corps.score) / len(corps.score) * 100)\n",
    "\n",
    "plt.xlim(2, 9)\n",
    "plt.xlabel('Score', size=16)\n",
    "plt.ylabel('Percentage', size=16)\n",
    "# plt.title('Corporate Scorecards Scores\\nn = 8982')\n",
    "plt.legend(loc='upper right')\n",
    "# ax.yaxis.set_major_formatter(mtick.PercentFormatter(1.0))\n",
    "# ax.yaxis.set_major_formatter(FuncFormatter('{0:.0}'.format))\n",
    "# plt.gca().yaxis.set_major_formatter(PercentFormatter(xmax=1, decimals=None, symbol='%', is_latex=False)) # doesn't work\n",
    "\n",
    "# plt.savefig(\"/Users/jaco/Desktop/Coding/Python/Scorecards_Analysis_corpshistogram.png\")\n",
    "\n",
    "plt.show()"
   ]
  },
  {
   "cell_type": "markdown",
   "id": "d8b09c95",
   "metadata": {},
   "source": [
    "# Scores for foundations"
   ]
  },
  {
   "cell_type": "code",
   "execution_count": 18,
   "id": "d69cb1df",
   "metadata": {},
   "outputs": [
    {
     "name": "stdout",
     "output_type": "stream",
     "text": [
      "a\n"
     ]
    }
   ],
   "source": [
    "\n",
    "import matplotlib.ticker as mtick\n",
    "print('a')"
   ]
  },
  {
   "cell_type": "code",
   "execution_count": 50,
   "id": "75acc9ab",
   "metadata": {},
   "outputs": [
    {
     "name": "stderr",
     "output_type": "stream",
     "text": [
      "No artists with labels found to put in legend.  Note that artists whose label start with an underscore are ignored when legend() is called with no argument.\n"
     ]
    },
    {
     "data": {
      "image/png": "[encoded data removed]",
      "text/plain": [
       "<Figure size 432x288 with 1 Axes>"
      ]
     },
     "metadata": {
      "needs_background": "light"
     },
     "output_type": "display_data"
    }
   ],
   "source": [
    "plt.rc('font', size=14)\n",
    "plt.hist(founds.score,\n",
    "         density=False,\n",
    "         color='blue',\n",
    "         bins=[i/4 for i in range(0, 40)],\n",
    "         alpha=.7,\n",
    "#          label='foundations',\n",
    "         weights=np.ones_like(founds.score)*100 / len(founds.score))\n",
    "\n",
    "plt.xlabel('Score', size=16)\n",
    "plt.ylabel('Percentage', size=16)\n",
    "# plt.title('Foundation Scorecards Scores\\nn = 909')\n",
    "plt.legend(loc='upper right')\n",
    "plt.xlim(2, 9)\n",
    "\n",
    "# plt.gca().yaxis.set_major_formatter(plt.FuncFormatter('{0:.0%}'.format))\n",
    "# ax.yaxis.set_major_formatter(FuncFormatter('{:,.0%}'.format))\n",
    "# ax.yaxis.set_major_formatter(mtick.PercentFormatter(symbol='%'))\n",
    "\n",
    "\n",
    "plt.savefig(\"/Users/jaco/Desktop/Coding/Python/Scorecards_Analysis_foundshistogram.png\")\n",
    "\n",
    "plt.show()"
   ]
  },
  {
   "cell_type": "markdown",
   "id": "5e123ddc",
   "metadata": {},
   "source": [
    "# Scores for Python"
   ]
  },
  {
   "cell_type": "code",
   "execution_count": null,
   "id": "0a27a161",
   "metadata": {
    "scrolled": true
   },
   "outputs": [],
   "source": [
    "plt.hist(pys.score,\n",
    "         density=False,\n",
    "         color='green',\n",
    "         bins=[i/4 for i in range(0, 40)], ##### additional bins to demonstrate correct frequency\n",
    "         alpha=.7,\n",
    "#          label='python',\n",
    "         weights=np.ones_like(pys.score)*100 / len(pys.score))\n",
    "\n",
    "plt.xlabel('Score')\n",
    "plt.ylabel('Percentage')\n",
    "plt.title('Python Scorecards Scores\\nn = 94')\n",
    "plt.legend(loc='upper right')\n",
    "plt.xlim(2, 9)\n",
    "\n",
    "plt.gca().yaxis.set_major_formatter(plt.FuncFormatter('{}%'.format))\n",
    "\n",
    "plt.show()"
   ]
  },
  {
   "cell_type": "markdown",
   "id": "936a379b",
   "metadata": {},
   "source": [
    "# Scores for JavaScript"
   ]
  },
  {
   "cell_type": "code",
   "execution_count": null,
   "id": "fb3875c2",
   "metadata": {
    "scrolled": true
   },
   "outputs": [],
   "source": [
    "plt.hist(jss.score,\n",
    "         density=False,\n",
    "         color='yellow',\n",
    "         bins=[i/4 for i in range(0, 40)],\n",
    "         alpha=.9,\n",
    "#          label='python',\n",
    "         weights=np.ones_like(jss.score)*100 / len(jss.score))\n",
    "\n",
    "plt.xlabel('Score', size=20)\n",
    "plt.ylabel('Percentage', size=20)\n",
    "plt.title('JavaScript Scorecards Scores\\nn = 97')\n",
    "plt.legend(loc='upper right')\n",
    "plt.xlim(2, 9)\n",
    "\n",
    "plt.gca().yaxis.set_major_formatter(plt.FuncFormatter('{}%'.format))\n",
    "\n",
    "plt.show()"
   ]
  },
  {
   "cell_type": "code",
   "execution_count": 45,
   "id": "fc53320c",
   "metadata": {},
   "outputs": [
    {
     "name": "stderr",
     "output_type": "stream",
     "text": [
      "No artists with labels found to put in legend.  Note that artists whose label start with an underscore are ignored when legend() is called with no argument.\n"
     ]
    },
    {
     "data": {
      "image/png": "[encoded data removed]",
      "text/plain": [
       "<Figure size 432x288 with 1 Axes>"
      ]
     },
     "metadata": {
      "needs_background": "light"
     },
     "output_type": "display_data"
    }
   ],
   "source": [
    "plt.hist(Ecos.score,\n",
    "         density=False,\n",
    "         color='orange',\n",
    "         bins=[i/4 for i in range(0, 40)],\n",
    "         alpha=.9,\n",
    "#          label='python',\n",
    "         weights=np.ones_like(Ecos.score)*100 / len(Ecos.score))\n",
    "\n",
    "plt.xlabel('Score', size=20)\n",
    "plt.ylabel('Percentage', size=20)\n",
    "plt.title('Ecosystems Scorecards Scores\\nn = 191')\n",
    "plt.legend(loc='upper right')\n",
    "plt.xlim(2, 9)\n",
    "\n",
    "plt.gca().yaxis.set_major_formatter(plt.FuncFormatter('{}%'.format))\n",
    "\n",
    "plt.show()"
   ]
  },
  {
   "cell_type": "code",
   "execution_count": null,
   "id": "fe003105",
   "metadata": {},
   "outputs": [],
   "source": [
    "Ecos.score.value_counts()"
   ]
  },
  {
   "cell_type": "code",
   "execution_count": null,
   "id": "cbf3dee3",
   "metadata": {},
   "outputs": [],
   "source": [
    "int(jss.score.mean())"
   ]
  },
  {
   "cell_type": "code",
   "execution_count": 51,
   "id": "5244a379",
   "metadata": {},
   "outputs": [
    {
     "name": "stderr",
     "output_type": "stream",
     "text": [
      "No artists with labels found to put in legend.  Note that artists whose label start with an underscore are ignored when legend() is called with no argument.\n"
     ]
    },
    {
     "data": {
      "image/png": "[encoded data removed]",
      "text/plain": [
       "<Figure size 432x288 with 1 Axes>"
      ]
     },
     "metadata": {
      "needs_background": "light"
     },
     "output_type": "display_data"
    }
   ],
   "source": [
    "plt.rc('font', size=14)\n",
    "plt.hist(alldf.score,\n",
    "         density=False,\n",
    "         color='brown',\n",
    "         bins=[i/4 for i in range(0, 40)],\n",
    "         alpha=.9,\n",
    "#          label='python',\n",
    "         weights=np.ones_like(alldf.score)*100 / len(alldf.score)\n",
    "        )\n",
    "\n",
    "plt.xlabel('Score', size=16)\n",
    "plt.ylabel('Percentage', size=16)\n",
    "# plt.title('All Scorecards Scores\\nn = 10,080')\n",
    "plt.legend(loc='upper right')\n",
    "plt.xlim(2, 9)\n",
    "\n",
    "# plt.gca().yaxis.set_major_formatter(plt.FuncFormatter('{}%'.format))\n",
    "\n",
    "plt.show()"
   ]
  },
  {
   "cell_type": "code",
   "execution_count": null,
   "id": "21273fab",
   "metadata": {},
   "outputs": [],
   "source": [
    "alldf.describe()"
   ]
  },
  {
   "cell_type": "code",
   "execution_count": null,
   "id": "1a42113a",
   "metadata": {},
   "outputs": [],
   "source": [
    "pys.sort_values('score', inplace=True, ascending=True)"
   ]
  },
  {
   "cell_type": "code",
   "execution_count": null,
   "id": "a07076dc",
   "metadata": {},
   "outputs": [],
   "source": [
    "corps.score.value_counts(sort=False, ascending=True)"
   ]
  },
  {
   "cell_type": "markdown",
   "id": "8a333144",
   "metadata": {},
   "source": [
    "# Contrast scores: corporations & foundations\n",
    "\n",
    "# Note: frequency is sum of both"
   ]
  },
  {
   "cell_type": "code",
   "execution_count": null,
   "id": "6f04f41a",
   "metadata": {},
   "outputs": [],
   "source": [
    "CNCF.describe()"
   ]
  },
  {
   "cell_type": "code",
   "execution_count": null,
   "id": "31e72404",
   "metadata": {},
   "outputs": [],
   "source": [
    "plt.rc('font', size=16)\n",
    "plt.xlim(2, 9)\n",
    "plt.hist(founds.score,\n",
    "         density=False,\n",
    "         color='blue',\n",
    "         bins=[i/4 for i in range(0, 40)], ##### additional bins to demonstrate correct frequency\n",
    "         alpha=.5,\n",
    "         label='foundations',\n",
    "         weights=np.ones_like(founds.score)*100 / len(founds.score)\n",
    "         )\n",
    "\n",
    "plt.hist(corps.score,\n",
    "         density=False,\n",
    "         color='red',\n",
    "         bins=[i/4 for i in range(0, 40)], ##### additional bins to demonstrate correct frequency\n",
    "         alpha=.5,\n",
    "         label='corporations',\n",
    "         weights=np.ones_like(corps.score)*100 / len(corps.score)\n",
    "         )\n",
    "\n",
    "plt.legend(loc='upper right')\n",
    "plt.xlabel('Score')\n",
    "plt.ylabel('Percentage')\n",
    "plt.title('Corporate vs Foundation Scorecards Comparison')\n",
    "plt.xlim(2, 9)\n",
    "\n",
    "plt.gca().yaxis.set_major_formatter(plt.FuncFormatter('{}%'.format))\n",
    "\n",
    "# plt.savefig(\"/Users/jaco/Desktop/Coding/Python/Scorecards_Analysis_testhistogram.png\")\n",
    "# just screenshot. Since resolution here is low, try opening in other applications\n",
    "\n",
    "plt.show()"
   ]
  },
  {
   "cell_type": "code",
   "execution_count": null,
   "id": "134ffc6e",
   "metadata": {},
   "outputs": [],
   "source": [
    "# Add\n",
    "# Aggregate programming language ecosystems in one\n",
    "# to compare corps vs founds vs ecos\n",
    "\n",
    "# overlay graph for founds\n",
    "# overlay graph for Python vs JS\n",
    "# Search for design advice for combining 3+\n",
    "\n",
    "# T tests for foundations vs corporations vs ecosystems\n",
    "# then each one against each other\n",
    "# add comment to text about checking t tests. Table for appendix\n",
    "\n",
    "# For Mon/Tues\n",
    "# create google doc, look at all graphs, and record interpretations of data.\n",
    "# just write them out, don't edit self!\n",
    "\n"
   ]
  },
  {
   "cell_type": "code",
   "execution_count": 53,
   "id": "8ee50dac",
   "metadata": {},
   "outputs": [
    {
     "data": {
      "image/png": "[encoded data removed]",
      "text/plain": [
       "<Figure size 576x144 with 1 Axes>"
      ]
     },
     "metadata": {
      "needs_background": "light"
     },
     "output_type": "display_data"
    }
   ],
   "source": [
    "### Separate panes\n",
    "# fig, (ax0, ax1) = plt.subplots(1,2, figsize=(12,2))\n",
    "### Together\n",
    "fig, (ax2) = plt.subplots(1,1, figsize=(8,2))\n",
    "\n",
    "\n",
    "\n",
    "plt.hist(pys.score,\n",
    "         density=False,\n",
    "         color='purple',\n",
    "         bins=[i/4 for i in range(0, 40)], ##### additional bins to demonstrate correct frequency\n",
    "         alpha=.5,\n",
    "         label='Python',\n",
    "         weights=np.ones_like(pys.score)*100 / len(pys.score)\n",
    "         )\n",
    "\n",
    "plt.hist(jss.score,\n",
    "         density=False,\n",
    "         color='yellow',\n",
    "         bins=[i/4 for i in range(0, 40)], ##### additional bins to demonstrate correct frequency\n",
    "         alpha=.5,\n",
    "         label='JavaScript',\n",
    "         weights=np.ones_like(jss.score)*100 / len(jss.score)\n",
    "         )\n",
    "# plt.gca().yaxis.set_major_formatter(plt.FuncFormatter('{}%'.format))\n",
    "plt.xlim(2, 9)\n",
    "plt.legend(loc='upper left', fontsize = 'x-small')\n",
    "plt.xlabel('Score', size=16)\n",
    "plt.ylabel('Percentage', size=16)\n",
    "# plt.title('JavaScript vs Python Scorecards Comparison\\nn=191')\n",
    "\n",
    "plt.show()"
   ]
  },
  {
   "cell_type": "code",
   "execution_count": 98,
   "id": "de944cbc",
   "metadata": {},
   "outputs": [
    {
     "data": {
      "image/png": "[encoded data removed]",
      "text/plain": [
       "<Figure size 1152x1152 with 6 Axes>"
      ]
     },
     "metadata": {
      "needs_background": "light"
     },
     "output_type": "display_data"
    }
   ],
   "source": [
    "# plt.gca().yaxis.set_major_formatter(plt.FuncFormatter('{}%'.format))\n",
    "\n",
    "fig, ((ax0, ax1), (ax2, ax3), (ax4, ax5)) = plt.subplots(nrows=3, ncols=2, figsize=(16,16))\n",
    "# fig, ((ax0, ax1), (ax2, ax3)) = plt.subplots(nrows=2, ncols=2)\n",
    "plt.rc('font', size=16)\n",
    "ax0.hist(Huawei.score,\n",
    "         density=False,\n",
    "         color='blue',\n",
    "         bins=[i/4 for i in range(0, 40)], ##### additional bins to demonstrate correct frequency\n",
    "         alpha=.5,\n",
    "#          label='Huawei\\nn = 97',\n",
    "         weights=np.ones_like(Huawei.score)*100 / len(Huawei.score)\n",
    "         )\n",
    "# ax0.legend('Huawei Scores',loc='upper right')\n",
    "ax0.set_title('Huawei Scores\\nn = 100')\n",
    "ax0.set_ylabel('Percentage', size=20)\n",
    "ax0.set_xlabel('Score', size=20)\n",
    "\n",
    "ax1.hist(Microsoft.score,\n",
    "         density=False,\n",
    "         color='green',\n",
    "         bins=[i/4 for i in range(0, 40)],\n",
    "         alpha=.5,\n",
    "         weights=np.ones_like(Microsoft.score)*100 / len(Microsoft.score)\n",
    "         )\n",
    "ax1.set_title('Microsoft Scores\\nn = 4246')\n",
    "ax1.set_ylabel('Percentage', size=20)\n",
    "ax1.set_xlabel('Score', size=20)\n",
    "\n",
    "\n",
    "\n",
    "ax2.hist(Tencent.score,\n",
    "         density=False,\n",
    "         color='yellow',\n",
    "         bins=[i/4 for i in range(0, 40)],\n",
    "         alpha=.9,\n",
    "         label='Tencent\\nn = 75',\n",
    "         weights=np.ones_like(Tencent.score)*100 / len(Tencent.score)\n",
    "         )\n",
    "ax2.set_title('Tencent Scores\\nn = 160')\n",
    "ax2.set_ylabel('Percentage', size=20)\n",
    "ax2.set_xlabel('Score', size=20)\n",
    "\n",
    "ax3.hist(Google.score,\n",
    "         density=False,\n",
    "         color='red',\n",
    "         bins=[i/4 for i in range(0, 40)],\n",
    "         alpha=.5,\n",
    "         weights=np.ones_like(Google.score)*100 / len(Google.score)\n",
    "         )\n",
    "ax3.set_title('Google Scores\\nn = 1930')\n",
    "ax3.set_ylabel('Percentage', size=20)\n",
    "ax3.set_xlabel('Score', size=20)\n",
    "\n",
    "ax4.hist(Samsung.score,\n",
    "         density=False,\n",
    "         color='purple',\n",
    "         bins=[i/4 for i in range(0, 40)],\n",
    "         alpha=.9,\n",
    "         label='Samsung\\nn = 151',\n",
    "         weights=np.ones_like(Samsung.score)*100 / len(Samsung.score)\n",
    "         )\n",
    "ax4.set_title('Samsung Scores\\nn = 151')\n",
    "ax4.set_ylabel('Percentage', size=20)\n",
    "ax4.set_xlabel('Score', size=20)\n",
    "\n",
    "ax5.hist(IBM.score,\n",
    "         density=False,\n",
    "         color='orange',\n",
    "         bins=[i/4 for i in range(0, 40)],\n",
    "         alpha=.9,\n",
    "         label='IBM\\nn = 151',\n",
    "         weights=np.ones_like(IBM.score)*100 / len(IBM.score)\n",
    "         )\n",
    "ax5.set_title('IBM Scores\\nn = 2393')\n",
    "ax5.set_ylabel('Percentage', size=20)\n",
    "ax5.set_xlabel('Score', size=20)\n",
    "\n",
    "plt.tight_layout()\n",
    "\n",
    "#Samsung\n",
    "# \\nn = 96'\n",
    "\n",
    "# plt.legend(loc='upper right')\n",
    "# plt.xlabel('Score')\n",
    "# \n",
    "# plt.title('Mean Corporate VS Foundation Scorecard Comparison')\n",
    "\n",
    "# plt.gca().yaxis.set_major_formatter(plt.FuncFormatter('{}%'.format))\n",
    "plt.show()"
   ]
  },
  {
   "cell_type": "code",
   "execution_count": 95,
   "id": "7d48d05c",
   "metadata": {},
   "outputs": [
    {
     "data": {
      "image/png": "[encoded data removed]",
      "text/plain": [
       "<Figure size 1152x1152 with 3 Axes>"
      ]
     },
     "metadata": {
      "needs_background": "light"
     },
     "output_type": "display_data"
    }
   ],
   "source": [
    "fig, (ax0, ax1, ax2) = plt.subplots(3,1, figsize=(16,16))\n",
    "ax0.set_xlim(xmin=2, xmax=9)\n",
    "\n",
    "plt.rc('font', size=16)\n",
    "\n",
    "ax0.hist(Eclipse.score,\n",
    "         density=False,\n",
    "         color='yellow',\n",
    "         bins=[i/4 for i in range(0, 40)],\n",
    "         alpha=.5,\n",
    "         weights=np.ones_like(Eclipse.score)*100 / len(Eclipse.score)\n",
    "         )\n",
    "ax0.set_title('Eclipse Scores\\nn = 437')\n",
    "ax0.set_ylabel('Percentage', size=20)\n",
    "ax0.set_xlabel('Score', size=20)\n",
    "\n",
    "ax1.set_xlim(xmin=2, xmax=9)\n",
    "ax1.hist(CNCF.score,\n",
    "         density=False,\n",
    "         color='red',\n",
    "         bins=[i/4 for i in range(0, 40)],\n",
    "         alpha=.5,\n",
    "         weights=np.ones_like(CNCF.score)*100 / len(CNCF.score)\n",
    "         )\n",
    "ax1.set_title('CNCF Scores\\nn = 55')\n",
    "ax1.set_ylabel('Percentage', size=20)\n",
    "ax1.set_xlabel('Score', size=20)\n",
    "\n",
    "ax2.hist(Apache.score,\n",
    "         density=False,\n",
    "         color='purple',\n",
    "         bins=[i/4 for i in range(0, 40)],\n",
    "         alpha=.5,\n",
    "         weights=np.ones_like(Apache.score)*100 / len(Apache.score)\n",
    "         )\n",
    "plt.xlim(2,9)\n",
    "ax2.set_title('Apache Scores\\nn = 415')\n",
    "ax2.set_ylabel('Percentage', size=20)\n",
    "ax2.set_xlabel('Score', size=20)\n",
    "\n",
    "plt.xlim(2,9)\n",
    "plt.tight_layout()\n",
    "\n",
    "# plt.gca().yaxis.set_major_formatter(plt.FuncFormatter('{}%'.format))\n",
    "\n",
    "plt.show()"
   ]
  },
  {
   "cell_type": "code",
   "execution_count": null,
   "id": "346bce6f",
   "metadata": {},
   "outputs": [],
   "source": [
    "Google.describe()"
   ]
  },
  {
   "cell_type": "code",
   "execution_count": 63,
   "id": "67b8414f",
   "metadata": {},
   "outputs": [
    {
     "data": {
      "image/png": "[encoded data removed]",
      "text/plain": [
       "<Figure size 720x1152 with 3 Axes>"
      ]
     },
     "metadata": {
      "needs_background": "light"
     },
     "output_type": "display_data"
    }
   ],
   "source": [
    "fig, (ax0, ax1, ax2) = plt.subplots(3,1, figsize=(10,16))\n",
    "plt.xlim(2,9)\n",
    "\n",
    "ax0.hist(founds.score,\n",
    "         density=False,\n",
    "         color='blue',\n",
    "         bins=[i/4 for i in range(0, 40)],\n",
    "         alpha=.5,\n",
    "         label='Foundations\\nn = 966',\n",
    "         weights=np.ones_like(founds.score)*100 / len(founds.score)\n",
    "         )\n",
    "# ax0.set_title('Foundation Scores\\nn = 966')\n",
    "plt.xlabel('Language Ecosystem Scores\\nn = 191')\n",
    "\n",
    "ax1.hist(corps.score,\n",
    "         density=False,\n",
    "         color='red',\n",
    "         bins=[i/4 for i in range(0, 40)],\n",
    "         alpha=.5,\n",
    "#          label='CNCF\\nn = 155',\n",
    "         weights=np.ones_like(corps.score)*100 / len(corps.score)\n",
    "         )\n",
    "ax1.set_title('Corporation Scores\\nn = 8982')\n",
    "\n",
    "ax2.hist(Ecos.score,\n",
    "         density=False,\n",
    "         color='yellow',\n",
    "         bins=[i/4 for i in range(0, 40)],\n",
    "         alpha=.5,\n",
    "#          label='Apache\\nn = 129',\n",
    "         weights=np.ones_like(Ecos.score)*100 / len(Ecos.score)\n",
    "         )\n",
    "ax2.set_title('Language Ecosystem Scores\\nn = 191')\n",
    "# plt.legend(loc='upper right')\n",
    "# plt.gca().yaxis.set_major_formatter(plt.FuncFormatter('{}%'.format))\n",
    "plt.tight_layout()\n",
    "\n",
    "plt.show()"
   ]
  },
  {
   "cell_type": "code",
   "execution_count": 99,
   "id": "3ddc8b80",
   "metadata": {},
   "outputs": [
    {
     "data": {
      "image/png": "[encoded data removed]",
      "text/plain": [
       "<Figure size 720x504 with 1 Axes>"
      ]
     },
     "metadata": {
      "needs_background": "light"
     },
     "output_type": "display_data"
    }
   ],
   "source": [
    "fig, ax = plt.subplots(1, figsize=(10,7))\n",
    "plt.rc('font', size=20)\n",
    "plt.xlim(2, 9)\n",
    "\n",
    "plt.hist(founds.score,\n",
    "         density=False,\n",
    "         color='red',\n",
    "         bins=[i/4 for i in range(0, 40)],\n",
    "         alpha=.3,\n",
    "         label=\"Foundations\",\n",
    "         weights=np.ones_like(founds.score)*100 / len(founds.score)\n",
    "         )\n",
    "\n",
    "plt.hist(corps.score,\n",
    "         density=False,\n",
    "         color='yellow',\n",
    "         bins=[i/4 for i in range(0, 40)],\n",
    "         alpha=.3,\n",
    "         label=\"Corporations\",\n",
    "         weights=np.ones_like(corps.score)*100 / len(corps.score)\n",
    "         )\n",
    "\n",
    "plt.hist(Ecos.score,\n",
    "         density=False,\n",
    "         color='blue',\n",
    "         bins=[i/4 for i in range(0, 40)],\n",
    "         alpha=.3,\n",
    "         label=\"Ecosystems\",\n",
    "         weights=np.ones_like(Ecos.score)*100 / len(Ecos.score)\n",
    "         )\n",
    "# plt.gca().yaxis.set_major_formatter(plt.FuncFormatter('{}%'.format))\n",
    "plt.legend(loc='upper right')\n",
    "\n",
    "\n",
    "plt.xlabel('Score', size=20)\n",
    "plt.ylabel('Percentage', size=20)\n",
    "plt\n",
    "# plt.title('Foundations vs Corporation vs Ecosystem Scorecards Comparison\\nn= 10,080')\n",
    "\n",
    "plt.show()"
   ]
  },
  {
   "cell_type": "code",
   "execution_count": null,
   "id": "f6e4bc7a",
   "metadata": {},
   "outputs": [],
   "source": [
    "# Chinese_companies\n",
    "# US_companies"
   ]
  },
  {
   "cell_type": "code",
   "execution_count": null,
   "id": "4c9ce926",
   "metadata": {},
   "outputs": [],
   "source": [
    "# Python vs all others mushed together\n",
    "\n",
    "# Create score graph of 1-100 most depended-upon Python & JS, and their scores. Examine distribution. "
   ]
  },
  {
   "cell_type": "code",
   "execution_count": 79,
   "id": "265ec921",
   "metadata": {},
   "outputs": [
    {
     "data": {
      "text/plain": [
       "count    10080.000000\n",
       "mean         5.235357\n",
       "std          0.774909\n",
       "min          2.100000\n",
       "25%          4.700000\n",
       "50%          5.100000\n",
       "75%          5.600000\n",
       "max          8.700000\n",
       "Name: score, dtype: float64"
      ]
     },
     "execution_count": 79,
     "metadata": {},
     "output_type": "execute_result"
    }
   ],
   "source": [
    "alldf.score.describe()"
   ]
  },
  {
   "cell_type": "code",
   "execution_count": 76,
   "id": "b5118f22",
   "metadata": {},
   "outputs": [
    {
     "data": {
      "text/plain": [
       "6.00531914893617"
      ]
     },
     "execution_count": 76,
     "metadata": {},
     "output_type": "execute_result"
    }
   ],
   "source": [
    "pys.score.mean()"
   ]
  },
  {
   "cell_type": "code",
   "execution_count": 74,
   "id": "a5da0c12",
   "metadata": {},
   "outputs": [
    {
     "data": {
      "text/plain": [
       "5.316501650165017"
      ]
     },
     "execution_count": 74,
     "metadata": {},
     "output_type": "execute_result"
    }
   ],
   "source": [
    "founds.score.mean()"
   ]
  },
  {
   "cell_type": "code",
   "execution_count": 75,
   "id": "9dad0691",
   "metadata": {},
   "outputs": [
    {
     "data": {
      "text/plain": [
       "5.222594654788419"
      ]
     },
     "execution_count": 75,
     "metadata": {},
     "output_type": "execute_result"
    }
   ],
   "source": [
    "corps.score.mean()"
   ]
  },
  {
   "cell_type": "markdown",
   "id": "2652de0a",
   "metadata": {},
   "source": [
    "# Double check whether all these GHs are archived or not\n",
    "# manually check orgs on GH"
   ]
  },
  {
   "cell_type": "code",
   "execution_count": null,
   "id": "eeb394e3",
   "metadata": {},
   "outputs": [],
   "source": [
    "pys.tail()"
   ]
  },
  {
   "cell_type": "code",
   "execution_count": null,
   "id": "c04f5385",
   "metadata": {},
   "outputs": [],
   "source": [
    "fig, ((ax0, ax1), (ax2, ax3)) = plt.subplots(nrows=2, ncols=2)\n",
    "\n",
    "ax0.hist(CNCF.score,\n",
    "         density=False,\n",
    "         color='blue',\n",
    "         bins=[i/4 for i in range(0, 40)], ##### additional bins to demonstrate correct frequency\n",
    "         alpha=.5,\n",
    "         label='CNCF\\nn = 90',\n",
    "         weights=np.ones_like(CNCF.score)*100 / len(CNCF.score)\n",
    "         )\n",
    "# ax0.legend('Huawei Scores',loc='upper right')\n",
    "ax0.set_title('CNCF Scores')\n",
    "\n",
    "ax1.hist(Eclipse.score,\n",
    "         density=False,\n",
    "         color='red',\n",
    "         bins=[i/4 for i in range(0, 40)], ##### additional bins to demonstrate correct frequency\n",
    "         alpha=.5,\n",
    "         label='Eclipse\\nn = 94',\n",
    "         weights=np.ones_like(Eclipse.score)*100 / len(Eclipse.score)\n",
    "         )\n",
    "ax1.set_title('Google Scores')\n",
    "\n",
    "ax2.hist(Apache.score,\n",
    "         density=False,\n",
    "         color='green',\n",
    "         bins=[i/4 for i in range(0, 40)], ##### additional bins to demonstrate correct frequency\n",
    "         alpha=.5,\n",
    "         label='Apache\\nn = 165',\n",
    "         weights=np.ones_like(Apache.score)*100 / len(Apache.score)\n",
    "         )\n",
    "ax2.set_title('Microsoft Scores')\n",
    "\n",
    "ax3.hist(Tencent.score,\n",
    "         density=False,\n",
    "         color='yellow',\n",
    "         bins=[i/4 for i in range(0, 40)], ##### additional bins to demonstrate correct frequency\n",
    "         alpha=.9,\n",
    "         label='Tencent\\nn = 75',\n",
    "         weights=np.ones_like(Tencent.score)*100 / len(Tencent.score)\n",
    "         )\n",
    "ax3.set_title('Tencent Scores')\n",
    "\n",
    "\n"
   ]
  },
  {
   "cell_type": "markdown",
   "id": "92fddd8d",
   "metadata": {},
   "source": [
    "# Checks\n"
   ]
  },
  {
   "cell_type": "code",
   "execution_count": null,
   "id": "4dd142f3",
   "metadata": {},
   "outputs": [],
   "source": [
    "# for the Appendix. Create a grid.\n",
    "# each company is a column (or reverse axes)\n",
    "# each check is a row\n",
    "#  average score for each check"
   ]
  },
  {
   "cell_type": "code",
   "execution_count": null,
   "id": "5169f81b",
   "metadata": {},
   "outputs": [],
   "source": [
    "each\n",
    "\n",
    "multipane graphs with python apache, founds and corps - \n",
    "6 graphs total"
   ]
  },
  {
   "cell_type": "code",
   "execution_count": null,
   "id": "2b4c3e7a",
   "metadata": {},
   "outputs": [],
   "source": [
    "# Create pydata histogram\n",
    "\n",
    "# create plot\n",
    "fig, ax = plt.subplots(figsize=(8,2)) # size of sub-figures\n",
    "\n",
    "y = np.arange(100)\n",
    "\n",
    "n, _, _ = plt.hist(pys.score, bins=[i/4 for i in range(0, 40)], align='mid')\n",
    "\n",
    "ax.bar(x=list(range(0, 1, 10)), height=n)\n",
    "ax.set_title(\"Security Practice Score Distribution for Python Foundation GitHub Projects\")\n",
    "\n",
    "# set y axis range for each subplot\n",
    "ax.set_ylim([0, 20]) # Will need to change depending on actual data\n",
    "ax.set_xlim([1, 10])\n",
    "\n",
    "fig.tight_layout()\n",
    "\n",
    "plt.show()"
   ]
  },
  {
   "cell_type": "code",
   "execution_count": null,
   "id": "35ab432c",
   "metadata": {},
   "outputs": [],
   "source": []
  },
  {
   "cell_type": "code",
   "execution_count": null,
   "id": "f57a80bf",
   "metadata": {},
   "outputs": [],
   "source": [
    "corps.columns"
   ]
  },
  {
   "cell_type": "code",
   "execution_count": null,
   "id": "8163ff30",
   "metadata": {},
   "outputs": [],
   "source": []
  },
  {
   "cell_type": "code",
   "execution_count": null,
   "id": "d7d5239f",
   "metadata": {},
   "outputs": [],
   "source": []
  },
  {
   "cell_type": "markdown",
   "id": "c035454e",
   "metadata": {},
   "source": [
    "2. double check that data is clean\n",
    "3. Compare each check score across different groupings\n",
    "4. Compare variances in table"
   ]
  },
  {
   "cell_type": "code",
   "execution_count": null,
   "id": "76f1584d",
   "metadata": {},
   "outputs": [],
   "source": []
  },
  {
   "cell_type": "code",
   "execution_count": null,
   "id": "520239c6",
   "metadata": {},
   "outputs": [],
   "source": [
    "corps.score.value_counts()"
   ]
  },
  {
   "cell_type": "code",
   "execution_count": null,
   "id": "f47c1396",
   "metadata": {},
   "outputs": [],
   "source": [
    "founds.score.value_counts()"
   ]
  },
  {
   "cell_type": "code",
   "execution_count": null,
   "id": "2dddc25f",
   "metadata": {},
   "outputs": [],
   "source": [
    "pys.score.value_counts()"
   ]
  },
  {
   "cell_type": "code",
   "execution_count": null,
   "id": "929e7608",
   "metadata": {},
   "outputs": [],
   "source": [
    "jss.score.value_counts()"
   ]
  },
  {
   "cell_type": "code",
   "execution_count": null,
   "id": "1a309b5d",
   "metadata": {},
   "outputs": [],
   "source": []
  },
  {
   "cell_type": "code",
   "execution_count": null,
   "id": "a6262874",
   "metadata": {},
   "outputs": [],
   "source": [
    "founds.columns"
   ]
  },
  {
   "cell_type": "code",
   "execution_count": null,
   "id": "0fd8a8b7",
   "metadata": {},
   "outputs": [],
   "source": [
    "checks = ['binary-artifacts',\n",
    "       'branch-protection', 'ci-tests', 'cii-best-practices', 'code-review',\n",
    "       'contributors', 'dangerous-workflow', 'dependency-update-tool',\n",
    "       'fuzzing', 'license', 'maintained', 'packaging', 'pinned-dependencies',\n",
    "       'sast', 'security-policy', 'signed-releases', 'token-permissions',\n",
    "       'vulnerabilities']\n",
    "\n",
    "for check in checks:\n",
    "    plt.xlim(-2,11)\n",
    "    plt.title(check)\n",
    "    plt.plot(alldf[check], alldf[\"score\"], 'o')\n",
    "#     m, b = np.polyfit(alldf[check], alldf[\"score\"], 1)\n",
    "#     plt.plot(x, m*x+b)\n",
    "    plt.show()"
   ]
  },
  {
   "cell_type": "code",
   "execution_count": null,
   "id": "22936922",
   "metadata": {},
   "outputs": [],
   "source": [
    "plt.xlim(-2,11)\n",
    "plt.title(check)\n",
    "plt.plot(alldf.license.mean(), alldf[\"score\"], 'o')\n",
    "#     m, b = np.polyfit(alldf[check], alldf[\"score\"], 1)\n",
    "#     plt.plot(x, m*x+b)\n",
    "plt.show()"
   ]
  },
  {
   "cell_type": "code",
   "execution_count": null,
   "id": "6965b734",
   "metadata": {},
   "outputs": [],
   "source": [
    "alldf.license.mean()"
   ]
  },
  {
   "cell_type": "code",
   "execution_count": 22,
   "id": "298ecd86",
   "metadata": {},
   "outputs": [
    {
     "data": {
      "text/plain": [
       "227"
      ]
     },
     "execution_count": 22,
     "metadata": {},
     "output_type": "execute_result"
    }
   ],
   "source": [
    "len(alldf[alldf['score']<4.0])"
   ]
  },
  {
   "cell_type": "code",
   "execution_count": 23,
   "id": "6f097c26",
   "metadata": {},
   "outputs": [
    {
     "data": {
      "text/plain": [
       "1472"
      ]
     },
     "execution_count": 23,
     "metadata": {},
     "output_type": "execute_result"
    }
   ],
   "source": [
    "len(alldf[alldf['score']>6.0])"
   ]
  },
  {
   "cell_type": "code",
   "execution_count": 24,
   "id": "9c0abf94",
   "metadata": {},
   "outputs": [
    {
     "data": {
      "text/html": [
       "<div>\n",
       "<style scoped>\n",
       "    .dataframe tbody tr th:only-of-type {\n",
       "        vertical-align: middle;\n",
       "    }\n",
       "\n",
       "    .dataframe tbody tr th {\n",
       "        vertical-align: top;\n",
       "    }\n",
       "\n",
       "    .dataframe thead th {\n",
       "        text-align: right;\n",
       "    }\n",
       "</style>\n",
       "<table border=\"1\" class=\"dataframe\">\n",
       "  <thead>\n",
       "    <tr style=\"text-align: right;\">\n",
       "      <th></th>\n",
       "      <th>Unnamed: 0</th>\n",
       "      <th>score</th>\n",
       "      <th>binary-artifacts</th>\n",
       "      <th>branch-protection</th>\n",
       "      <th>ci-tests</th>\n",
       "      <th>cii-best-practices</th>\n",
       "      <th>code-review</th>\n",
       "      <th>contributors</th>\n",
       "      <th>dangerous-workflow</th>\n",
       "      <th>dependency-update-tool</th>\n",
       "      <th>fuzzing</th>\n",
       "      <th>license</th>\n",
       "      <th>maintained</th>\n",
       "      <th>packaging</th>\n",
       "      <th>pinned-dependencies</th>\n",
       "      <th>sast</th>\n",
       "      <th>security-policy</th>\n",
       "      <th>signed-releases</th>\n",
       "      <th>token-permissions</th>\n",
       "      <th>vulnerabilities</th>\n",
       "    </tr>\n",
       "  </thead>\n",
       "  <tbody>\n",
       "    <tr>\n",
       "      <th>count</th>\n",
       "      <td>10080.000000</td>\n",
       "      <td>10080.000000</td>\n",
       "      <td>10080.000000</td>\n",
       "      <td>10080.000000</td>\n",
       "      <td>10080.000000</td>\n",
       "      <td>10080.000000</td>\n",
       "      <td>10080.000000</td>\n",
       "      <td>10080.000000</td>\n",
       "      <td>10080.000000</td>\n",
       "      <td>10080.000000</td>\n",
       "      <td>10080.000000</td>\n",
       "      <td>10080.000000</td>\n",
       "      <td>10080.000000</td>\n",
       "      <td>9983.000000</td>\n",
       "      <td>10080.000000</td>\n",
       "      <td>10080.000000</td>\n",
       "      <td>10080.000000</td>\n",
       "      <td>9983.000000</td>\n",
       "      <td>10080.000000</td>\n",
       "      <td>10080.000000</td>\n",
       "    </tr>\n",
       "    <tr>\n",
       "      <th>mean</th>\n",
       "      <td>1518.040079</td>\n",
       "      <td>5.235357</td>\n",
       "      <td>9.410913</td>\n",
       "      <td>1.520238</td>\n",
       "      <td>1.864287</td>\n",
       "      <td>0.052480</td>\n",
       "      <td>3.279167</td>\n",
       "      <td>4.999107</td>\n",
       "      <td>9.954762</td>\n",
       "      <td>0.402480</td>\n",
       "      <td>0.079663</td>\n",
       "      <td>9.519544</td>\n",
       "      <td>2.169147</td>\n",
       "      <td>-0.669438</td>\n",
       "      <td>8.932351</td>\n",
       "      <td>0.421703</td>\n",
       "      <td>6.718948</td>\n",
       "      <td>-0.840795</td>\n",
       "      <td>7.869345</td>\n",
       "      <td>9.999405</td>\n",
       "    </tr>\n",
       "    <tr>\n",
       "      <th>std</th>\n",
       "      <td>1232.756471</td>\n",
       "      <td>0.774909</td>\n",
       "      <td>2.027884</td>\n",
       "      <td>2.758815</td>\n",
       "      <td>4.111127</td>\n",
       "      <td>0.448923</td>\n",
       "      <td>3.645416</td>\n",
       "      <td>4.013730</td>\n",
       "      <td>0.683989</td>\n",
       "      <td>1.969107</td>\n",
       "      <td>0.980666</td>\n",
       "      <td>2.142047</td>\n",
       "      <td>3.798483</td>\n",
       "      <td>1.878101</td>\n",
       "      <td>1.990938</td>\n",
       "      <td>1.961390</td>\n",
       "      <td>4.696977</td>\n",
       "      <td>0.687656</td>\n",
       "      <td>4.086170</td>\n",
       "      <td>0.050786</td>\n",
       "    </tr>\n",
       "    <tr>\n",
       "      <th>min</th>\n",
       "      <td>0.000000</td>\n",
       "      <td>2.100000</td>\n",
       "      <td>-1.000000</td>\n",
       "      <td>-1.000000</td>\n",
       "      <td>-1.000000</td>\n",
       "      <td>-1.000000</td>\n",
       "      <td>0.000000</td>\n",
       "      <td>-1.000000</td>\n",
       "      <td>-1.000000</td>\n",
       "      <td>-1.000000</td>\n",
       "      <td>-1.000000</td>\n",
       "      <td>-1.000000</td>\n",
       "      <td>0.000000</td>\n",
       "      <td>-1.000000</td>\n",
       "      <td>-1.000000</td>\n",
       "      <td>-1.000000</td>\n",
       "      <td>-1.000000</td>\n",
       "      <td>-1.000000</td>\n",
       "      <td>-1.000000</td>\n",
       "      <td>5.000000</td>\n",
       "    </tr>\n",
       "    <tr>\n",
       "      <th>25%</th>\n",
       "      <td>439.750000</td>\n",
       "      <td>4.700000</td>\n",
       "      <td>10.000000</td>\n",
       "      <td>0.000000</td>\n",
       "      <td>-1.000000</td>\n",
       "      <td>0.000000</td>\n",
       "      <td>0.000000</td>\n",
       "      <td>0.000000</td>\n",
       "      <td>10.000000</td>\n",
       "      <td>0.000000</td>\n",
       "      <td>0.000000</td>\n",
       "      <td>10.000000</td>\n",
       "      <td>0.000000</td>\n",
       "      <td>-1.000000</td>\n",
       "      <td>9.000000</td>\n",
       "      <td>0.000000</td>\n",
       "      <td>0.000000</td>\n",
       "      <td>-1.000000</td>\n",
       "      <td>10.000000</td>\n",
       "      <td>10.000000</td>\n",
       "    </tr>\n",
       "    <tr>\n",
       "      <th>50%</th>\n",
       "      <td>1279.500000</td>\n",
       "      <td>5.100000</td>\n",
       "      <td>10.000000</td>\n",
       "      <td>0.000000</td>\n",
       "      <td>0.000000</td>\n",
       "      <td>0.000000</td>\n",
       "      <td>2.000000</td>\n",
       "      <td>3.000000</td>\n",
       "      <td>10.000000</td>\n",
       "      <td>0.000000</td>\n",
       "      <td>0.000000</td>\n",
       "      <td>10.000000</td>\n",
       "      <td>0.000000</td>\n",
       "      <td>-1.000000</td>\n",
       "      <td>10.000000</td>\n",
       "      <td>0.000000</td>\n",
       "      <td>10.000000</td>\n",
       "      <td>-1.000000</td>\n",
       "      <td>10.000000</td>\n",
       "      <td>10.000000</td>\n",
       "    </tr>\n",
       "    <tr>\n",
       "      <th>75%</th>\n",
       "      <td>2214.250000</td>\n",
       "      <td>5.600000</td>\n",
       "      <td>10.000000</td>\n",
       "      <td>3.000000</td>\n",
       "      <td>3.000000</td>\n",
       "      <td>0.000000</td>\n",
       "      <td>6.000000</td>\n",
       "      <td>10.000000</td>\n",
       "      <td>10.000000</td>\n",
       "      <td>0.000000</td>\n",
       "      <td>0.000000</td>\n",
       "      <td>10.000000</td>\n",
       "      <td>3.000000</td>\n",
       "      <td>-1.000000</td>\n",
       "      <td>10.000000</td>\n",
       "      <td>0.000000</td>\n",
       "      <td>10.000000</td>\n",
       "      <td>-1.000000</td>\n",
       "      <td>10.000000</td>\n",
       "      <td>10.000000</td>\n",
       "    </tr>\n",
       "    <tr>\n",
       "      <th>max</th>\n",
       "      <td>4556.000000</td>\n",
       "      <td>8.700000</td>\n",
       "      <td>10.000000</td>\n",
       "      <td>10.000000</td>\n",
       "      <td>10.000000</td>\n",
       "      <td>10.000000</td>\n",
       "      <td>10.000000</td>\n",
       "      <td>10.000000</td>\n",
       "      <td>10.000000</td>\n",
       "      <td>10.000000</td>\n",
       "      <td>10.000000</td>\n",
       "      <td>10.000000</td>\n",
       "      <td>10.000000</td>\n",
       "      <td>10.000000</td>\n",
       "      <td>10.000000</td>\n",
       "      <td>10.000000</td>\n",
       "      <td>10.000000</td>\n",
       "      <td>10.000000</td>\n",
       "      <td>10.000000</td>\n",
       "      <td>10.000000</td>\n",
       "    </tr>\n",
       "  </tbody>\n",
       "</table>\n",
       "</div>"
      ],
      "text/plain": [
       "         Unnamed: 0         score  binary-artifacts  branch-protection  \\\n",
       "count  10080.000000  10080.000000      10080.000000       10080.000000   \n",
       "mean    1518.040079      5.235357          9.410913           1.520238   \n",
       "std     1232.756471      0.774909          2.027884           2.758815   \n",
       "min        0.000000      2.100000         -1.000000          -1.000000   \n",
       "25%      439.750000      4.700000         10.000000           0.000000   \n",
       "50%     1279.500000      5.100000         10.000000           0.000000   \n",
       "75%     2214.250000      5.600000         10.000000           3.000000   \n",
       "max     4556.000000      8.700000         10.000000          10.000000   \n",
       "\n",
       "           ci-tests  cii-best-practices   code-review  contributors  \\\n",
       "count  10080.000000        10080.000000  10080.000000  10080.000000   \n",
       "mean       1.864287            0.052480      3.279167      4.999107   \n",
       "std        4.111127            0.448923      3.645416      4.013730   \n",
       "min       -1.000000           -1.000000      0.000000     -1.000000   \n",
       "25%       -1.000000            0.000000      0.000000      0.000000   \n",
       "50%        0.000000            0.000000      2.000000      3.000000   \n",
       "75%        3.000000            0.000000      6.000000     10.000000   \n",
       "max       10.000000           10.000000     10.000000     10.000000   \n",
       "\n",
       "       dangerous-workflow  dependency-update-tool       fuzzing       license  \\\n",
       "count        10080.000000            10080.000000  10080.000000  10080.000000   \n",
       "mean             9.954762                0.402480      0.079663      9.519544   \n",
       "std              0.683989                1.969107      0.980666      2.142047   \n",
       "min             -1.000000               -1.000000     -1.000000     -1.000000   \n",
       "25%             10.000000                0.000000      0.000000     10.000000   \n",
       "50%             10.000000                0.000000      0.000000     10.000000   \n",
       "75%             10.000000                0.000000      0.000000     10.000000   \n",
       "max             10.000000               10.000000     10.000000     10.000000   \n",
       "\n",
       "         maintained    packaging  pinned-dependencies          sast  \\\n",
       "count  10080.000000  9983.000000         10080.000000  10080.000000   \n",
       "mean       2.169147    -0.669438             8.932351      0.421703   \n",
       "std        3.798483     1.878101             1.990938      1.961390   \n",
       "min        0.000000    -1.000000            -1.000000     -1.000000   \n",
       "25%        0.000000    -1.000000             9.000000      0.000000   \n",
       "50%        0.000000    -1.000000            10.000000      0.000000   \n",
       "75%        3.000000    -1.000000            10.000000      0.000000   \n",
       "max       10.000000    10.000000            10.000000     10.000000   \n",
       "\n",
       "       security-policy  signed-releases  token-permissions  vulnerabilities  \n",
       "count     10080.000000      9983.000000       10080.000000     10080.000000  \n",
       "mean          6.718948        -0.840795           7.869345         9.999405  \n",
       "std           4.696977         0.687656           4.086170         0.050786  \n",
       "min          -1.000000        -1.000000          -1.000000         5.000000  \n",
       "25%           0.000000        -1.000000          10.000000        10.000000  \n",
       "50%          10.000000        -1.000000          10.000000        10.000000  \n",
       "75%          10.000000        -1.000000          10.000000        10.000000  \n",
       "max          10.000000        10.000000          10.000000        10.000000  "
      ]
     },
     "execution_count": 24,
     "metadata": {},
     "output_type": "execute_result"
    }
   ],
   "source": [
    "alldf.describe()"
   ]
  },
  {
   "cell_type": "code",
   "execution_count": null,
   "id": "787e4ab3",
   "metadata": {},
   "outputs": [],
   "source": []
  }
 ],
 "metadata": {
  "kernelspec": {
   "display_name": "Python 3 (ipykernel)",
   "language": "python",
   "name": "python3"
  },
  "language_info": {
   "codemirror_mode": {
    "name": "ipython",
    "version": 3
   },
   "file_extension": ".py",
   "mimetype": "text/x-python",
   "name": "python",
   "nbconvert_exporter": "python",
   "pygments_lexer": "ipython3",
   "version": "3.9.13"
  }
 },
 "nbformat": 4,
 "nbformat_minor": 5
}
