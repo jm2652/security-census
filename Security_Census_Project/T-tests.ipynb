{
 "cells": [
  {
   "cell_type": "code",
   "execution_count": 1,
   "id": "d4d56ff0",
   "metadata": {},
   "outputs": [
    {
     "name": "stdout",
     "output_type": "stream",
     "text": [
      "Setup complete.\n"
     ]
    }
   ],
   "source": [
    "from Score_Setup import *"
   ]
  },
  {
   "cell_type": "code",
   "execution_count": 3,
   "id": "83421892",
   "metadata": {},
   "outputs": [],
   "source": [
    "from scipy.stats import ttest_ind"
   ]
  },
  {
   "cell_type": "markdown",
   "id": "da331f91",
   "metadata": {
    "scrolled": true
   },
   "source": [
    "# T-test comparing each group"
   ]
  },
  {
   "cell_type": "markdown",
   "id": "0c3c4ace",
   "metadata": {},
   "source": [
    "# Create dataframe of T-tests"
   ]
  },
  {
   "cell_type": "code",
   "execution_count": null,
   "id": "01d05677",
   "metadata": {},
   "outputs": [],
   "source": [
    "https://www.statology.org/matplotlib-table/"
   ]
  },
  {
   "cell_type": "code",
   "execution_count": null,
   "id": "84655f31",
   "metadata": {},
   "outputs": [],
   "source": [
    "# Create table"
   ]
  },
  {
   "cell_type": "code",
   "execution_count": null,
   "id": "6aba2558",
   "metadata": {},
   "outputs": [],
   "source": [
    "fig, ax = plt.subplots()\n",
    "\n",
    "#hide the axes\n",
    "fig.patch.set_visible(False)\n",
    "ax.axis('off')\n",
    "ax.axis('tight')\n",
    "\n",
    "#create table\n",
    "table = ax.table(cellText=alldf.values, colLabels=alldf.columns, loc='center')\n",
    "\n",
    "#display table\n",
    "fig.tight_layout()\n",
    "plt.show()"
   ]
  },
  {
   "cell_type": "code",
   "execution_count": null,
   "id": "ba800ba8",
   "metadata": {},
   "outputs": [],
   "source": [
    "alldf.sort_values(\"score\")[0:10]"
   ]
  },
  {
   "cell_type": "code",
   "execution_count": null,
   "id": "4396e44a",
   "metadata": {},
   "outputs": [],
   "source": [
    "cor"
   ]
  },
  {
   "cell_type": "code",
   "execution_count": null,
   "id": "6019b3c5",
   "metadata": {},
   "outputs": [],
   "source": [
    "Huawei = alldf[alldf['Grouping']=='Huawei']\n",
    "Tencent = alldf[alldf['Grouping']=='Tencent']\n",
    "Google = alldf[alldf['Grouping']=='Google']\n",
    "Samsung = alldf[alldf['Grouping']=='Samsung']\n",
    "Microsoft = alldf[alldf['Grouping']=='Microsoft']\n",
    "Apache = alldf[alldf['Grouping']=='Apache']\n",
    "Eclipse = alldf[alldf['Grouping']=='Eclipse']\n",
    "CNCF = alldf[alldf['Grouping']=='CNCF']\n",
    "\n",
    "\n",
    "#perform Welch's t-test\n",
    "# ttest_ind(Huawei['score'], Tencent['score'], equal_var=False)\n",
    "ttest_ind(founds['score'], corps['score'], equal_var=False)"
   ]
  },
  {
   "cell_type": "markdown",
   "id": "d19252a4",
   "metadata": {},
   "source": [
    "# Corporations"
   ]
  },
  {
   "cell_type": "code",
   "execution_count": 6,
   "id": "4d6974c2",
   "metadata": {},
   "outputs": [
    {
     "data": {
      "text/plain": [
       "Ttest_indResult(statistic=3.055338934829096, pvalue=0.0023052036978476963)"
      ]
     },
     "execution_count": 6,
     "metadata": {},
     "output_type": "execute_result"
    }
   ],
   "source": [
    "# Founds vs corps not statistically significant\n",
    "\n",
    "ttest_ind(founds['score'], corps['score'], equal_var=False)"
   ]
  },
  {
   "cell_type": "code",
   "execution_count": 7,
   "id": "014017aa",
   "metadata": {},
   "outputs": [
    {
     "data": {
      "text/plain": [
       "Ttest_indResult(statistic=-5.179248486197421, pvalue=8.235213573824072e-07)"
      ]
     },
     "execution_count": 7,
     "metadata": {},
     "output_type": "execute_result"
    }
   ],
   "source": [
    "ttest_ind(jss['score'], founds['score'], equal_var=False)"
   ]
  },
  {
   "cell_type": "code",
   "execution_count": 24,
   "id": "cffefc7a",
   "metadata": {},
   "outputs": [
    {
     "data": {
      "text/plain": [
       "Ttest_indResult(statistic=1.6710347307332905, pvalue=0.09594005920322227)"
      ]
     },
     "execution_count": 24,
     "metadata": {},
     "output_type": "execute_result"
    }
   ],
   "source": [
    "ttest_ind(Ecos['score'], founds['score'], equal_var=False)"
   ]
  },
  {
   "cell_type": "code",
   "execution_count": 19,
   "id": "5f96eb20",
   "metadata": {},
   "outputs": [
    {
     "data": {
      "text/plain": [
       "Ttest_indResult(statistic=3.055338934829096, pvalue=0.0023052036978476963)"
      ]
     },
     "execution_count": 19,
     "metadata": {},
     "output_type": "execute_result"
    }
   ],
   "source": [
    "ttest_ind(founds['score'], corps['score'], equal_var=False)"
   ]
  },
  {
   "cell_type": "code",
   "execution_count": 25,
   "id": "231c8a1c",
   "metadata": {},
   "outputs": [
    {
     "data": {
      "text/plain": [
       "Ttest_indResult(statistic=3.0586329907979346, pvalue=0.002536879615892754)"
      ]
     },
     "execution_count": 25,
     "metadata": {},
     "output_type": "execute_result"
    }
   ],
   "source": [
    "ttest_ind(Ecos['score'], corps['score'], equal_var=False)"
   ]
  },
  {
   "cell_type": "code",
   "execution_count": 14,
   "id": "1bff38be",
   "metadata": {
    "scrolled": true
   },
   "outputs": [
    {
     "data": {
      "text/plain": [
       "5.449214659685865"
      ]
     },
     "execution_count": 14,
     "metadata": {},
     "output_type": "execute_result"
    }
   ],
   "source": [
    "Ecos.score.mean()"
   ]
  },
  {
   "cell_type": "code",
   "execution_count": 15,
   "id": "fab2b885",
   "metadata": {},
   "outputs": [
    {
     "data": {
      "text/plain": [
       "5.222594654788419"
      ]
     },
     "execution_count": 15,
     "metadata": {},
     "output_type": "execute_result"
    }
   ],
   "source": [
    "corps.score.mean()"
   ]
  },
  {
   "cell_type": "code",
   "execution_count": 8,
   "id": "d860db23",
   "metadata": {},
   "outputs": [
    {
     "data": {
      "text/plain": [
       "Ttest_indResult(statistic=-5.211928842946538, pvalue=6.896206855028429e-07)"
      ]
     },
     "execution_count": 8,
     "metadata": {},
     "output_type": "execute_result"
    }
   ],
   "source": [
    "ttest_ind(pys['score'], CNCF['score'], equal_var=False)"
   ]
  },
  {
   "cell_type": "code",
   "execution_count": 9,
   "id": "c812f3d3",
   "metadata": {},
   "outputs": [
    {
     "data": {
      "text/plain": [
       "6.00531914893617"
      ]
     },
     "execution_count": 9,
     "metadata": {},
     "output_type": "execute_result"
    }
   ],
   "source": [
    "pys.score.mean()"
   ]
  },
  {
   "cell_type": "code",
   "execution_count": 16,
   "id": "294cf70c",
   "metadata": {},
   "outputs": [
    {
     "data": {
      "text/plain": [
       "4.910309278350516"
      ]
     },
     "execution_count": 16,
     "metadata": {},
     "output_type": "execute_result"
    }
   ],
   "source": [
    "jss.score.mean()"
   ]
  },
  {
   "cell_type": "code",
   "execution_count": 13,
   "id": "64d617af",
   "metadata": {},
   "outputs": [
    {
     "data": {
      "text/plain": [
       "5.316501650165017"
      ]
     },
     "execution_count": 13,
     "metadata": {},
     "output_type": "execute_result"
    }
   ],
   "source": [
    "founds.score.mean()"
   ]
  },
  {
   "cell_type": "code",
   "execution_count": 12,
   "id": "a8f10933",
   "metadata": {},
   "outputs": [
    {
     "data": {
      "text/plain": [
       "6.769090909090909"
      ]
     },
     "execution_count": 12,
     "metadata": {},
     "output_type": "execute_result"
    }
   ],
   "source": [
    "CNCF.score.mean()"
   ]
  },
  {
   "cell_type": "code",
   "execution_count": 33,
   "id": "a8e43397",
   "metadata": {},
   "outputs": [
    {
     "data": {
      "text/plain": [
       "Ttest_indResult(statistic=24.5964321413729, pvalue=6.2920342685351025e-87)"
      ]
     },
     "execution_count": 33,
     "metadata": {},
     "output_type": "execute_result"
    }
   ],
   "source": [
    "ttest_ind(US_companies['score'], Asian_companies['score'], equal_var=False)"
   ]
  },
  {
   "cell_type": "code",
   "execution_count": 22,
   "id": "95dfe2ca",
   "metadata": {},
   "outputs": [
    {
     "data": {
      "text/plain": [
       "5.423073186528496"
      ]
     },
     "execution_count": 22,
     "metadata": {},
     "output_type": "execute_result"
    }
   ],
   "source": [
    "US_companies.score.mean()"
   ]
  },
  {
   "cell_type": "code",
   "execution_count": 23,
   "id": "f71f4219",
   "metadata": {},
   "outputs": [
    {
     "data": {
      "text/plain": [
       "4.609732360097324"
      ]
     },
     "execution_count": 23,
     "metadata": {},
     "output_type": "execute_result"
    }
   ],
   "source": [
    "Asian_companies.score.mean()"
   ]
  },
  {
   "cell_type": "code",
   "execution_count": 18,
   "id": "d36d9f8c",
   "metadata": {},
   "outputs": [
    {
     "data": {
      "text/html": [
       "<div>\n",
       "<style scoped>\n",
       "    .dataframe tbody tr th:only-of-type {\n",
       "        vertical-align: middle;\n",
       "    }\n",
       "\n",
       "    .dataframe tbody tr th {\n",
       "        vertical-align: top;\n",
       "    }\n",
       "\n",
       "    .dataframe thead th {\n",
       "        text-align: right;\n",
       "    }\n",
       "</style>\n",
       "<table border=\"1\" class=\"dataframe\">\n",
       "  <thead>\n",
       "    <tr style=\"text-align: right;\">\n",
       "      <th></th>\n",
       "      <th>Unnamed: 0</th>\n",
       "      <th>Grouping</th>\n",
       "      <th>name</th>\n",
       "      <th>score</th>\n",
       "      <th>binary-artifacts</th>\n",
       "      <th>branch-protection</th>\n",
       "      <th>ci-tests</th>\n",
       "      <th>cii-best-practices</th>\n",
       "      <th>code-review</th>\n",
       "      <th>contributors</th>\n",
       "      <th>...</th>\n",
       "      <th>fuzzing</th>\n",
       "      <th>license</th>\n",
       "      <th>maintained</th>\n",
       "      <th>packaging</th>\n",
       "      <th>pinned-dependencies</th>\n",
       "      <th>sast</th>\n",
       "      <th>security-policy</th>\n",
       "      <th>signed-releases</th>\n",
       "      <th>token-permissions</th>\n",
       "      <th>vulnerabilities</th>\n",
       "    </tr>\n",
       "  </thead>\n",
       "  <tbody>\n",
       "    <tr>\n",
       "      <th>0</th>\n",
       "      <td>0</td>\n",
       "      <td>Apache</td>\n",
       "      <td>github.com/apache/royale-asjs</td>\n",
       "      <td>5.6</td>\n",
       "      <td>10</td>\n",
       "      <td>0</td>\n",
       "      <td>-1.0</td>\n",
       "      <td>0</td>\n",
       "      <td>0</td>\n",
       "      <td>10</td>\n",
       "      <td>...</td>\n",
       "      <td>0</td>\n",
       "      <td>10</td>\n",
       "      <td>10</td>\n",
       "      <td>-1.0</td>\n",
       "      <td>10.0</td>\n",
       "      <td>0.0</td>\n",
       "      <td>10</td>\n",
       "      <td>0.0</td>\n",
       "      <td>10</td>\n",
       "      <td>10</td>\n",
       "    </tr>\n",
       "    <tr>\n",
       "      <th>1</th>\n",
       "      <td>1</td>\n",
       "      <td>Apache</td>\n",
       "      <td>github.com/apache/royale-asjs</td>\n",
       "      <td>5.6</td>\n",
       "      <td>10</td>\n",
       "      <td>0</td>\n",
       "      <td>-1.0</td>\n",
       "      <td>0</td>\n",
       "      <td>0</td>\n",
       "      <td>10</td>\n",
       "      <td>...</td>\n",
       "      <td>0</td>\n",
       "      <td>10</td>\n",
       "      <td>10</td>\n",
       "      <td>-1.0</td>\n",
       "      <td>10.0</td>\n",
       "      <td>0.0</td>\n",
       "      <td>10</td>\n",
       "      <td>0.0</td>\n",
       "      <td>10</td>\n",
       "      <td>10</td>\n",
       "    </tr>\n",
       "    <tr>\n",
       "      <th>2</th>\n",
       "      <td>2</td>\n",
       "      <td>Apache</td>\n",
       "      <td>github.com/apache/commons-imaging</td>\n",
       "      <td>7.6</td>\n",
       "      <td>10</td>\n",
       "      <td>0</td>\n",
       "      <td>10.0</td>\n",
       "      <td>0</td>\n",
       "      <td>3</td>\n",
       "      <td>10</td>\n",
       "      <td>...</td>\n",
       "      <td>0</td>\n",
       "      <td>10</td>\n",
       "      <td>10</td>\n",
       "      <td>-1.0</td>\n",
       "      <td>7.0</td>\n",
       "      <td>10.0</td>\n",
       "      <td>10</td>\n",
       "      <td>-1.0</td>\n",
       "      <td>9</td>\n",
       "      <td>10</td>\n",
       "    </tr>\n",
       "    <tr>\n",
       "      <th>3</th>\n",
       "      <td>3</td>\n",
       "      <td>Apache</td>\n",
       "      <td>github.com/apache/mahout</td>\n",
       "      <td>4.1</td>\n",
       "      <td>10</td>\n",
       "      <td>0</td>\n",
       "      <td>0.0</td>\n",
       "      <td>0</td>\n",
       "      <td>2</td>\n",
       "      <td>10</td>\n",
       "      <td>...</td>\n",
       "      <td>0</td>\n",
       "      <td>10</td>\n",
       "      <td>0</td>\n",
       "      <td>-1.0</td>\n",
       "      <td>2.0</td>\n",
       "      <td>0.0</td>\n",
       "      <td>10</td>\n",
       "      <td>-1.0</td>\n",
       "      <td>0</td>\n",
       "      <td>10</td>\n",
       "    </tr>\n",
       "    <tr>\n",
       "      <th>4</th>\n",
       "      <td>4</td>\n",
       "      <td>Apache</td>\n",
       "      <td>github.com/apache/couchdb-meck</td>\n",
       "      <td>4.3</td>\n",
       "      <td>10</td>\n",
       "      <td>0</td>\n",
       "      <td>-1.0</td>\n",
       "      <td>0</td>\n",
       "      <td>0</td>\n",
       "      <td>10</td>\n",
       "      <td>...</td>\n",
       "      <td>0</td>\n",
       "      <td>10</td>\n",
       "      <td>0</td>\n",
       "      <td>-1.0</td>\n",
       "      <td>7.0</td>\n",
       "      <td>0.0</td>\n",
       "      <td>10</td>\n",
       "      <td>-1.0</td>\n",
       "      <td>0</td>\n",
       "      <td>10</td>\n",
       "    </tr>\n",
       "    <tr>\n",
       "      <th>...</th>\n",
       "      <td>...</td>\n",
       "      <td>...</td>\n",
       "      <td>...</td>\n",
       "      <td>...</td>\n",
       "      <td>...</td>\n",
       "      <td>...</td>\n",
       "      <td>...</td>\n",
       "      <td>...</td>\n",
       "      <td>...</td>\n",
       "      <td>...</td>\n",
       "      <td>...</td>\n",
       "      <td>...</td>\n",
       "      <td>...</td>\n",
       "      <td>...</td>\n",
       "      <td>...</td>\n",
       "      <td>...</td>\n",
       "      <td>...</td>\n",
       "      <td>...</td>\n",
       "      <td>...</td>\n",
       "      <td>...</td>\n",
       "      <td>...</td>\n",
       "    </tr>\n",
       "    <tr>\n",
       "      <th>411</th>\n",
       "      <td>411</td>\n",
       "      <td>Apache</td>\n",
       "      <td>github.com/apache/cloudstack-cloudmonkey</td>\n",
       "      <td>5.4</td>\n",
       "      <td>10</td>\n",
       "      <td>3</td>\n",
       "      <td>6.0</td>\n",
       "      <td>0</td>\n",
       "      <td>6</td>\n",
       "      <td>10</td>\n",
       "      <td>...</td>\n",
       "      <td>0</td>\n",
       "      <td>10</td>\n",
       "      <td>0</td>\n",
       "      <td>-1.0</td>\n",
       "      <td>7.0</td>\n",
       "      <td>0.0</td>\n",
       "      <td>10</td>\n",
       "      <td>0.0</td>\n",
       "      <td>10</td>\n",
       "      <td>10</td>\n",
       "    </tr>\n",
       "    <tr>\n",
       "      <th>412</th>\n",
       "      <td>412</td>\n",
       "      <td>Apache</td>\n",
       "      <td>github.com/apache/struts-site</td>\n",
       "      <td>6.2</td>\n",
       "      <td>10</td>\n",
       "      <td>0</td>\n",
       "      <td>6.0</td>\n",
       "      <td>0</td>\n",
       "      <td>3</td>\n",
       "      <td>10</td>\n",
       "      <td>...</td>\n",
       "      <td>0</td>\n",
       "      <td>10</td>\n",
       "      <td>10</td>\n",
       "      <td>-1.0</td>\n",
       "      <td>7.0</td>\n",
       "      <td>0.0</td>\n",
       "      <td>10</td>\n",
       "      <td>-1.0</td>\n",
       "      <td>10</td>\n",
       "      <td>10</td>\n",
       "    </tr>\n",
       "    <tr>\n",
       "      <th>413</th>\n",
       "      <td>413</td>\n",
       "      <td>Apache</td>\n",
       "      <td>github.com/apache/myfaces-extcdi</td>\n",
       "      <td>5.4</td>\n",
       "      <td>10</td>\n",
       "      <td>0</td>\n",
       "      <td>0.0</td>\n",
       "      <td>0</td>\n",
       "      <td>1</td>\n",
       "      <td>10</td>\n",
       "      <td>...</td>\n",
       "      <td>0</td>\n",
       "      <td>10</td>\n",
       "      <td>2</td>\n",
       "      <td>-1.0</td>\n",
       "      <td>10.0</td>\n",
       "      <td>0.0</td>\n",
       "      <td>10</td>\n",
       "      <td>-1.0</td>\n",
       "      <td>10</td>\n",
       "      <td>10</td>\n",
       "    </tr>\n",
       "    <tr>\n",
       "      <th>414</th>\n",
       "      <td>414</td>\n",
       "      <td>Apache</td>\n",
       "      <td>github.com/apache/ace</td>\n",
       "      <td>4.4</td>\n",
       "      <td>0</td>\n",
       "      <td>0</td>\n",
       "      <td>-1.0</td>\n",
       "      <td>0</td>\n",
       "      <td>0</td>\n",
       "      <td>10</td>\n",
       "      <td>...</td>\n",
       "      <td>0</td>\n",
       "      <td>10</td>\n",
       "      <td>0</td>\n",
       "      <td>-1.0</td>\n",
       "      <td>10.0</td>\n",
       "      <td>0.0</td>\n",
       "      <td>10</td>\n",
       "      <td>-1.0</td>\n",
       "      <td>10</td>\n",
       "      <td>10</td>\n",
       "    </tr>\n",
       "    <tr>\n",
       "      <th>415</th>\n",
       "      <td>415</td>\n",
       "      <td>Apache</td>\n",
       "      <td>github.com/apache/couchdb-b64url</td>\n",
       "      <td>5.8</td>\n",
       "      <td>10</td>\n",
       "      <td>3</td>\n",
       "      <td>9.0</td>\n",
       "      <td>0</td>\n",
       "      <td>3</td>\n",
       "      <td>10</td>\n",
       "      <td>...</td>\n",
       "      <td>0</td>\n",
       "      <td>10</td>\n",
       "      <td>0</td>\n",
       "      <td>-1.0</td>\n",
       "      <td>9.0</td>\n",
       "      <td>0.0</td>\n",
       "      <td>10</td>\n",
       "      <td>-1.0</td>\n",
       "      <td>10</td>\n",
       "      <td>10</td>\n",
       "    </tr>\n",
       "  </tbody>\n",
       "</table>\n",
       "<p>416 rows × 22 columns</p>\n",
       "</div>"
      ],
      "text/plain": [
       "     Unnamed: 0 Grouping                                      name  score  \\\n",
       "0             0   Apache             github.com/apache/royale-asjs    5.6   \n",
       "1             1   Apache             github.com/apache/royale-asjs    5.6   \n",
       "2             2   Apache         github.com/apache/commons-imaging    7.6   \n",
       "3             3   Apache                  github.com/apache/mahout    4.1   \n",
       "4             4   Apache            github.com/apache/couchdb-meck    4.3   \n",
       "..          ...      ...                                       ...    ...   \n",
       "411         411   Apache  github.com/apache/cloudstack-cloudmonkey    5.4   \n",
       "412         412   Apache             github.com/apache/struts-site    6.2   \n",
       "413         413   Apache          github.com/apache/myfaces-extcdi    5.4   \n",
       "414         414   Apache                     github.com/apache/ace    4.4   \n",
       "415         415   Apache          github.com/apache/couchdb-b64url    5.8   \n",
       "\n",
       "     binary-artifacts  branch-protection  ci-tests  cii-best-practices  \\\n",
       "0                  10                  0      -1.0                   0   \n",
       "1                  10                  0      -1.0                   0   \n",
       "2                  10                  0      10.0                   0   \n",
       "3                  10                  0       0.0                   0   \n",
       "4                  10                  0      -1.0                   0   \n",
       "..                ...                ...       ...                 ...   \n",
       "411                10                  3       6.0                   0   \n",
       "412                10                  0       6.0                   0   \n",
       "413                10                  0       0.0                   0   \n",
       "414                 0                  0      -1.0                   0   \n",
       "415                10                  3       9.0                   0   \n",
       "\n",
       "     code-review  contributors  ...  fuzzing  license  maintained  packaging  \\\n",
       "0              0            10  ...        0       10          10       -1.0   \n",
       "1              0            10  ...        0       10          10       -1.0   \n",
       "2              3            10  ...        0       10          10       -1.0   \n",
       "3              2            10  ...        0       10           0       -1.0   \n",
       "4              0            10  ...        0       10           0       -1.0   \n",
       "..           ...           ...  ...      ...      ...         ...        ...   \n",
       "411            6            10  ...        0       10           0       -1.0   \n",
       "412            3            10  ...        0       10          10       -1.0   \n",
       "413            1            10  ...        0       10           2       -1.0   \n",
       "414            0            10  ...        0       10           0       -1.0   \n",
       "415            3            10  ...        0       10           0       -1.0   \n",
       "\n",
       "     pinned-dependencies  sast  security-policy  signed-releases  \\\n",
       "0                   10.0   0.0               10              0.0   \n",
       "1                   10.0   0.0               10              0.0   \n",
       "2                    7.0  10.0               10             -1.0   \n",
       "3                    2.0   0.0               10             -1.0   \n",
       "4                    7.0   0.0               10             -1.0   \n",
       "..                   ...   ...              ...              ...   \n",
       "411                  7.0   0.0               10              0.0   \n",
       "412                  7.0   0.0               10             -1.0   \n",
       "413                 10.0   0.0               10             -1.0   \n",
       "414                 10.0   0.0               10             -1.0   \n",
       "415                  9.0   0.0               10             -1.0   \n",
       "\n",
       "     token-permissions  vulnerabilities  \n",
       "0                   10               10  \n",
       "1                   10               10  \n",
       "2                    9               10  \n",
       "3                    0               10  \n",
       "4                    0               10  \n",
       "..                 ...              ...  \n",
       "411                 10               10  \n",
       "412                 10               10  \n",
       "413                 10               10  \n",
       "414                 10               10  \n",
       "415                 10               10  \n",
       "\n",
       "[416 rows x 22 columns]"
      ]
     },
     "execution_count": 18,
     "metadata": {},
     "output_type": "execute_result"
    }
   ],
   "source": [
    "Apache"
   ]
  },
  {
   "cell_type": "markdown",
   "id": "7b4a7f88",
   "metadata": {},
   "source": [
    "# Ecosystems"
   ]
  },
  {
   "cell_type": "code",
   "execution_count": 12,
   "id": "dedbfcee",
   "metadata": {},
   "outputs": [
    {
     "data": {
      "text/plain": [
       "Ttest_indResult(statistic=8.757525702031597, pvalue=1.9935589026073014e-15)"
      ]
     },
     "execution_count": 12,
     "metadata": {},
     "output_type": "execute_result"
    }
   ],
   "source": [
    "ttest_ind(pys['score'], jss['score'], equal_var=False)"
   ]
  },
  {
   "cell_type": "code",
   "execution_count": 15,
   "id": "878cb5e7",
   "metadata": {},
   "outputs": [
    {
     "data": {
      "text/plain": [
       "Ttest_indResult(statistic=7.664934617417783, pvalue=1.5894830519779736e-11)"
      ]
     },
     "execution_count": 15,
     "metadata": {},
     "output_type": "execute_result"
    }
   ],
   "source": [
    "ttest_ind(pys['score'], corps['score'], equal_var=False)"
   ]
  },
  {
   "cell_type": "code",
   "execution_count": 14,
   "id": "59d3546d",
   "metadata": {},
   "outputs": [
    {
     "data": {
      "text/plain": [
       "Ttest_indResult(statistic=7.587978443767017, pvalue=1.3490429577972771e-11)"
      ]
     },
     "execution_count": 14,
     "metadata": {},
     "output_type": "execute_result"
    }
   ],
   "source": [
    "ttest_ind(pys['score'], founds['score'], equal_var=False)"
   ]
  },
  {
   "cell_type": "code",
   "execution_count": 22,
   "id": "016bed6b",
   "metadata": {
    "scrolled": false
   },
   "outputs": [
    {
     "data": {
      "text/plain": [
       "Ttest_indResult(statistic=5.618489310813396, pvalue=7.402452417861541e-08)"
      ]
     },
     "execution_count": 22,
     "metadata": {},
     "output_type": "execute_result"
    }
   ],
   "source": [
    "ttest_ind(Apache['score'], CNCF['score'], equal_var=False)"
   ]
  },
  {
   "cell_type": "code",
   "execution_count": null,
   "id": "daef317a",
   "metadata": {},
   "outputs": [],
   "source": []
  },
  {
   "cell_type": "code",
   "execution_count": 37,
   "id": "990c2b6c",
   "metadata": {},
   "outputs": [
    {
     "data": {
      "text/plain": [
       "4.910309278350516"
      ]
     },
     "execution_count": 37,
     "metadata": {},
     "output_type": "execute_result"
    }
   ],
   "source": [
    "jss.score.mean()"
   ]
  },
  {
   "cell_type": "code",
   "execution_count": 38,
   "id": "3eb46066",
   "metadata": {},
   "outputs": [
    {
     "data": {
      "text/plain": [
       "5.222594654788419"
      ]
     },
     "execution_count": 38,
     "metadata": {},
     "output_type": "execute_result"
    }
   ],
   "source": [
    "corps.score.mean()"
   ]
  },
  {
   "cell_type": "code",
   "execution_count": 39,
   "id": "22836c82",
   "metadata": {},
   "outputs": [
    {
     "data": {
      "text/plain": [
       "5.449214659685865"
      ]
     },
     "execution_count": 39,
     "metadata": {},
     "output_type": "execute_result"
    }
   ],
   "source": [
    "Ecos.score.mean()"
   ]
  },
  {
   "cell_type": "code",
   "execution_count": 40,
   "id": "3db0506c",
   "metadata": {},
   "outputs": [
    {
     "data": {
      "text/plain": [
       "5.207883817427386"
      ]
     },
     "execution_count": 40,
     "metadata": {},
     "output_type": "execute_result"
    }
   ],
   "source": [
    "founds.score.mean()"
   ]
  }
 ],
 "metadata": {
  "kernelspec": {
   "display_name": "Python 3 (ipykernel)",
   "language": "python",
   "name": "python3"
  },
  "language_info": {
   "codemirror_mode": {
    "name": "ipython",
    "version": 3
   },
   "file_extension": ".py",
   "mimetype": "text/x-python",
   "name": "python",
   "nbconvert_exporter": "python",
   "pygments_lexer": "ipython3",
   "version": "3.9.13"
  }
 },
 "nbformat": 4,
 "nbformat_minor": 5
}
